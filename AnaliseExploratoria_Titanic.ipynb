{
  "nbformat": 4,
  "nbformat_minor": 0,
  "metadata": {
    "colab": {
      "name": "AnaliseExploratoria_Titanic.ipynb",
      "provenance": [],
      "collapsed_sections": []
    },
    "kernelspec": {
      "name": "python3",
      "display_name": "Python 3"
    }
  },
  "cells": [
    {
      "cell_type": "markdown",
      "metadata": {
        "id": "b1O9217uiadi"
      },
      "source": [
        "# **Análise exploratória de dados(AED)**\n",
        "#### Este notebook contem uma analise detalhada seguida de **vários modelos de machine learning com o intuito de predizer a quantidade de sobreviventes do titanic**, e ao final, exibir qual modelo teve maior acurácia\n",
        "\n",
        "#### **Resumo do que será feito:** será realizada uma mineração dos dados, depois que os dados estiverem prontos, será feita uma simples predição das idades faltantes, apos isso, dará inicio **as predições de varios modelos para os sobreviventes.**"
      ]
    },
    {
      "cell_type": "code",
      "metadata": {
        "id": "CFdFS3b4FItA"
      },
      "source": [
        "import pandas as pd\n",
        "import matplotlib.pyplot as plt\n",
        "%matplotlib inline\n",
        "import numpy as np\n",
        "import seaborn as sns\n",
        "import warnings\n",
        "warnings.filterwarnings('ignore')"
      ],
      "execution_count": null,
      "outputs": []
    },
    {
      "cell_type": "markdown",
      "metadata": {
        "id": "7N8o6ZufjIM2"
      },
      "source": [
        "# **Lendo dataframe de treino e teste**"
      ]
    },
    {
      "cell_type": "code",
      "metadata": {
        "id": "PDMqJ_vojMHl"
      },
      "source": [
        "train = pd.read_csv('titanic_train.csv')\n",
        "test = pd.read_csv('titanic_test.csv')"
      ],
      "execution_count": null,
      "outputs": []
    },
    {
      "cell_type": "markdown",
      "metadata": {
        "id": "AxTDKSHKjdD_"
      },
      "source": [
        "# **Definindo o id do passageiro como index em ambos os dataframes**"
      ]
    },
    {
      "cell_type": "code",
      "metadata": {
        "id": "uu_ZR-DWjbG0"
      },
      "source": [
        "test.set_index(\"PassengerId\",inplace=True)\n",
        "train.set_index(\"PassengerId\",inplace=True)\n"
      ],
      "execution_count": null,
      "outputs": []
    },
    {
      "cell_type": "markdown",
      "metadata": {
        "id": "3t9bB1gfkyrc"
      },
      "source": [
        "# **Concatenando os dataframes, exbindo o dataframe bruto**"
      ]
    },
    {
      "cell_type": "code",
      "metadata": {
        "id": "t3kPRvg3kGub",
        "outputId": "a15dfbb4-7bae-4bd5-8a24-b62f8bacfcce",
        "colab": {
          "base_uri": "https://localhost:8080/",
          "height": 138
        }
      },
      "source": [
        "df = pd.concat([train, test],sort=True); df_bruto = pd.concat([train,test])\n",
        "df.head(2)"
      ],
      "execution_count": null,
      "outputs": [
        {
          "output_type": "execute_result",
          "data": {
            "text/html": [
              "<div>\n",
              "<style scoped>\n",
              "    .dataframe tbody tr th:only-of-type {\n",
              "        vertical-align: middle;\n",
              "    }\n",
              "\n",
              "    .dataframe tbody tr th {\n",
              "        vertical-align: top;\n",
              "    }\n",
              "\n",
              "    .dataframe thead th {\n",
              "        text-align: right;\n",
              "    }\n",
              "</style>\n",
              "<table border=\"1\" class=\"dataframe\">\n",
              "  <thead>\n",
              "    <tr style=\"text-align: right;\">\n",
              "      <th></th>\n",
              "      <th>Age</th>\n",
              "      <th>Cabin</th>\n",
              "      <th>Embarked</th>\n",
              "      <th>Fare</th>\n",
              "      <th>Name</th>\n",
              "      <th>Parch</th>\n",
              "      <th>Pclass</th>\n",
              "      <th>Sex</th>\n",
              "      <th>SibSp</th>\n",
              "      <th>Survived</th>\n",
              "      <th>Ticket</th>\n",
              "    </tr>\n",
              "    <tr>\n",
              "      <th>PassengerId</th>\n",
              "      <th></th>\n",
              "      <th></th>\n",
              "      <th></th>\n",
              "      <th></th>\n",
              "      <th></th>\n",
              "      <th></th>\n",
              "      <th></th>\n",
              "      <th></th>\n",
              "      <th></th>\n",
              "      <th></th>\n",
              "      <th></th>\n",
              "    </tr>\n",
              "  </thead>\n",
              "  <tbody>\n",
              "    <tr>\n",
              "      <th>1</th>\n",
              "      <td>22.0</td>\n",
              "      <td>NaN</td>\n",
              "      <td>S</td>\n",
              "      <td>7.2500</td>\n",
              "      <td>Braund, Mr. Owen Harris</td>\n",
              "      <td>0</td>\n",
              "      <td>3</td>\n",
              "      <td>male</td>\n",
              "      <td>1</td>\n",
              "      <td>0.0</td>\n",
              "      <td>A/5 21171</td>\n",
              "    </tr>\n",
              "    <tr>\n",
              "      <th>2</th>\n",
              "      <td>38.0</td>\n",
              "      <td>C85</td>\n",
              "      <td>C</td>\n",
              "      <td>71.2833</td>\n",
              "      <td>Cumings, Mrs. John Bradley (Florence Briggs Th...</td>\n",
              "      <td>0</td>\n",
              "      <td>1</td>\n",
              "      <td>female</td>\n",
              "      <td>1</td>\n",
              "      <td>1.0</td>\n",
              "      <td>PC 17599</td>\n",
              "    </tr>\n",
              "  </tbody>\n",
              "</table>\n",
              "</div>"
            ],
            "text/plain": [
              "              Age Cabin Embarked     Fare  ...     Sex  SibSp  Survived     Ticket\n",
              "PassengerId                                ...                                    \n",
              "1            22.0   NaN        S   7.2500  ...    male      1       0.0  A/5 21171\n",
              "2            38.0   C85        C  71.2833  ...  female      1       1.0   PC 17599\n",
              "\n",
              "[2 rows x 11 columns]"
            ]
          },
          "metadata": {
            "tags": []
          },
          "execution_count": 836
        }
      ]
    },
    {
      "cell_type": "markdown",
      "metadata": {
        "id": "LoSOXv79lTxp"
      },
      "source": [
        "# **Traduzindo Colunas**"
      ]
    },
    {
      "cell_type": "code",
      "metadata": {
        "id": "9siliK9xk_4u"
      },
      "source": [
        "\n",
        "df.columns = ['Idade', 'Cabine', 'Embarque', 'Tarifa', 'Nome', 'Pais e Filhos', 'Classe', 'Sexo',\n",
        "       'Irmaos Conjuge', 'Sobreviveu', 'Bilhete']"
      ],
      "execution_count": null,
      "outputs": []
    },
    {
      "cell_type": "markdown",
      "metadata": {
        "id": "VybB5VwxmTJX"
      },
      "source": [
        "# **Traduzindo valores da coluna sexo**"
      ]
    },
    {
      "cell_type": "code",
      "metadata": {
        "id": "aBynqnXqmRNJ"
      },
      "source": [
        "df[\"Sexo\"].replace([\"male\",\"female\"],[\"homem\",\"mulher\"],inplace=True)"
      ],
      "execution_count": null,
      "outputs": []
    },
    {
      "cell_type": "markdown",
      "metadata": {
        "id": "7dJtu0uMoqEZ"
      },
      "source": [
        "#**Verificando dados faltantes**"
      ]
    },
    {
      "cell_type": "code",
      "metadata": {
        "id": "FYw2GtJ5myGA",
        "outputId": "31ac86c5-01ef-4828-ff98-b0f5bf78c9d8",
        "colab": {
          "base_uri": "https://localhost:8080/",
          "height": 235
        }
      },
      "source": [
        "df.isnull().sum()"
      ],
      "execution_count": null,
      "outputs": [
        {
          "output_type": "execute_result",
          "data": {
            "text/plain": [
              "Idade              263\n",
              "Cabine            1014\n",
              "Embarque             2\n",
              "Tarifa               1\n",
              "Nome                 0\n",
              "Pais e Filhos        0\n",
              "Classe               0\n",
              "Sexo                 0\n",
              "Irmaos Conjuge       0\n",
              "Sobreviveu         418\n",
              "Bilhete              0\n",
              "dtype: int64"
            ]
          },
          "metadata": {
            "tags": []
          },
          "execution_count": 839
        }
      ]
    },
    {
      "cell_type": "markdown",
      "metadata": {
        "id": "27h_ILABqpjU"
      },
      "source": [
        "### **Obs:** A cabine tem a maior quantidade de dados faltantes"
      ]
    },
    {
      "cell_type": "markdown",
      "metadata": {
        "id": "mcXCFxDDpIxa"
      },
      "source": [
        "#**Filtrando dados eliminando os inuteis, e alterando/preechendo pequenas porções de dados faltantes**"
      ]
    },
    {
      "cell_type": "code",
      "metadata": {
        "id": "EVxehuRBo20o"
      },
      "source": [
        "df.drop(\"Cabine\",axis=1,inplace=True)\n",
        "df[\"Embarque\"].fillna(df[\"Embarque\"].mode()[0], inplace=True)\n",
        "df[\"Tarifa\"].fillna(df[\"Tarifa\"].mean(), inplace=True)"
      ],
      "execution_count": null,
      "outputs": []
    },
    {
      "cell_type": "markdown",
      "metadata": {
        "id": "igl3Ur6rqi2L"
      },
      "source": [
        "#**Conferindo os dados faltantes depois de minerado**"
      ]
    },
    {
      "cell_type": "code",
      "metadata": {
        "id": "cy71b7twqD3C",
        "outputId": "4175d3d5-2086-4585-a8f5-c3bf6983a5f7",
        "colab": {
          "base_uri": "https://localhost:8080/",
          "height": 217
        }
      },
      "source": [
        "df.isnull().sum()"
      ],
      "execution_count": null,
      "outputs": [
        {
          "output_type": "execute_result",
          "data": {
            "text/plain": [
              "Idade             263\n",
              "Embarque            0\n",
              "Tarifa              0\n",
              "Nome                0\n",
              "Pais e Filhos       0\n",
              "Classe              0\n",
              "Sexo                0\n",
              "Irmaos Conjuge      0\n",
              "Sobreviveu        418\n",
              "Bilhete             0\n",
              "dtype: int64"
            ]
          },
          "metadata": {
            "tags": []
          },
          "execution_count": 841
        }
      ]
    },
    {
      "cell_type": "markdown",
      "metadata": {
        "id": "wv9qGMCEkeGr"
      },
      "source": [
        "# **Agrupamentos**\n",
        "### **Agrupando classe X sobreviveu, agrupando quantidade de sobreviventes por classe**"
      ]
    },
    {
      "cell_type": "code",
      "metadata": {
        "id": "V71K8_g2qJjT",
        "outputId": "aff9d712-6fe2-4a38-d0f6-08ab18bc2114",
        "colab": {
          "base_uri": "https://localhost:8080/",
          "height": 168
        }
      },
      "source": [
        "df[[\"Classe\",\"Sobreviveu\"]].groupby([\"Classe\"]).mean().sort_values(by=\"Sobreviveu\",ascending=False)\n"
      ],
      "execution_count": null,
      "outputs": [
        {
          "output_type": "execute_result",
          "data": {
            "text/html": [
              "<div>\n",
              "<style scoped>\n",
              "    .dataframe tbody tr th:only-of-type {\n",
              "        vertical-align: middle;\n",
              "    }\n",
              "\n",
              "    .dataframe tbody tr th {\n",
              "        vertical-align: top;\n",
              "    }\n",
              "\n",
              "    .dataframe thead th {\n",
              "        text-align: right;\n",
              "    }\n",
              "</style>\n",
              "<table border=\"1\" class=\"dataframe\">\n",
              "  <thead>\n",
              "    <tr style=\"text-align: right;\">\n",
              "      <th></th>\n",
              "      <th>Sobreviveu</th>\n",
              "    </tr>\n",
              "    <tr>\n",
              "      <th>Classe</th>\n",
              "      <th></th>\n",
              "    </tr>\n",
              "  </thead>\n",
              "  <tbody>\n",
              "    <tr>\n",
              "      <th>1</th>\n",
              "      <td>0.629630</td>\n",
              "    </tr>\n",
              "    <tr>\n",
              "      <th>2</th>\n",
              "      <td>0.472826</td>\n",
              "    </tr>\n",
              "    <tr>\n",
              "      <th>3</th>\n",
              "      <td>0.242363</td>\n",
              "    </tr>\n",
              "  </tbody>\n",
              "</table>\n",
              "</div>"
            ],
            "text/plain": [
              "        Sobreviveu\n",
              "Classe            \n",
              "1         0.629630\n",
              "2         0.472826\n",
              "3         0.242363"
            ]
          },
          "metadata": {
            "tags": []
          },
          "execution_count": 842
        }
      ]
    },
    {
      "cell_type": "markdown",
      "metadata": {
        "id": "yyOqpSUJuXO8"
      },
      "source": [
        "#####**Obs: os passageiros da primeira classe são mais propensos a sobreviver, ao contrario da terceira**"
      ]
    },
    {
      "cell_type": "markdown",
      "metadata": {
        "id": "P8GjnFwSmYmj"
      },
      "source": [
        "### **Agrupando sexo X sobreviveu**"
      ]
    },
    {
      "cell_type": "code",
      "metadata": {
        "id": "pCQpEfnDkJVt",
        "outputId": "9ad557a3-9145-470b-ea13-0d984b50eee7",
        "colab": {
          "base_uri": "https://localhost:8080/",
          "height": 138
        }
      },
      "source": [
        "df[[\"Sexo\",\"Sobreviveu\"]].groupby(\"Sexo\").mean().sort_values(by=\"Sobreviveu\", ascending=False)"
      ],
      "execution_count": null,
      "outputs": [
        {
          "output_type": "execute_result",
          "data": {
            "text/html": [
              "<div>\n",
              "<style scoped>\n",
              "    .dataframe tbody tr th:only-of-type {\n",
              "        vertical-align: middle;\n",
              "    }\n",
              "\n",
              "    .dataframe tbody tr th {\n",
              "        vertical-align: top;\n",
              "    }\n",
              "\n",
              "    .dataframe thead th {\n",
              "        text-align: right;\n",
              "    }\n",
              "</style>\n",
              "<table border=\"1\" class=\"dataframe\">\n",
              "  <thead>\n",
              "    <tr style=\"text-align: right;\">\n",
              "      <th></th>\n",
              "      <th>Sobreviveu</th>\n",
              "    </tr>\n",
              "    <tr>\n",
              "      <th>Sexo</th>\n",
              "      <th></th>\n",
              "    </tr>\n",
              "  </thead>\n",
              "  <tbody>\n",
              "    <tr>\n",
              "      <th>mulher</th>\n",
              "      <td>0.742038</td>\n",
              "    </tr>\n",
              "    <tr>\n",
              "      <th>homem</th>\n",
              "      <td>0.188908</td>\n",
              "    </tr>\n",
              "  </tbody>\n",
              "</table>\n",
              "</div>"
            ],
            "text/plain": [
              "        Sobreviveu\n",
              "Sexo              \n",
              "mulher    0.742038\n",
              "homem     0.188908"
            ]
          },
          "metadata": {
            "tags": []
          },
          "execution_count": 843
        }
      ]
    },
    {
      "cell_type": "markdown",
      "metadata": {
        "id": "vogXXrYLtcad"
      },
      "source": [
        "##### **Obs: Como podemos ver, grande parte dos sobreviventes foram do sexo femenino**"
      ]
    },
    {
      "cell_type": "markdown",
      "metadata": {
        "id": "sVkb6aQi5kEe"
      },
      "source": [
        "## **Média de idade por classe**"
      ]
    },
    {
      "cell_type": "code",
      "metadata": {
        "id": "j2gCf3lO5qCs",
        "outputId": "d55165b0-d991-48b3-ab9f-9263dfa5312d",
        "colab": {
          "base_uri": "https://localhost:8080/",
          "height": 168
        }
      },
      "source": [
        "mediaIdadePorClasse = df[[\"Classe\",\"Idade\"]].groupby(\"Classe\").mean()\n",
        "mediaIdadePorClasse[\"Idade\"] =  mediaIdadePorClasse[\"Idade\"].apply(lambda x:f\"{x:.0f}\")\n",
        "mediaIdadePorClasse"
      ],
      "execution_count": null,
      "outputs": [
        {
          "output_type": "execute_result",
          "data": {
            "text/html": [
              "<div>\n",
              "<style scoped>\n",
              "    .dataframe tbody tr th:only-of-type {\n",
              "        vertical-align: middle;\n",
              "    }\n",
              "\n",
              "    .dataframe tbody tr th {\n",
              "        vertical-align: top;\n",
              "    }\n",
              "\n",
              "    .dataframe thead th {\n",
              "        text-align: right;\n",
              "    }\n",
              "</style>\n",
              "<table border=\"1\" class=\"dataframe\">\n",
              "  <thead>\n",
              "    <tr style=\"text-align: right;\">\n",
              "      <th></th>\n",
              "      <th>Idade</th>\n",
              "    </tr>\n",
              "    <tr>\n",
              "      <th>Classe</th>\n",
              "      <th></th>\n",
              "    </tr>\n",
              "  </thead>\n",
              "  <tbody>\n",
              "    <tr>\n",
              "      <th>1</th>\n",
              "      <td>39</td>\n",
              "    </tr>\n",
              "    <tr>\n",
              "      <th>2</th>\n",
              "      <td>30</td>\n",
              "    </tr>\n",
              "    <tr>\n",
              "      <th>3</th>\n",
              "      <td>25</td>\n",
              "    </tr>\n",
              "  </tbody>\n",
              "</table>\n",
              "</div>"
            ],
            "text/plain": [
              "       Idade\n",
              "Classe      \n",
              "1         39\n",
              "2         30\n",
              "3         25"
            ]
          },
          "metadata": {
            "tags": []
          },
          "execution_count": 844
        }
      ]
    },
    {
      "cell_type": "markdown",
      "metadata": {
        "id": "FexuXX5O5slk"
      },
      "source": [
        "##### **Obs: As pessoas da primeira classe eram mais velhas, consequentemente, as da terceira eram mais novas**"
      ]
    },
    {
      "cell_type": "markdown",
      "metadata": {
        "id": "rd0yo9oSoOWI"
      },
      "source": [
        "# **Visualização de dados**\n",
        "### **Grafico de sobrevivência por sexo**"
      ]
    },
    {
      "cell_type": "code",
      "metadata": {
        "id": "rBRrDOlgmmdF",
        "outputId": "a97b4a55-f339-4134-cbe5-6fef2ba9ea17",
        "colab": {
          "base_uri": "https://localhost:8080/",
          "height": 382
        }
      },
      "source": [
        "plt.figure(dpi=100)\n",
        "sns.set_style('whitegrid')\n",
        "sns.countplot(\"Sobreviveu\", hue=\"Sexo\", data=df, palette=\"magma\")\n",
        "plt.show()"
      ],
      "execution_count": null,
      "outputs": [
        {
          "output_type": "display_data",
          "data": {
            "image/png": "[encoded data removed]",
            "text/plain": [
              "<Figure size 600x400 with 1 Axes>"
            ]
          },
          "metadata": {
            "tags": [],
            "needs_background": "light"
          }
        }
      ]
    },
    {
      "cell_type": "markdown",
      "metadata": {
        "id": "_MnljsVUySq1"
      },
      "source": [
        "## **Chance de sobrevivência por porto de embarque**"
      ]
    },
    {
      "cell_type": "code",
      "metadata": {
        "id": "8KFgfStEwxGM",
        "outputId": "e301ebe2-6930-4de5-c618-3b113a15f5c7",
        "colab": {
          "base_uri": "https://localhost:8080/",
          "height": 319
        }
      },
      "source": [
        "sns.catplot('Embarque','Sobreviveu',data=df,kind='point')\n",
        "fig = plt.gcf()\n",
        "fig.set_size_inches(7,4)"
      ],
      "execution_count": null,
      "outputs": [
        {
          "output_type": "display_data",
          "data": {
            "image/png": "[encoded data removed]",
            "text/plain": [
              "<Figure size 504x288 with 1 Axes>"
            ]
          },
          "metadata": {
            "tags": []
          }
        }
      ]
    },
    {
      "cell_type": "markdown",
      "metadata": {
        "id": "OeFMniFDzUZ0"
      },
      "source": [
        "##### **Obs: observamos que quem entrou pelo portão C, teve mais chances de sobrevivência**"
      ]
    },
    {
      "cell_type": "markdown",
      "metadata": {
        "id": "AP1qIM4M3jol"
      },
      "source": [
        "## **Visualizando dados faltantes do dataframe**"
      ]
    },
    {
      "cell_type": "code",
      "metadata": {
        "id": "XZudkMpi0n84",
        "outputId": "6aabbf91-e587-4848-8743-2fa7ef285596",
        "colab": {
          "base_uri": "https://localhost:8080/",
          "height": 507
        }
      },
      "source": [
        "plt.figure(dpi=110)\n",
        "sns.heatmap(df.isnull(),cmap=\"magma\",yticklabels=False)\n",
        "plt.show()"
      ],
      "execution_count": null,
      "outputs": [
        {
          "output_type": "display_data",
          "data": {
            "image/png": "[encoded data removed]",
            "text/plain": [
              "<Figure size 660x440 with 2 Axes>"
            ]
          },
          "metadata": {
            "tags": []
          }
        }
      ]
    },
    {
      "cell_type": "markdown",
      "metadata": {
        "id": "X9RROAWy6Wxo"
      },
      "source": [
        "# **Engenharia de recursos**\n",
        "### **Descobrindo titulo das pessoas pelo nome**"
      ]
    },
    {
      "cell_type": "code",
      "metadata": {
        "id": "BMbMl_-o22zV"
      },
      "source": [
        "df[\"Titulo\"] = df[\"Nome\"].str.extract(r\",\\s([a-zA-Z]+)\\.\")\n",
        "df[\"Titulo\"] = df[\"Titulo\"].apply(lambda x:x if x in \"Mr Miss Mrs Master\".split() else \"Outros\")"
      ],
      "execution_count": null,
      "outputs": []
    },
    {
      "cell_type": "markdown",
      "metadata": {
        "id": "yZwyUtir8xVI"
      },
      "source": [
        "### **Traduzindo titulos**"
      ]
    },
    {
      "cell_type": "code",
      "metadata": {
        "id": "UPIoTw-66vt_"
      },
      "source": [
        "df[\"Titulo\"].replace(\"Mr Miss Mrs Master\".split(), \"HomemAdulto Solteira Casada Menino\".split(), inplace=True)"
      ],
      "execution_count": null,
      "outputs": []
    },
    {
      "cell_type": "markdown",
      "metadata": {
        "id": "64HObtLB_dxD"
      },
      "source": [
        "### **Pegando sobrenome dos passageiros para idenetificar possiveis familiares**"
      ]
    },
    {
      "cell_type": "code",
      "metadata": {
        "id": "cV424yCz9ks9"
      },
      "source": [
        "df[\"Clan\"] = df.Nome.apply(lambda x:x.split(\",\")[0])\n"
      ],
      "execution_count": null,
      "outputs": []
    },
    {
      "cell_type": "markdown",
      "metadata": {
        "id": "pQGtdDDfsfKa"
      },
      "source": [
        "## **Possiveis familias**"
      ]
    },
    {
      "cell_type": "code",
      "metadata": {
        "id": "oEPLqnDS_5Dc",
        "outputId": "0c3783a0-74d0-4baf-a3aa-ee8768d460cf",
        "colab": {
          "base_uri": "https://localhost:8080/",
          "height": 254
        }
      },
      "source": [
        "df.groupby([\"Clan\"])[\"Nome\"].count().sort_values(ascending=False)"
      ],
      "execution_count": null,
      "outputs": [
        {
          "output_type": "execute_result",
          "data": {
            "text/plain": [
              "Clan\n",
              "Sage         11\n",
              "Andersson    11\n",
              "Asplund       8\n",
              "Goodwin       8\n",
              "Davies        7\n",
              "             ..\n",
              "Moutal        1\n",
              "Moussa        1\n",
              "Moss          1\n",
              "Morrow        1\n",
              "Abbing        1\n",
              "Name: Nome, Length: 875, dtype: int64"
            ]
          },
          "metadata": {
            "tags": []
          },
          "execution_count": 851
        }
      ]
    },
    {
      "cell_type": "markdown",
      "metadata": {
        "id": "b9Qgg_xeEtZw"
      },
      "source": [
        "### **Verificando Parentesco baseado  no sobrenome(Clan) e o bilhete**\n",
        "##### **Verificando as possiveis maiores familias a bordo e sua taxa de sobrevivencia**\n",
        "###### **Começando pela familia andersson**"
      ]
    },
    {
      "cell_type": "code",
      "metadata": {
        "id": "ly3QbiiVB4OC",
        "outputId": "60faa26d-b716-4ca9-c820-af79a5eaf8fb",
        "colab": {
          "base_uri": "https://localhost:8080/",
          "height": 348
        }
      },
      "source": [
        "clanAndersson = df[[\"Sobreviveu\",\"Classe\",\"Titulo\",\"Nome\",\"Clan\",\"Bilhete\",\"Embarque\"]].loc[(df['Clan'] == \"Andersson\")].dropna()\n",
        "clanAndersson"
      ],
      "execution_count": null,
      "outputs": [
        {
          "output_type": "execute_result",
          "data": {
            "text/html": [
              "<div>\n",
              "<style scoped>\n",
              "    .dataframe tbody tr th:only-of-type {\n",
              "        vertical-align: middle;\n",
              "    }\n",
              "\n",
              "    .dataframe tbody tr th {\n",
              "        vertical-align: top;\n",
              "    }\n",
              "\n",
              "    .dataframe thead th {\n",
              "        text-align: right;\n",
              "    }\n",
              "</style>\n",
              "<table border=\"1\" class=\"dataframe\">\n",
              "  <thead>\n",
              "    <tr style=\"text-align: right;\">\n",
              "      <th></th>\n",
              "      <th>Sobreviveu</th>\n",
              "      <th>Classe</th>\n",
              "      <th>Titulo</th>\n",
              "      <th>Nome</th>\n",
              "      <th>Clan</th>\n",
              "      <th>Bilhete</th>\n",
              "      <th>Embarque</th>\n",
              "    </tr>\n",
              "    <tr>\n",
              "      <th>PassengerId</th>\n",
              "      <th></th>\n",
              "      <th></th>\n",
              "      <th></th>\n",
              "      <th></th>\n",
              "      <th></th>\n",
              "      <th></th>\n",
              "      <th></th>\n",
              "    </tr>\n",
              "  </thead>\n",
              "  <tbody>\n",
              "    <tr>\n",
              "      <th>14</th>\n",
              "      <td>0.0</td>\n",
              "      <td>3</td>\n",
              "      <td>HomemAdulto</td>\n",
              "      <td>Andersson, Mr. Anders Johan</td>\n",
              "      <td>Andersson</td>\n",
              "      <td>347082</td>\n",
              "      <td>S</td>\n",
              "    </tr>\n",
              "    <tr>\n",
              "      <th>69</th>\n",
              "      <td>1.0</td>\n",
              "      <td>3</td>\n",
              "      <td>Solteira</td>\n",
              "      <td>Andersson, Miss. Erna Alexandra</td>\n",
              "      <td>Andersson</td>\n",
              "      <td>3101281</td>\n",
              "      <td>S</td>\n",
              "    </tr>\n",
              "    <tr>\n",
              "      <th>120</th>\n",
              "      <td>0.0</td>\n",
              "      <td>3</td>\n",
              "      <td>Solteira</td>\n",
              "      <td>Andersson, Miss. Ellis Anna Maria</td>\n",
              "      <td>Andersson</td>\n",
              "      <td>347082</td>\n",
              "      <td>S</td>\n",
              "    </tr>\n",
              "    <tr>\n",
              "      <th>147</th>\n",
              "      <td>1.0</td>\n",
              "      <td>3</td>\n",
              "      <td>HomemAdulto</td>\n",
              "      <td>Andersson, Mr. August Edvard (\"Wennerstrom\")</td>\n",
              "      <td>Andersson</td>\n",
              "      <td>350043</td>\n",
              "      <td>S</td>\n",
              "    </tr>\n",
              "    <tr>\n",
              "      <th>542</th>\n",
              "      <td>0.0</td>\n",
              "      <td>3</td>\n",
              "      <td>Solteira</td>\n",
              "      <td>Andersson, Miss. Ingeborg Constanzia</td>\n",
              "      <td>Andersson</td>\n",
              "      <td>347082</td>\n",
              "      <td>S</td>\n",
              "    </tr>\n",
              "    <tr>\n",
              "      <th>543</th>\n",
              "      <td>0.0</td>\n",
              "      <td>3</td>\n",
              "      <td>Solteira</td>\n",
              "      <td>Andersson, Miss. Sigrid Elisabeth</td>\n",
              "      <td>Andersson</td>\n",
              "      <td>347082</td>\n",
              "      <td>S</td>\n",
              "    </tr>\n",
              "    <tr>\n",
              "      <th>611</th>\n",
              "      <td>0.0</td>\n",
              "      <td>3</td>\n",
              "      <td>Casada</td>\n",
              "      <td>Andersson, Mrs. Anders Johan (Alfrida Konstant...</td>\n",
              "      <td>Andersson</td>\n",
              "      <td>347082</td>\n",
              "      <td>S</td>\n",
              "    </tr>\n",
              "    <tr>\n",
              "      <th>814</th>\n",
              "      <td>0.0</td>\n",
              "      <td>3</td>\n",
              "      <td>Solteira</td>\n",
              "      <td>Andersson, Miss. Ebba Iris Alfrida</td>\n",
              "      <td>Andersson</td>\n",
              "      <td>347082</td>\n",
              "      <td>S</td>\n",
              "    </tr>\n",
              "    <tr>\n",
              "      <th>851</th>\n",
              "      <td>0.0</td>\n",
              "      <td>3</td>\n",
              "      <td>Menino</td>\n",
              "      <td>Andersson, Master. Sigvard Harald Elias</td>\n",
              "      <td>Andersson</td>\n",
              "      <td>347082</td>\n",
              "      <td>S</td>\n",
              "    </tr>\n",
              "  </tbody>\n",
              "</table>\n",
              "</div>"
            ],
            "text/plain": [
              "             Sobreviveu  Classe       Titulo  ...       Clan  Bilhete Embarque\n",
              "PassengerId                                   ...                             \n",
              "14                  0.0       3  HomemAdulto  ...  Andersson   347082        S\n",
              "69                  1.0       3     Solteira  ...  Andersson  3101281        S\n",
              "120                 0.0       3     Solteira  ...  Andersson   347082        S\n",
              "147                 1.0       3  HomemAdulto  ...  Andersson   350043        S\n",
              "542                 0.0       3     Solteira  ...  Andersson   347082        S\n",
              "543                 0.0       3     Solteira  ...  Andersson   347082        S\n",
              "611                 0.0       3       Casada  ...  Andersson   347082        S\n",
              "814                 0.0       3     Solteira  ...  Andersson   347082        S\n",
              "851                 0.0       3       Menino  ...  Andersson   347082        S\n",
              "\n",
              "[9 rows x 7 columns]"
            ]
          },
          "metadata": {
            "tags": []
          },
          "execution_count": 852
        }
      ]
    },
    {
      "cell_type": "markdown",
      "metadata": {
        "id": "lKkfHxdCMwff"
      },
      "source": [
        "# **Visualizando sobreviventes do clã Andersson por bilhetes**"
      ]
    },
    {
      "cell_type": "code",
      "metadata": {
        "id": "9R_sV0m-IhQc",
        "outputId": "bda29a46-5e1b-4f12-8677-ec6999b1bebb",
        "colab": {
          "base_uri": "https://localhost:8080/",
          "height": 382
        }
      },
      "source": [
        "plt.figure(dpi=100)\n",
        "sns.set_style(\"whitegrid\")\n",
        "sns.countplot(\"Bilhete\",data=clanAndersson,hue=\"Sobreviveu\", palette=\"magma\")\n",
        "plt.ylabel(\"Pessoas\")\n",
        "plt.show()"
      ],
      "execution_count": null,
      "outputs": [
        {
          "output_type": "display_data",
          "data": {
            "image/png": "[encoded data removed]",
            "text/plain": [
              "<Figure size 600x400 with 1 Axes>"
            ]
          },
          "metadata": {
            "tags": []
          }
        }
      ]
    },
    {
      "cell_type": "markdown",
      "metadata": {
        "id": "E597RsRoHXi4"
      },
      "source": [
        "##### **Obs: Verificamos que haviam 7 pessoas da familia Andersson com o mesmo bilhete, e todos nao sobreviveram**\n",
        "##### **Obs 2: Tambem foi verificado que todos do clan Andersson entraram pelo portão S e sao da terceira classe**\n",
        "# **Clã Sage**"
      ]
    },
    {
      "cell_type": "code",
      "metadata": {
        "id": "dKJuQQnDC-NU",
        "outputId": "2be23bb1-f52d-4b0d-9c38-abfef4b91523",
        "colab": {
          "base_uri": "https://localhost:8080/",
          "height": 288
        }
      },
      "source": [
        "clanSage = df[[\"Sobreviveu\",\"Classe\",\"Titulo\",\"Nome\",\"Clan\",\"Bilhete\",\"Embarque\"]].loc[(df['Clan'] == \"Sage\")].dropna()\n",
        "clanSage"
      ],
      "execution_count": null,
      "outputs": [
        {
          "output_type": "execute_result",
          "data": {
            "text/html": [
              "<div>\n",
              "<style scoped>\n",
              "    .dataframe tbody tr th:only-of-type {\n",
              "        vertical-align: middle;\n",
              "    }\n",
              "\n",
              "    .dataframe tbody tr th {\n",
              "        vertical-align: top;\n",
              "    }\n",
              "\n",
              "    .dataframe thead th {\n",
              "        text-align: right;\n",
              "    }\n",
              "</style>\n",
              "<table border=\"1\" class=\"dataframe\">\n",
              "  <thead>\n",
              "    <tr style=\"text-align: right;\">\n",
              "      <th></th>\n",
              "      <th>Sobreviveu</th>\n",
              "      <th>Classe</th>\n",
              "      <th>Titulo</th>\n",
              "      <th>Nome</th>\n",
              "      <th>Clan</th>\n",
              "      <th>Bilhete</th>\n",
              "      <th>Embarque</th>\n",
              "    </tr>\n",
              "    <tr>\n",
              "      <th>PassengerId</th>\n",
              "      <th></th>\n",
              "      <th></th>\n",
              "      <th></th>\n",
              "      <th></th>\n",
              "      <th></th>\n",
              "      <th></th>\n",
              "      <th></th>\n",
              "    </tr>\n",
              "  </thead>\n",
              "  <tbody>\n",
              "    <tr>\n",
              "      <th>160</th>\n",
              "      <td>0.0</td>\n",
              "      <td>3</td>\n",
              "      <td>Menino</td>\n",
              "      <td>Sage, Master. Thomas Henry</td>\n",
              "      <td>Sage</td>\n",
              "      <td>CA. 2343</td>\n",
              "      <td>S</td>\n",
              "    </tr>\n",
              "    <tr>\n",
              "      <th>181</th>\n",
              "      <td>0.0</td>\n",
              "      <td>3</td>\n",
              "      <td>Solteira</td>\n",
              "      <td>Sage, Miss. Constance Gladys</td>\n",
              "      <td>Sage</td>\n",
              "      <td>CA. 2343</td>\n",
              "      <td>S</td>\n",
              "    </tr>\n",
              "    <tr>\n",
              "      <th>202</th>\n",
              "      <td>0.0</td>\n",
              "      <td>3</td>\n",
              "      <td>HomemAdulto</td>\n",
              "      <td>Sage, Mr. Frederick</td>\n",
              "      <td>Sage</td>\n",
              "      <td>CA. 2343</td>\n",
              "      <td>S</td>\n",
              "    </tr>\n",
              "    <tr>\n",
              "      <th>325</th>\n",
              "      <td>0.0</td>\n",
              "      <td>3</td>\n",
              "      <td>HomemAdulto</td>\n",
              "      <td>Sage, Mr. George John Jr</td>\n",
              "      <td>Sage</td>\n",
              "      <td>CA. 2343</td>\n",
              "      <td>S</td>\n",
              "    </tr>\n",
              "    <tr>\n",
              "      <th>793</th>\n",
              "      <td>0.0</td>\n",
              "      <td>3</td>\n",
              "      <td>Solteira</td>\n",
              "      <td>Sage, Miss. Stella Anna</td>\n",
              "      <td>Sage</td>\n",
              "      <td>CA. 2343</td>\n",
              "      <td>S</td>\n",
              "    </tr>\n",
              "    <tr>\n",
              "      <th>847</th>\n",
              "      <td>0.0</td>\n",
              "      <td>3</td>\n",
              "      <td>HomemAdulto</td>\n",
              "      <td>Sage, Mr. Douglas Bullen</td>\n",
              "      <td>Sage</td>\n",
              "      <td>CA. 2343</td>\n",
              "      <td>S</td>\n",
              "    </tr>\n",
              "    <tr>\n",
              "      <th>864</th>\n",
              "      <td>0.0</td>\n",
              "      <td>3</td>\n",
              "      <td>Solteira</td>\n",
              "      <td>Sage, Miss. Dorothy Edith \"Dolly\"</td>\n",
              "      <td>Sage</td>\n",
              "      <td>CA. 2343</td>\n",
              "      <td>S</td>\n",
              "    </tr>\n",
              "  </tbody>\n",
              "</table>\n",
              "</div>"
            ],
            "text/plain": [
              "             Sobreviveu  Classe       Titulo  ...  Clan   Bilhete Embarque\n",
              "PassengerId                                   ...                         \n",
              "160                 0.0       3       Menino  ...  Sage  CA. 2343        S\n",
              "181                 0.0       3     Solteira  ...  Sage  CA. 2343        S\n",
              "202                 0.0       3  HomemAdulto  ...  Sage  CA. 2343        S\n",
              "325                 0.0       3  HomemAdulto  ...  Sage  CA. 2343        S\n",
              "793                 0.0       3     Solteira  ...  Sage  CA. 2343        S\n",
              "847                 0.0       3  HomemAdulto  ...  Sage  CA. 2343        S\n",
              "864                 0.0       3     Solteira  ...  Sage  CA. 2343        S\n",
              "\n",
              "[7 rows x 7 columns]"
            ]
          },
          "metadata": {
            "tags": []
          },
          "execution_count": 854
        }
      ]
    },
    {
      "cell_type": "markdown",
      "metadata": {
        "id": "PljwUtEvOGyR"
      },
      "source": [
        "##### **Obs: Verificamos que todos da familia Sage possuiam o mesmo bilhete, e todos nao sobreviveram**\n",
        "##### **Obs 2: Tambem foi verificado que todos do clan Sage entraram pelo portão S e sao da terceira classe**"
      ]
    },
    {
      "cell_type": "markdown",
      "metadata": {
        "id": "eHfWIXTK1rd_"
      },
      "source": [
        "  # **Iniciando primeiro modelo preditivo para a idade**\n",
        "  ### Verificando dados categóricos para converter pra dummy values, e eliminando colunas desnecessarias para o modelo"
      ]
    },
    {
      "cell_type": "code",
      "metadata": {
        "id": "akUf5dt81sHY",
        "outputId": "c285d65b-44bb-48b1-953f-e4874afb1e7e",
        "colab": {
          "base_uri": "https://localhost:8080/",
          "height": 190
        }
      },
      "source": [
        "df.head(2)"
      ],
      "execution_count": null,
      "outputs": [
        {
          "output_type": "execute_result",
          "data": {
            "text/html": [
              "<div>\n",
              "<style scoped>\n",
              "    .dataframe tbody tr th:only-of-type {\n",
              "        vertical-align: middle;\n",
              "    }\n",
              "\n",
              "    .dataframe tbody tr th {\n",
              "        vertical-align: top;\n",
              "    }\n",
              "\n",
              "    .dataframe thead th {\n",
              "        text-align: right;\n",
              "    }\n",
              "</style>\n",
              "<table border=\"1\" class=\"dataframe\">\n",
              "  <thead>\n",
              "    <tr style=\"text-align: right;\">\n",
              "      <th></th>\n",
              "      <th>Idade</th>\n",
              "      <th>Embarque</th>\n",
              "      <th>Tarifa</th>\n",
              "      <th>Nome</th>\n",
              "      <th>Pais e Filhos</th>\n",
              "      <th>Classe</th>\n",
              "      <th>Sexo</th>\n",
              "      <th>Irmaos Conjuge</th>\n",
              "      <th>Sobreviveu</th>\n",
              "      <th>Bilhete</th>\n",
              "      <th>Titulo</th>\n",
              "      <th>Clan</th>\n",
              "    </tr>\n",
              "    <tr>\n",
              "      <th>PassengerId</th>\n",
              "      <th></th>\n",
              "      <th></th>\n",
              "      <th></th>\n",
              "      <th></th>\n",
              "      <th></th>\n",
              "      <th></th>\n",
              "      <th></th>\n",
              "      <th></th>\n",
              "      <th></th>\n",
              "      <th></th>\n",
              "      <th></th>\n",
              "      <th></th>\n",
              "    </tr>\n",
              "  </thead>\n",
              "  <tbody>\n",
              "    <tr>\n",
              "      <th>1</th>\n",
              "      <td>22.0</td>\n",
              "      <td>S</td>\n",
              "      <td>7.2500</td>\n",
              "      <td>Braund, Mr. Owen Harris</td>\n",
              "      <td>0</td>\n",
              "      <td>3</td>\n",
              "      <td>homem</td>\n",
              "      <td>1</td>\n",
              "      <td>0.0</td>\n",
              "      <td>A/5 21171</td>\n",
              "      <td>HomemAdulto</td>\n",
              "      <td>Braund</td>\n",
              "    </tr>\n",
              "    <tr>\n",
              "      <th>2</th>\n",
              "      <td>38.0</td>\n",
              "      <td>C</td>\n",
              "      <td>71.2833</td>\n",
              "      <td>Cumings, Mrs. John Bradley (Florence Briggs Th...</td>\n",
              "      <td>0</td>\n",
              "      <td>1</td>\n",
              "      <td>mulher</td>\n",
              "      <td>1</td>\n",
              "      <td>1.0</td>\n",
              "      <td>PC 17599</td>\n",
              "      <td>Casada</td>\n",
              "      <td>Cumings</td>\n",
              "    </tr>\n",
              "  </tbody>\n",
              "</table>\n",
              "</div>"
            ],
            "text/plain": [
              "             Idade Embarque   Tarifa  ...    Bilhete       Titulo     Clan\n",
              "PassengerId                           ...                                 \n",
              "1             22.0        S   7.2500  ...  A/5 21171  HomemAdulto   Braund\n",
              "2             38.0        C  71.2833  ...   PC 17599       Casada  Cumings\n",
              "\n",
              "[2 rows x 12 columns]"
            ]
          },
          "metadata": {
            "tags": []
          },
          "execution_count": 855
        }
      ]
    },
    {
      "cell_type": "markdown",
      "metadata": {
        "id": "qTWB48G44z7C"
      },
      "source": [
        "## **Convertendo para Dummy**\n",
        "\n"
      ]
    },
    {
      "cell_type": "code",
      "metadata": {
        "id": "jLpGLqmq5Bz4"
      },
      "source": [
        "dfDummy = pd.get_dummies(df, columns=[\"Embarque\",\"Classe\",\"Titulo\"], drop_first=True)\n",
        "dfDummy[\"Sexo\"].replace(\"homem mulher\".split(),[0,1], inplace=True)"
      ],
      "execution_count": null,
      "outputs": []
    },
    {
      "cell_type": "code",
      "metadata": {
        "id": "GxAm4SS9BCO4",
        "outputId": "4a55cac1-6677-4b85-c92d-36deeb6c678c",
        "colab": {
          "base_uri": "https://localhost:8080/",
          "height": 185
        }
      },
      "source": [
        "dfDummy.drop([\"Nome\",\"Bilhete\",\"Clan\",\"Sobreviveu\",],axis=1,inplace=True)\n",
        "dfDummy.head(3)\n"
      ],
      "execution_count": null,
      "outputs": [
        {
          "output_type": "execute_result",
          "data": {
            "text/html": [
              "<div>\n",
              "<style scoped>\n",
              "    .dataframe tbody tr th:only-of-type {\n",
              "        vertical-align: middle;\n",
              "    }\n",
              "\n",
              "    .dataframe tbody tr th {\n",
              "        vertical-align: top;\n",
              "    }\n",
              "\n",
              "    .dataframe thead th {\n",
              "        text-align: right;\n",
              "    }\n",
              "</style>\n",
              "<table border=\"1\" class=\"dataframe\">\n",
              "  <thead>\n",
              "    <tr style=\"text-align: right;\">\n",
              "      <th></th>\n",
              "      <th>Idade</th>\n",
              "      <th>Tarifa</th>\n",
              "      <th>Pais e Filhos</th>\n",
              "      <th>Sexo</th>\n",
              "      <th>Irmaos Conjuge</th>\n",
              "      <th>Embarque_Q</th>\n",
              "      <th>Embarque_S</th>\n",
              "      <th>Classe_2</th>\n",
              "      <th>Classe_3</th>\n",
              "      <th>Titulo_HomemAdulto</th>\n",
              "      <th>Titulo_Menino</th>\n",
              "      <th>Titulo_Outros</th>\n",
              "      <th>Titulo_Solteira</th>\n",
              "    </tr>\n",
              "    <tr>\n",
              "      <th>PassengerId</th>\n",
              "      <th></th>\n",
              "      <th></th>\n",
              "      <th></th>\n",
              "      <th></th>\n",
              "      <th></th>\n",
              "      <th></th>\n",
              "      <th></th>\n",
              "      <th></th>\n",
              "      <th></th>\n",
              "      <th></th>\n",
              "      <th></th>\n",
              "      <th></th>\n",
              "      <th></th>\n",
              "    </tr>\n",
              "  </thead>\n",
              "  <tbody>\n",
              "    <tr>\n",
              "      <th>1</th>\n",
              "      <td>22.0</td>\n",
              "      <td>7.2500</td>\n",
              "      <td>0</td>\n",
              "      <td>0</td>\n",
              "      <td>1</td>\n",
              "      <td>0</td>\n",
              "      <td>1</td>\n",
              "      <td>0</td>\n",
              "      <td>1</td>\n",
              "      <td>1</td>\n",
              "      <td>0</td>\n",
              "      <td>0</td>\n",
              "      <td>0</td>\n",
              "    </tr>\n",
              "    <tr>\n",
              "      <th>2</th>\n",
              "      <td>38.0</td>\n",
              "      <td>71.2833</td>\n",
              "      <td>0</td>\n",
              "      <td>1</td>\n",
              "      <td>1</td>\n",
              "      <td>0</td>\n",
              "      <td>0</td>\n",
              "      <td>0</td>\n",
              "      <td>0</td>\n",
              "      <td>0</td>\n",
              "      <td>0</td>\n",
              "      <td>0</td>\n",
              "      <td>0</td>\n",
              "    </tr>\n",
              "    <tr>\n",
              "      <th>3</th>\n",
              "      <td>26.0</td>\n",
              "      <td>7.9250</td>\n",
              "      <td>0</td>\n",
              "      <td>1</td>\n",
              "      <td>0</td>\n",
              "      <td>0</td>\n",
              "      <td>1</td>\n",
              "      <td>0</td>\n",
              "      <td>1</td>\n",
              "      <td>0</td>\n",
              "      <td>0</td>\n",
              "      <td>0</td>\n",
              "      <td>1</td>\n",
              "    </tr>\n",
              "  </tbody>\n",
              "</table>\n",
              "</div>"
            ],
            "text/plain": [
              "             Idade   Tarifa  ...  Titulo_Outros  Titulo_Solteira\n",
              "PassengerId                  ...                                \n",
              "1             22.0   7.2500  ...              0                0\n",
              "2             38.0  71.2833  ...              0                0\n",
              "3             26.0   7.9250  ...              0                1\n",
              "\n",
              "[3 rows x 13 columns]"
            ]
          },
          "metadata": {
            "tags": []
          },
          "execution_count": 857
        }
      ]
    },
    {
      "cell_type": "markdown",
      "metadata": {
        "id": "ldXAr13vDEJS"
      },
      "source": [
        "# **Separando train e test para idade**\n",
        "#### *Treinar com dados nao nulos\n",
        "#### *Aplicar modelo em dados nulos\n"
      ]
    },
    {
      "cell_type": "code",
      "metadata": {
        "id": "XGWIhfEIDEe1",
        "outputId": "aab96a99-2a1e-4101-89c9-b7f42d2db69b",
        "colab": {
          "base_uri": "https://localhost:8080/",
          "height": 272
        }
      },
      "source": [
        "dfDummy.isnull().sum()"
      ],
      "execution_count": null,
      "outputs": [
        {
          "output_type": "execute_result",
          "data": {
            "text/plain": [
              "Idade                 263\n",
              "Tarifa                  0\n",
              "Pais e Filhos           0\n",
              "Sexo                    0\n",
              "Irmaos Conjuge          0\n",
              "Embarque_Q              0\n",
              "Embarque_S              0\n",
              "Classe_2                0\n",
              "Classe_3                0\n",
              "Titulo_HomemAdulto      0\n",
              "Titulo_Menino           0\n",
              "Titulo_Outros           0\n",
              "Titulo_Solteira         0\n",
              "dtype: int64"
            ]
          },
          "metadata": {
            "tags": []
          },
          "execution_count": 858
        }
      ]
    },
    {
      "cell_type": "code",
      "metadata": {
        "id": "v9bn42hiGtLg"
      },
      "source": [
        "train_idade = dfDummy.dropna()\n",
        "test_idade = dfDummy[dfDummy['Idade'].isnull()].drop(\"Idade\",axis=1)"
      ],
      "execution_count": null,
      "outputs": []
    },
    {
      "cell_type": "markdown",
      "metadata": {
        "id": "KKgNzOxMINop"
      },
      "source": [
        "# **Definindo X e y para treinar modelo**"
      ]
    },
    {
      "cell_type": "code",
      "metadata": {
        "id": "SkkbnNXuIp2i"
      },
      "source": [
        "X = train_idade.drop(\"Idade\",axis=1)\n",
        "y = train_idade[\"Idade\"]"
      ],
      "execution_count": null,
      "outputs": []
    },
    {
      "cell_type": "code",
      "metadata": {
        "id": "iN6MIkDuJ7Wb",
        "outputId": "95a0631e-dcdd-41a3-de64-49a1b9a2f1ee",
        "colab": {
          "base_uri": "https://localhost:8080/",
          "height": 35
        }
      },
      "source": [
        "X.shape, y.shape"
      ],
      "execution_count": null,
      "outputs": [
        {
          "output_type": "execute_result",
          "data": {
            "text/plain": [
              "((1046, 12), (1046,))"
            ]
          },
          "metadata": {
            "tags": []
          },
          "execution_count": 861
        }
      ]
    },
    {
      "cell_type": "markdown",
      "metadata": {
        "id": "rAJR-UHfMD5r"
      },
      "source": [
        "## **Importar e instanciar modelo regressivo**"
      ]
    },
    {
      "cell_type": "code",
      "metadata": {
        "id": "ukqFSYAfMBfu"
      },
      "source": [
        "from sklearn import linear_model\n",
        "lm = linear_model.LinearRegression()"
      ],
      "execution_count": null,
      "outputs": []
    },
    {
      "cell_type": "markdown",
      "metadata": {
        "id": "Qwhgh76vMklW"
      },
      "source": [
        "## **Efetuando treino**\n",
        "#### Distribuindo 70% para treino e 30% para test"
      ]
    },
    {
      "cell_type": "code",
      "metadata": {
        "id": "-z05NottMwaA"
      },
      "source": [
        "from sklearn.model_selection import train_test_split\n",
        "Xtrain, Xtest, ytrain, ytest = train_test_split(X, y, test_size=0.30, random_state=123)"
      ],
      "execution_count": null,
      "outputs": []
    },
    {
      "cell_type": "code",
      "metadata": {
        "id": "K57nvO15A97V",
        "outputId": "1b8a9d0a-25aa-4608-acf4-8b71121de3ae",
        "colab": {
          "base_uri": "https://localhost:8080/",
          "height": 35
        }
      },
      "source": [
        "lm.fit(Xtrain, ytrain)"
      ],
      "execution_count": null,
      "outputs": [
        {
          "output_type": "execute_result",
          "data": {
            "text/plain": [
              "LinearRegression(copy_X=True, fit_intercept=True, n_jobs=None, normalize=False)"
            ]
          },
          "metadata": {
            "tags": []
          },
          "execution_count": 864
        }
      ]
    },
    {
      "cell_type": "markdown",
      "metadata": {
        "id": "0A_LMTSbPA_F"
      },
      "source": [
        "# **Predição**"
      ]
    },
    {
      "cell_type": "code",
      "metadata": {
        "id": "B8qhfGHtPIps"
      },
      "source": [
        "pred = lm.predict(Xtest)"
      ],
      "execution_count": null,
      "outputs": []
    },
    {
      "cell_type": "markdown",
      "metadata": {
        "id": "PaF86dI0Pypv"
      },
      "source": [
        "# **Averiquando Score**"
      ]
    },
    {
      "cell_type": "code",
      "metadata": {
        "id": "8dR-6Tw6PdMO",
        "outputId": "4c26d4c0-1ba6-4273-d83d-bb466b2e789c",
        "colab": {
          "base_uri": "https://localhost:8080/",
          "height": 35
        }
      },
      "source": [
        "lm.score(Xtest, ytest)"
      ],
      "execution_count": null,
      "outputs": [
        {
          "output_type": "execute_result",
          "data": {
            "text/plain": [
              "0.4223411308159648"
            ]
          },
          "metadata": {
            "tags": []
          },
          "execution_count": 866
        }
      ]
    },
    {
      "cell_type": "markdown",
      "metadata": {
        "id": "wfjT5MDWQTUT"
      },
      "source": [
        "# **Averiguando a margem de desvio padrão**"
      ]
    },
    {
      "cell_type": "code",
      "metadata": {
        "id": "WtL41o-hQSCZ",
        "outputId": "6b9c25a1-d181-4f77-d1d5-9e21d6e9c013",
        "colab": {
          "base_uri": "https://localhost:8080/",
          "height": 35
        }
      },
      "source": [
        "from sklearn.metrics import mean_squared_error\n",
        "mse = mean_squared_error(ytest, pred)\n",
        "rmse = np.sqrt(mse)\n",
        "rmse"
      ],
      "execution_count": null,
      "outputs": [
        {
          "output_type": "execute_result",
          "data": {
            "text/plain": [
              "10.929054593804523"
            ]
          },
          "metadata": {
            "tags": []
          },
          "execution_count": 867
        }
      ]
    },
    {
      "cell_type": "markdown",
      "metadata": {
        "id": "k6n5iDwPQ4C8"
      },
      "source": [
        "#### Obs: a margem de erro da idade é de 11 pra cima ou para baixo"
      ]
    },
    {
      "cell_type": "markdown",
      "metadata": {
        "id": "LBS5WXUnRUqL"
      },
      "source": [
        "# **Visualizando Residuos**"
      ]
    },
    {
      "cell_type": "code",
      "metadata": {
        "id": "rK3eMxkqRaXr",
        "outputId": "f0990c21-331d-4b01-9504-2a43ccc5be1f",
        "colab": {
          "base_uri": "https://localhost:8080/",
          "height": 362
        }
      },
      "source": [
        "plt.figure(dpi=100)\n",
        "plt.scatter(ytest, pred)\n",
        "plt.show()"
      ],
      "execution_count": null,
      "outputs": [
        {
          "output_type": "display_data",
          "data": {
            "image/png": "[encoded data removed]",
            "text/plain": [
              "<Figure size 600x400 with 1 Axes>"
            ]
          },
          "metadata": {
            "tags": []
          }
        }
      ]
    },
    {
      "cell_type": "markdown",
      "metadata": {
        "id": "PiFiAgrHgi_X"
      },
      "source": [
        "# **Aplicando Modelo nos dados nulos**"
      ]
    },
    {
      "cell_type": "code",
      "metadata": {
        "id": "JJJlapSdgjJd"
      },
      "source": [
        "pred_idade = lm.predict(test_idade)"
      ],
      "execution_count": null,
      "outputs": []
    },
    {
      "cell_type": "markdown",
      "metadata": {
        "id": "pGB5BgbviDTV"
      },
      "source": [
        "## **Verificando se há dados nulos depois da aplicação do modelo**"
      ]
    },
    {
      "cell_type": "code",
      "metadata": {
        "id": "AFQkHYTeg7Db",
        "outputId": "a1c30122-5a39-441a-a018-8a622362213b",
        "colab": {
          "base_uri": "https://localhost:8080/",
          "height": 272
        }
      },
      "source": [
        "test_idade[\"Idade\"] = pred_idade\n",
        "test_idade.isnull().sum()"
      ],
      "execution_count": null,
      "outputs": [
        {
          "output_type": "execute_result",
          "data": {
            "text/plain": [
              "Tarifa                0\n",
              "Pais e Filhos         0\n",
              "Sexo                  0\n",
              "Irmaos Conjuge        0\n",
              "Embarque_Q            0\n",
              "Embarque_S            0\n",
              "Classe_2              0\n",
              "Classe_3              0\n",
              "Titulo_HomemAdulto    0\n",
              "Titulo_Menino         0\n",
              "Titulo_Outros         0\n",
              "Titulo_Solteira       0\n",
              "Idade                 0\n",
              "dtype: int64"
            ]
          },
          "metadata": {
            "tags": []
          },
          "execution_count": 870
        }
      ]
    },
    {
      "cell_type": "markdown",
      "metadata": {
        "id": "Sv1uMxx2iNlE"
      },
      "source": [
        "# **Concatenando os dataframes novamente ja com as idades faltantes preenchidas pelo modelo**"
      ]
    },
    {
      "cell_type": "code",
      "metadata": {
        "id": "mh5uQa1iiNx2"
      },
      "source": [
        "dfMinerado = pd.concat([test_idade,train_idade], sort=False)"
      ],
      "execution_count": null,
      "outputs": []
    },
    {
      "cell_type": "markdown",
      "metadata": {
        "id": "26z2BgQKkV2D"
      },
      "source": [
        "# **Criando um dataframe apenas com a idade completa e seu respectivo id**"
      ]
    },
    {
      "cell_type": "code",
      "metadata": {
        "id": "BsVyt-O3i_ap"
      },
      "source": [
        "idadeCompleta = pd.DataFrame({\"IdPassageiro\":dfMinerado.index,\"Idade\":dfMinerado[\"Idade\"]})"
      ],
      "execution_count": null,
      "outputs": []
    },
    {
      "cell_type": "code",
      "metadata": {
        "id": "5_Jf_Brwkh11",
        "outputId": "bd863bc6-8ad4-4848-c837-6f0eea4740c4",
        "colab": {
          "base_uri": "https://localhost:8080/",
          "height": 228
        }
      },
      "source": [
        "idadeCompleta.head()"
      ],
      "execution_count": null,
      "outputs": [
        {
          "output_type": "execute_result",
          "data": {
            "text/html": [
              "<div>\n",
              "<style scoped>\n",
              "    .dataframe tbody tr th:only-of-type {\n",
              "        vertical-align: middle;\n",
              "    }\n",
              "\n",
              "    .dataframe tbody tr th {\n",
              "        vertical-align: top;\n",
              "    }\n",
              "\n",
              "    .dataframe thead th {\n",
              "        text-align: right;\n",
              "    }\n",
              "</style>\n",
              "<table border=\"1\" class=\"dataframe\">\n",
              "  <thead>\n",
              "    <tr style=\"text-align: right;\">\n",
              "      <th></th>\n",
              "      <th>IdPassageiro</th>\n",
              "      <th>Idade</th>\n",
              "    </tr>\n",
              "    <tr>\n",
              "      <th>PassengerId</th>\n",
              "      <th></th>\n",
              "      <th></th>\n",
              "    </tr>\n",
              "  </thead>\n",
              "  <tbody>\n",
              "    <tr>\n",
              "      <th>6</th>\n",
              "      <td>6</td>\n",
              "      <td>34.499919</td>\n",
              "    </tr>\n",
              "    <tr>\n",
              "      <th>18</th>\n",
              "      <td>18</td>\n",
              "      <td>32.864665</td>\n",
              "    </tr>\n",
              "    <tr>\n",
              "      <th>20</th>\n",
              "      <td>20</td>\n",
              "      <td>28.991280</td>\n",
              "    </tr>\n",
              "    <tr>\n",
              "      <th>27</th>\n",
              "      <td>27</td>\n",
              "      <td>26.437712</td>\n",
              "    </tr>\n",
              "    <tr>\n",
              "      <th>29</th>\n",
              "      <td>29</td>\n",
              "      <td>23.164838</td>\n",
              "    </tr>\n",
              "  </tbody>\n",
              "</table>\n",
              "</div>"
            ],
            "text/plain": [
              "             IdPassageiro      Idade\n",
              "PassengerId                         \n",
              "6                       6  34.499919\n",
              "18                     18  32.864665\n",
              "20                     20  28.991280\n",
              "27                     27  26.437712\n",
              "29                     29  23.164838"
            ]
          },
          "metadata": {
            "tags": []
          },
          "execution_count": 873
        }
      ]
    },
    {
      "cell_type": "markdown",
      "metadata": {
        "id": "fe5gMjNlk9Dg"
      },
      "source": [
        "## **Salvando o dataframe com a idade completa para futura análise**"
      ]
    },
    {
      "cell_type": "code",
      "metadata": {
        "id": "0FWrfHErk8Gc"
      },
      "source": [
        "idadeCompleta.to_csv(\"idadeCompleta.csv\", index=False)"
      ],
      "execution_count": null,
      "outputs": []
    },
    {
      "cell_type": "markdown",
      "metadata": {
        "id": "0QDSLyVSmKS8"
      },
      "source": [
        "# **----------------------------------------------------------------------------------------------------**"
      ]
    },
    {
      "cell_type": "markdown",
      "metadata": {
        "id": "6u1L8ez1lT9D"
      },
      "source": [
        "# **Finalizado primeiro modelo que preveu a idade faltante, iniciando o segundo modelo para predizer os campos faltantes da coluna Sobreviveu**\n",
        "\n",
        "### Criando uma faixa etária baseado na idade como forma de deixar a idade categórica para conversão em dummy, com o intuito de potencializar o modelo preditivo com mais dados\n",
        "\n",
        ".\n"
      ]
    },
    {
      "cell_type": "code",
      "metadata": {
        "id": "Q0medUX60NH9"
      },
      "source": [
        "dfMinerado[\"Idade\"] = dfMinerado[\"Idade\"].astype(int)\n",
        "dfMinerado[\"Faixa Etaria\"] = pd.cut(dfMinerado[\"Idade\"],bins=5)"
      ],
      "execution_count": null,
      "outputs": []
    },
    {
      "cell_type": "code",
      "metadata": {
        "id": "qjwnjQR70OLa",
        "outputId": "556397d3-bd7d-45b7-f246-f8828a883e38",
        "colab": {
          "base_uri": "https://localhost:8080/",
          "height": 283
        }
      },
      "source": [
        "dfMinerado = pd.get_dummies(dfMinerado, columns=[\"Faixa Etaria\"], drop_first=True)\n",
        "dfMinerado.head()"
      ],
      "execution_count": null,
      "outputs": [
        {
          "output_type": "execute_result",
          "data": {
            "text/html": [
              "<div>\n",
              "<style scoped>\n",
              "    .dataframe tbody tr th:only-of-type {\n",
              "        vertical-align: middle;\n",
              "    }\n",
              "\n",
              "    .dataframe tbody tr th {\n",
              "        vertical-align: top;\n",
              "    }\n",
              "\n",
              "    .dataframe thead th {\n",
              "        text-align: right;\n",
              "    }\n",
              "</style>\n",
              "<table border=\"1\" class=\"dataframe\">\n",
              "  <thead>\n",
              "    <tr style=\"text-align: right;\">\n",
              "      <th></th>\n",
              "      <th>Tarifa</th>\n",
              "      <th>Pais e Filhos</th>\n",
              "      <th>Sexo</th>\n",
              "      <th>Irmaos Conjuge</th>\n",
              "      <th>Embarque_Q</th>\n",
              "      <th>Embarque_S</th>\n",
              "      <th>Classe_2</th>\n",
              "      <th>Classe_3</th>\n",
              "      <th>Titulo_HomemAdulto</th>\n",
              "      <th>Titulo_Menino</th>\n",
              "      <th>Titulo_Outros</th>\n",
              "      <th>Titulo_Solteira</th>\n",
              "      <th>Idade</th>\n",
              "      <th>Faixa Etaria_(10.4, 27.8]</th>\n",
              "      <th>Faixa Etaria_(27.8, 45.2]</th>\n",
              "      <th>Faixa Etaria_(45.2, 62.6]</th>\n",
              "      <th>Faixa Etaria_(62.6, 80.0]</th>\n",
              "    </tr>\n",
              "    <tr>\n",
              "      <th>PassengerId</th>\n",
              "      <th></th>\n",
              "      <th></th>\n",
              "      <th></th>\n",
              "      <th></th>\n",
              "      <th></th>\n",
              "      <th></th>\n",
              "      <th></th>\n",
              "      <th></th>\n",
              "      <th></th>\n",
              "      <th></th>\n",
              "      <th></th>\n",
              "      <th></th>\n",
              "      <th></th>\n",
              "      <th></th>\n",
              "      <th></th>\n",
              "      <th></th>\n",
              "      <th></th>\n",
              "    </tr>\n",
              "  </thead>\n",
              "  <tbody>\n",
              "    <tr>\n",
              "      <th>6</th>\n",
              "      <td>8.4583</td>\n",
              "      <td>0</td>\n",
              "      <td>0</td>\n",
              "      <td>0</td>\n",
              "      <td>1</td>\n",
              "      <td>0</td>\n",
              "      <td>0</td>\n",
              "      <td>1</td>\n",
              "      <td>1</td>\n",
              "      <td>0</td>\n",
              "      <td>0</td>\n",
              "      <td>0</td>\n",
              "      <td>34</td>\n",
              "      <td>0</td>\n",
              "      <td>1</td>\n",
              "      <td>0</td>\n",
              "      <td>0</td>\n",
              "    </tr>\n",
              "    <tr>\n",
              "      <th>18</th>\n",
              "      <td>13.0000</td>\n",
              "      <td>0</td>\n",
              "      <td>0</td>\n",
              "      <td>0</td>\n",
              "      <td>0</td>\n",
              "      <td>1</td>\n",
              "      <td>1</td>\n",
              "      <td>0</td>\n",
              "      <td>1</td>\n",
              "      <td>0</td>\n",
              "      <td>0</td>\n",
              "      <td>0</td>\n",
              "      <td>32</td>\n",
              "      <td>0</td>\n",
              "      <td>1</td>\n",
              "      <td>0</td>\n",
              "      <td>0</td>\n",
              "    </tr>\n",
              "    <tr>\n",
              "      <th>20</th>\n",
              "      <td>7.2250</td>\n",
              "      <td>0</td>\n",
              "      <td>1</td>\n",
              "      <td>0</td>\n",
              "      <td>0</td>\n",
              "      <td>0</td>\n",
              "      <td>0</td>\n",
              "      <td>1</td>\n",
              "      <td>0</td>\n",
              "      <td>0</td>\n",
              "      <td>0</td>\n",
              "      <td>0</td>\n",
              "      <td>28</td>\n",
              "      <td>0</td>\n",
              "      <td>1</td>\n",
              "      <td>0</td>\n",
              "      <td>0</td>\n",
              "    </tr>\n",
              "    <tr>\n",
              "      <th>27</th>\n",
              "      <td>7.2250</td>\n",
              "      <td>0</td>\n",
              "      <td>0</td>\n",
              "      <td>0</td>\n",
              "      <td>0</td>\n",
              "      <td>0</td>\n",
              "      <td>0</td>\n",
              "      <td>1</td>\n",
              "      <td>1</td>\n",
              "      <td>0</td>\n",
              "      <td>0</td>\n",
              "      <td>0</td>\n",
              "      <td>26</td>\n",
              "      <td>1</td>\n",
              "      <td>0</td>\n",
              "      <td>0</td>\n",
              "      <td>0</td>\n",
              "    </tr>\n",
              "    <tr>\n",
              "      <th>29</th>\n",
              "      <td>7.8792</td>\n",
              "      <td>0</td>\n",
              "      <td>1</td>\n",
              "      <td>0</td>\n",
              "      <td>1</td>\n",
              "      <td>0</td>\n",
              "      <td>0</td>\n",
              "      <td>1</td>\n",
              "      <td>0</td>\n",
              "      <td>0</td>\n",
              "      <td>0</td>\n",
              "      <td>1</td>\n",
              "      <td>23</td>\n",
              "      <td>1</td>\n",
              "      <td>0</td>\n",
              "      <td>0</td>\n",
              "      <td>0</td>\n",
              "    </tr>\n",
              "  </tbody>\n",
              "</table>\n",
              "</div>"
            ],
            "text/plain": [
              "              Tarifa  ...  Faixa Etaria_(62.6, 80.0]\n",
              "PassengerId           ...                           \n",
              "6             8.4583  ...                          0\n",
              "18           13.0000  ...                          0\n",
              "20            7.2250  ...                          0\n",
              "27            7.2250  ...                          0\n",
              "29            7.8792  ...                          0\n",
              "\n",
              "[5 rows x 17 columns]"
            ]
          },
          "metadata": {
            "tags": []
          },
          "execution_count": 876
        }
      ]
    },
    {
      "cell_type": "markdown",
      "metadata": {
        "id": "TLeIoXsSqbXX"
      },
      "source": [
        "## **Engenharia de recursos(Familiares)**\n",
        "### Baseado nas colunas \"irmaos Conjuge\" e \"Pais e Filhos\""
      ]
    },
    {
      "cell_type": "code",
      "metadata": {
        "id": "XVq9CYcToNAQ"
      },
      "source": [
        "dfMinerado[\"Familiares\"] = dfMinerado[\"Irmaos Conjuge\"] + dfMinerado[\"Pais e Filhos\"]"
      ],
      "execution_count": null,
      "outputs": []
    },
    {
      "cell_type": "markdown",
      "metadata": {
        "id": "e__lgYdpreao"
      },
      "source": [
        "## **Visualizando correlação entre \"Familiares\", \"Irmaos Conjuge\" e \"Pais e Filhos\"**"
      ]
    },
    {
      "cell_type": "code",
      "metadata": {
        "id": "LofhPCGtrLcN",
        "outputId": "34b030c7-dbcc-402f-f4fc-fcb3c108641f",
        "colab": {
          "base_uri": "https://localhost:8080/",
          "height": 368
        }
      },
      "source": [
        "plt.figure(dpi=100)\n",
        "sns.heatmap(dfMinerado[[\"Familiares\",\"Irmaos Conjuge\",\"Pais e Filhos\"]].corr(),annot=True,cmap=\"Blues\")\n",
        "plt.show()"
      ],
      "execution_count": null,
      "outputs": [
        {
          "output_type": "display_data",
          "data": {
            "image/png": "[encoded data removed]",
            "text/plain": [
              "<Figure size 600x400 with 2 Axes>"
            ]
          },
          "metadata": {
            "tags": []
          }
        }
      ]
    },
    {
      "cell_type": "markdown",
      "metadata": {
        "id": "y_lTocP_sls2"
      },
      "source": [
        "#### Obs: Podemos observar que há 86% de correlação entre a coluna \"Familiares\" e \"Irmaos Conjuge\", e 79% de correlação entre \"Pais e Filhos\" e \"Familiares\""
      ]
    },
    {
      "cell_type": "markdown",
      "metadata": {
        "id": "xh0ZilO-wdFy"
      },
      "source": [
        "# **Agora iremos preparar o dataframe para predizer os sobreviventes, para isso, iremos reinserir a coluna sobreviveu no dataframe ja minerado**"
      ]
    },
    {
      "cell_type": "code",
      "metadata": {
        "id": "k0Eb8NndwggT"
      },
      "source": [
        "dfMinerado[\"Sobreviveu\"] = df[\"Sobreviveu\"]"
      ],
      "execution_count": null,
      "outputs": []
    },
    {
      "cell_type": "markdown",
      "metadata": {
        "id": "eICdYT6XuI_T"
      },
      "source": [
        "# **Atualizando o train e test**"
      ]
    },
    {
      "cell_type": "code",
      "metadata": {
        "id": "xJ8p4km0rOwV"
      },
      "source": [
        "train = dfMinerado.loc[train.index]\n",
        "test = dfMinerado.loc[test.index]\n",
        "test.drop(\"Sobreviveu\", axis=1, inplace=True)"
      ],
      "execution_count": null,
      "outputs": []
    },
    {
      "cell_type": "markdown",
      "metadata": {
        "id": "q6a8Ok9G689x"
      },
      "source": [
        "# **Treinando o modelo so com o train**"
      ]
    },
    {
      "cell_type": "code",
      "metadata": {
        "id": "3bJBF1zC6yhm"
      },
      "source": [
        "X = train.drop(\"Sobreviveu\", axis=1)\n",
        "y = train[\"Sobreviveu\"]"
      ],
      "execution_count": null,
      "outputs": []
    },
    {
      "cell_type": "code",
      "metadata": {
        "id": "kHMTnYs27XUy",
        "outputId": "9a61abb7-36e4-4b7e-9568-36e969a69324",
        "colab": {
          "base_uri": "https://localhost:8080/",
          "height": 35
        }
      },
      "source": [
        "X.shape, y.shape"
      ],
      "execution_count": null,
      "outputs": [
        {
          "output_type": "execute_result",
          "data": {
            "text/plain": [
              "((891, 18), (891,))"
            ]
          },
          "metadata": {
            "tags": []
          },
          "execution_count": 882
        }
      ]
    },
    {
      "cell_type": "markdown",
      "metadata": {
        "id": "fsqS9xsX78_d"
      },
      "source": [
        "#### **Escolhendo colunas ideais para o modelo**"
      ]
    },
    {
      "cell_type": "code",
      "metadata": {
        "id": "gDqsafC17Y9S",
        "outputId": "f0f45d9c-2a1f-4888-8dc2-43e2871cb49f",
        "colab": {
          "base_uri": "https://localhost:8080/",
          "height": 283
        }
      },
      "source": [
        "\n",
        "colunas = ['Tarifa', 'Pais e Filhos', 'Sexo', 'Irmaos Conjuge', 'Embarque_Q',\n",
        "       'Embarque_S', 'Classe_2', 'Classe_3', 'Titulo_HomemAdulto',\n",
        "       'Titulo_Menino', 'Titulo_Outros', 'Titulo_Solteira', 'Idade',\n",
        "       'Faixa Etaria_(10.4, 27.8]', 'Faixa Etaria_(27.8, 45.2]',\n",
        "       'Faixa Etaria_(45.2, 62.6]', 'Faixa Etaria_(62.6, 80.0]', 'Familiares']\n",
        "\n",
        "X = X[colunas]\n",
        "X.head()"
      ],
      "execution_count": null,
      "outputs": [
        {
          "output_type": "execute_result",
          "data": {
            "text/html": [
              "<div>\n",
              "<style scoped>\n",
              "    .dataframe tbody tr th:only-of-type {\n",
              "        vertical-align: middle;\n",
              "    }\n",
              "\n",
              "    .dataframe tbody tr th {\n",
              "        vertical-align: top;\n",
              "    }\n",
              "\n",
              "    .dataframe thead th {\n",
              "        text-align: right;\n",
              "    }\n",
              "</style>\n",
              "<table border=\"1\" class=\"dataframe\">\n",
              "  <thead>\n",
              "    <tr style=\"text-align: right;\">\n",
              "      <th></th>\n",
              "      <th>Tarifa</th>\n",
              "      <th>Pais e Filhos</th>\n",
              "      <th>Sexo</th>\n",
              "      <th>Irmaos Conjuge</th>\n",
              "      <th>Embarque_Q</th>\n",
              "      <th>Embarque_S</th>\n",
              "      <th>Classe_2</th>\n",
              "      <th>Classe_3</th>\n",
              "      <th>Titulo_HomemAdulto</th>\n",
              "      <th>Titulo_Menino</th>\n",
              "      <th>Titulo_Outros</th>\n",
              "      <th>Titulo_Solteira</th>\n",
              "      <th>Idade</th>\n",
              "      <th>Faixa Etaria_(10.4, 27.8]</th>\n",
              "      <th>Faixa Etaria_(27.8, 45.2]</th>\n",
              "      <th>Faixa Etaria_(45.2, 62.6]</th>\n",
              "      <th>Faixa Etaria_(62.6, 80.0]</th>\n",
              "      <th>Familiares</th>\n",
              "    </tr>\n",
              "    <tr>\n",
              "      <th>PassengerId</th>\n",
              "      <th></th>\n",
              "      <th></th>\n",
              "      <th></th>\n",
              "      <th></th>\n",
              "      <th></th>\n",
              "      <th></th>\n",
              "      <th></th>\n",
              "      <th></th>\n",
              "      <th></th>\n",
              "      <th></th>\n",
              "      <th></th>\n",
              "      <th></th>\n",
              "      <th></th>\n",
              "      <th></th>\n",
              "      <th></th>\n",
              "      <th></th>\n",
              "      <th></th>\n",
              "      <th></th>\n",
              "    </tr>\n",
              "  </thead>\n",
              "  <tbody>\n",
              "    <tr>\n",
              "      <th>1</th>\n",
              "      <td>7.2500</td>\n",
              "      <td>0</td>\n",
              "      <td>0</td>\n",
              "      <td>1</td>\n",
              "      <td>0</td>\n",
              "      <td>1</td>\n",
              "      <td>0</td>\n",
              "      <td>1</td>\n",
              "      <td>1</td>\n",
              "      <td>0</td>\n",
              "      <td>0</td>\n",
              "      <td>0</td>\n",
              "      <td>22</td>\n",
              "      <td>1</td>\n",
              "      <td>0</td>\n",
              "      <td>0</td>\n",
              "      <td>0</td>\n",
              "      <td>1</td>\n",
              "    </tr>\n",
              "    <tr>\n",
              "      <th>2</th>\n",
              "      <td>71.2833</td>\n",
              "      <td>0</td>\n",
              "      <td>1</td>\n",
              "      <td>1</td>\n",
              "      <td>0</td>\n",
              "      <td>0</td>\n",
              "      <td>0</td>\n",
              "      <td>0</td>\n",
              "      <td>0</td>\n",
              "      <td>0</td>\n",
              "      <td>0</td>\n",
              "      <td>0</td>\n",
              "      <td>38</td>\n",
              "      <td>0</td>\n",
              "      <td>1</td>\n",
              "      <td>0</td>\n",
              "      <td>0</td>\n",
              "      <td>1</td>\n",
              "    </tr>\n",
              "    <tr>\n",
              "      <th>3</th>\n",
              "      <td>7.9250</td>\n",
              "      <td>0</td>\n",
              "      <td>1</td>\n",
              "      <td>0</td>\n",
              "      <td>0</td>\n",
              "      <td>1</td>\n",
              "      <td>0</td>\n",
              "      <td>1</td>\n",
              "      <td>0</td>\n",
              "      <td>0</td>\n",
              "      <td>0</td>\n",
              "      <td>1</td>\n",
              "      <td>26</td>\n",
              "      <td>1</td>\n",
              "      <td>0</td>\n",
              "      <td>0</td>\n",
              "      <td>0</td>\n",
              "      <td>0</td>\n",
              "    </tr>\n",
              "    <tr>\n",
              "      <th>4</th>\n",
              "      <td>53.1000</td>\n",
              "      <td>0</td>\n",
              "      <td>1</td>\n",
              "      <td>1</td>\n",
              "      <td>0</td>\n",
              "      <td>1</td>\n",
              "      <td>0</td>\n",
              "      <td>0</td>\n",
              "      <td>0</td>\n",
              "      <td>0</td>\n",
              "      <td>0</td>\n",
              "      <td>0</td>\n",
              "      <td>35</td>\n",
              "      <td>0</td>\n",
              "      <td>1</td>\n",
              "      <td>0</td>\n",
              "      <td>0</td>\n",
              "      <td>1</td>\n",
              "    </tr>\n",
              "    <tr>\n",
              "      <th>5</th>\n",
              "      <td>8.0500</td>\n",
              "      <td>0</td>\n",
              "      <td>0</td>\n",
              "      <td>0</td>\n",
              "      <td>0</td>\n",
              "      <td>1</td>\n",
              "      <td>0</td>\n",
              "      <td>1</td>\n",
              "      <td>1</td>\n",
              "      <td>0</td>\n",
              "      <td>0</td>\n",
              "      <td>0</td>\n",
              "      <td>35</td>\n",
              "      <td>0</td>\n",
              "      <td>1</td>\n",
              "      <td>0</td>\n",
              "      <td>0</td>\n",
              "      <td>0</td>\n",
              "    </tr>\n",
              "  </tbody>\n",
              "</table>\n",
              "</div>"
            ],
            "text/plain": [
              "              Tarifa  Pais e Filhos  ...  Faixa Etaria_(62.6, 80.0]  Familiares\n",
              "PassengerId                          ...                                       \n",
              "1             7.2500              0  ...                          0           1\n",
              "2            71.2833              0  ...                          0           1\n",
              "3             7.9250              0  ...                          0           0\n",
              "4            53.1000              0  ...                          0           1\n",
              "5             8.0500              0  ...                          0           0\n",
              "\n",
              "[5 rows x 18 columns]"
            ]
          },
          "metadata": {
            "tags": []
          },
          "execution_count": 883
        }
      ]
    },
    {
      "cell_type": "markdown",
      "metadata": {
        "id": "chmu0kuN98Uw"
      },
      "source": [
        "#### **Dividindo em 70% treino e 30% test**"
      ]
    },
    {
      "cell_type": "code",
      "metadata": {
        "id": "Eai2Q6Ac8IqY"
      },
      "source": [
        "Xtrain, Xtest, ytrain, ytest = train_test_split(X, y, test_size=0.3, random_state=123)"
      ],
      "execution_count": null,
      "outputs": []
    },
    {
      "cell_type": "markdown",
      "metadata": {
        "id": "VzPnYDS8FODk"
      },
      "source": [
        "# **Machine Learning**\n",
        "### **Importando modelos para testar a acuracidade de cada um e ver qual acertou mais**"
      ]
    },
    {
      "cell_type": "code",
      "metadata": {
        "id": "ZU8L4W1XFb3o"
      },
      "source": [
        "from sklearn.ensemble import (AdaBoostClassifier, \n",
        "                              GradientBoostingClassifier, \n",
        "                              ExtraTreesClassifier,\n",
        "                              RandomForestClassifier)\n",
        "from sklearn.linear_model import LogisticRegression, LinearRegression\n",
        "from sklearn.svm import SVC, LinearSVC\n",
        "from sklearn.neighbors import KNeighborsClassifier\n",
        "from sklearn.naive_bayes import GaussianNB\n",
        "from sklearn.linear_model import Perceptron\n",
        "from sklearn.linear_model import SGDClassifier\n",
        "from sklearn.tree import DecisionTreeClassifier"
      ],
      "execution_count": null,
      "outputs": []
    },
    {
      "cell_type": "markdown",
      "metadata": {
        "id": "wDgkvNGXFlYf"
      },
      "source": [
        "## **Criação de classe para auxiliar a execução dos modelos importados**\n",
        "##### será uma classe para evitar repetições de códigos desnecessária"
      ]
    },
    {
      "cell_type": "code",
      "metadata": {
        "id": "0NLW3rj1FheJ"
      },
      "source": [
        "class ModeloAuxiliar(object):\n",
        "    def __init__(self, clf, seed=123, params=None):\n",
        "        if params:\n",
        "            params['random_state'] = seed\n",
        "            self.clf = clf(**params)\n",
        "        else:\n",
        "            self.clf = clf()\n",
        "    def predict(self, x):\n",
        "        return self.clf.predict(x)\n",
        "    \n",
        "    def fit(self,x,y):\n",
        "        return self.clf.fit(x,y)\n",
        "    \n",
        "    def feature_importances(self,x,y):\n",
        "        return self.clf.fit(x,y).feature_importances_\n",
        "    \n",
        "    def score(self,x,y):\n",
        "        return self.clf.score(x,y)"
      ],
      "execution_count": null,
      "outputs": []
    },
    {
      "cell_type": "markdown",
      "metadata": {
        "id": "kiDxqoGVGIJO"
      },
      "source": [
        "## **Dicionario de Modelos Preditivos**"
      ]
    },
    {
      "cell_type": "code",
      "metadata": {
        "id": "aA4rz3enGEhs"
      },
      "source": [
        "modelos = [{'nome': 'Logistic Regression',\n",
        "            'modelo': LogisticRegression},\n",
        "           {'nome':'Linear Regression',\n",
        "            'modelo':LinearRegression},\n",
        "           {'nome': 'etree',\n",
        "            'modelo': ExtraTreesClassifier},\n",
        "           {'nome': 'gradboost',\n",
        "             'modelo': GradientBoostingClassifier}, \n",
        "           {'nome': 'adaboost',\n",
        "             'modelo': AdaBoostClassifier},\n",
        "           {'nome': 'SVC',\n",
        "            'modelo': SVC},\n",
        "           {'nome': 'KNN',\n",
        "            'modelo': KNeighborsClassifier},\n",
        "           {'nome': 'GaussianNB',\n",
        "            'modelo': GaussianNB},\n",
        "           {'nome': 'Perceptron',\n",
        "            'modelo': Perceptron},\n",
        "           {'nome': 'LinearSVC',\n",
        "            'modelo': LinearSVC},\n",
        "           {'nome': 'SGD',\n",
        "            'modelo': SGDClassifier},\n",
        "           {'nome': 'Dtree',\n",
        "            'modelo': DecisionTreeClassifier},\n",
        "           {'nome': 'RForest',\n",
        "            'modelo': RandomForestClassifier}\n",
        "          ]"
      ],
      "execution_count": null,
      "outputs": []
    },
    {
      "cell_type": "markdown",
      "metadata": {
        "id": "4_JhdWNLGYuy"
      },
      "source": [
        "## **Executando varios modelos preditivos de uma vez**"
      ]
    },
    {
      "cell_type": "code",
      "metadata": {
        "id": "DWj5nngeGMye"
      },
      "source": [
        "resultados = []\n",
        "for model in modelos:\n",
        "    x = ModeloAuxiliar(clf=model['modelo'])\n",
        "    # treinar o modelo\n",
        "    x.fit(Xtrain, ytrain)\n",
        "    \n",
        "    # gerar predicao\n",
        "    x_pred = x.predict(Xtest)\n",
        "    \n",
        "    # gerar score\n",
        "    acuracidade = round(x.score(Xtest,ytest)*100,2)\n",
        "    \n",
        "    resultados.append({'nome': model['nome'],\n",
        "                       'score': acuracidade,\n",
        "                       'pred': x_pred })"
      ],
      "execution_count": null,
      "outputs": []
    },
    {
      "cell_type": "markdown",
      "metadata": {
        "id": "F5X_5Kr9Gyua"
      },
      "source": [
        "# **Ranking de Modelos Por Score**\n",
        "###### [Voltar para início](#topo)\n"
      ]
    },
    {
      "cell_type": "code",
      "metadata": {
        "id": "YQNvUIopGdta",
        "outputId": "976984e2-b5ad-4472-df17-a4a94ede3751",
        "colab": {
          "base_uri": "https://localhost:8080/",
          "height": 438
        }
      },
      "source": [
        "\n",
        "models = pd.DataFrame(resultados)\n",
        "modelos = models[['nome','score']].sort_values(by='score', ascending=False)\n",
        "modelos"
      ],
      "execution_count": null,
      "outputs": [
        {
          "output_type": "execute_result",
          "data": {
            "text/html": [
              "<div>\n",
              "<style scoped>\n",
              "    .dataframe tbody tr th:only-of-type {\n",
              "        vertical-align: middle;\n",
              "    }\n",
              "\n",
              "    .dataframe tbody tr th {\n",
              "        vertical-align: top;\n",
              "    }\n",
              "\n",
              "    .dataframe thead th {\n",
              "        text-align: right;\n",
              "    }\n",
              "</style>\n",
              "<table border=\"1\" class=\"dataframe\">\n",
              "  <thead>\n",
              "    <tr style=\"text-align: right;\">\n",
              "      <th></th>\n",
              "      <th>nome</th>\n",
              "      <th>score</th>\n",
              "    </tr>\n",
              "  </thead>\n",
              "  <tbody>\n",
              "    <tr>\n",
              "      <th>3</th>\n",
              "      <td>gradboost</td>\n",
              "      <td>85.45</td>\n",
              "    </tr>\n",
              "    <tr>\n",
              "      <th>4</th>\n",
              "      <td>adaboost</td>\n",
              "      <td>83.96</td>\n",
              "    </tr>\n",
              "    <tr>\n",
              "      <th>0</th>\n",
              "      <td>Logistic Regression</td>\n",
              "      <td>82.84</td>\n",
              "    </tr>\n",
              "    <tr>\n",
              "      <th>12</th>\n",
              "      <td>RForest</td>\n",
              "      <td>82.46</td>\n",
              "    </tr>\n",
              "    <tr>\n",
              "      <th>9</th>\n",
              "      <td>LinearSVC</td>\n",
              "      <td>79.85</td>\n",
              "    </tr>\n",
              "    <tr>\n",
              "      <th>2</th>\n",
              "      <td>etree</td>\n",
              "      <td>79.48</td>\n",
              "    </tr>\n",
              "    <tr>\n",
              "      <th>7</th>\n",
              "      <td>GaussianNB</td>\n",
              "      <td>79.48</td>\n",
              "    </tr>\n",
              "    <tr>\n",
              "      <th>11</th>\n",
              "      <td>Dtree</td>\n",
              "      <td>76.12</td>\n",
              "    </tr>\n",
              "    <tr>\n",
              "      <th>5</th>\n",
              "      <td>SVC</td>\n",
              "      <td>72.76</td>\n",
              "    </tr>\n",
              "    <tr>\n",
              "      <th>6</th>\n",
              "      <td>KNN</td>\n",
              "      <td>72.76</td>\n",
              "    </tr>\n",
              "    <tr>\n",
              "      <th>10</th>\n",
              "      <td>SGD</td>\n",
              "      <td>69.03</td>\n",
              "    </tr>\n",
              "    <tr>\n",
              "      <th>8</th>\n",
              "      <td>Perceptron</td>\n",
              "      <td>45.90</td>\n",
              "    </tr>\n",
              "    <tr>\n",
              "      <th>1</th>\n",
              "      <td>Linear Regression</td>\n",
              "      <td>45.49</td>\n",
              "    </tr>\n",
              "  </tbody>\n",
              "</table>\n",
              "</div>"
            ],
            "text/plain": [
              "                   nome  score\n",
              "3             gradboost  85.45\n",
              "4              adaboost  83.96\n",
              "0   Logistic Regression  82.84\n",
              "12              RForest  82.46\n",
              "9             LinearSVC  79.85\n",
              "2                 etree  79.48\n",
              "7            GaussianNB  79.48\n",
              "11                Dtree  76.12\n",
              "5                   SVC  72.76\n",
              "6                   KNN  72.76\n",
              "10                  SGD  69.03\n",
              "8            Perceptron  45.90\n",
              "1     Linear Regression  45.49"
            ]
          },
          "metadata": {
            "tags": []
          },
          "execution_count": 889
        }
      ]
    }
  ]
}
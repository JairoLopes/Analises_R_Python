{
 "cells": [
  {
   "cell_type": "markdown",
   "metadata": {
    "id": "SgQnIMFnTWeH"
   },
   "source": [
    "# Resumo\n",
    "Este projeto tem como objetivo fazer uma análise exploratória completa dos dados de um dataset(extraído do kaggle) de uma loja virtual **fictícia**, com o intuito de saber qual sistema operacional é mais utilizado pelos clientes, qual o que gera mais lucros, entre outras coisas.\n",
    "\n",
    "**Este ipynb contém mais recursos de programação que os outros por conta que este dataset contem mais de uma informação em suas variáveis**"
   ]
  },
  {
   "cell_type": "code",
   "execution_count": 8,
   "metadata": {
    "id": "5U4zlr5cTHZ0"
   },
   "outputs": [],
   "source": [
    "import pandas as pd\n",
    "import seaborn as sns\n",
    "import matplotlib.pyplot as plt"
   ]
  },
  {
   "cell_type": "code",
   "execution_count": 9,
   "metadata": {
    "colab": {
     "base_uri": "https://localhost:8080/",
     "height": 213
    },
    "id": "bXZZq1P-THZ5",
    "outputId": "10d4eee6-b8e4-4a86-b27d-96180bc949c6"
   },
   "outputs": [
    {
     "data": {
      "text/html": [
       "<div>\n",
       "<style scoped>\n",
       "    .dataframe tbody tr th:only-of-type {\n",
       "        vertical-align: middle;\n",
       "    }\n",
       "\n",
       "    .dataframe tbody tr th {\n",
       "        vertical-align: top;\n",
       "    }\n",
       "\n",
       "    .dataframe thead th {\n",
       "        text-align: right;\n",
       "    }\n",
       "</style>\n",
       "<table border=\"1\" class=\"dataframe\">\n",
       "  <thead>\n",
       "    <tr style=\"text-align: right;\">\n",
       "      <th></th>\n",
       "      <th>Address</th>\n",
       "      <th>Lot</th>\n",
       "      <th>AM or PM</th>\n",
       "      <th>Browser Info</th>\n",
       "      <th>Company</th>\n",
       "      <th>Credit Card</th>\n",
       "      <th>CC Exp Date</th>\n",
       "      <th>CC Security Code</th>\n",
       "      <th>CC Provider</th>\n",
       "      <th>Email</th>\n",
       "      <th>Job</th>\n",
       "      <th>IP Address</th>\n",
       "      <th>Language</th>\n",
       "      <th>Purchase Price</th>\n",
       "    </tr>\n",
       "  </thead>\n",
       "  <tbody>\n",
       "    <tr>\n",
       "      <th>0</th>\n",
       "      <td>16629 Pace Camp Apt. 448\\nAlexisborough, NE 77...</td>\n",
       "      <td>46 in</td>\n",
       "      <td>PM</td>\n",
       "      <td>Opera/9.56.(X11; Linux x86_64; sl-SI) Presto/2...</td>\n",
       "      <td>Martinez-Herman</td>\n",
       "      <td>6011929061123406</td>\n",
       "      <td>02/20</td>\n",
       "      <td>900</td>\n",
       "      <td>JCB 16 digit</td>\n",
       "      <td>pdunlap@yahoo.com</td>\n",
       "      <td>Scientist, product/process development</td>\n",
       "      <td>149.146.147.205</td>\n",
       "      <td>el</td>\n",
       "      <td>98.14</td>\n",
       "    </tr>\n",
       "    <tr>\n",
       "      <th>1</th>\n",
       "      <td>9374 Jasmine Spurs Suite 508\\nSouth John, TN 8...</td>\n",
       "      <td>28 rn</td>\n",
       "      <td>PM</td>\n",
       "      <td>Opera/8.93.(Windows 98; Win 9x 4.90; en-US) Pr...</td>\n",
       "      <td>Fletcher, Richards and Whitaker</td>\n",
       "      <td>3337758169645356</td>\n",
       "      <td>11/18</td>\n",
       "      <td>561</td>\n",
       "      <td>Mastercard</td>\n",
       "      <td>anthony41@reed.com</td>\n",
       "      <td>Drilling engineer</td>\n",
       "      <td>15.160.41.51</td>\n",
       "      <td>fr</td>\n",
       "      <td>70.73</td>\n",
       "    </tr>\n",
       "  </tbody>\n",
       "</table>\n",
       "</div>"
      ],
      "text/plain": [
       "                                             Address    Lot AM or PM  \\\n",
       "0  16629 Pace Camp Apt. 448\\nAlexisborough, NE 77...  46 in       PM   \n",
       "1  9374 Jasmine Spurs Suite 508\\nSouth John, TN 8...  28 rn       PM   \n",
       "\n",
       "                                        Browser Info  \\\n",
       "0  Opera/9.56.(X11; Linux x86_64; sl-SI) Presto/2...   \n",
       "1  Opera/8.93.(Windows 98; Win 9x 4.90; en-US) Pr...   \n",
       "\n",
       "                           Company       Credit Card CC Exp Date  \\\n",
       "0                  Martinez-Herman  6011929061123406       02/20   \n",
       "1  Fletcher, Richards and Whitaker  3337758169645356       11/18   \n",
       "\n",
       "   CC Security Code   CC Provider               Email  \\\n",
       "0               900  JCB 16 digit   pdunlap@yahoo.com   \n",
       "1               561    Mastercard  anthony41@reed.com   \n",
       "\n",
       "                                      Job       IP Address Language  \\\n",
       "0  Scientist, product/process development  149.146.147.205       el   \n",
       "1                       Drilling engineer     15.160.41.51       fr   \n",
       "\n",
       "   Purchase Price  \n",
       "0           98.14  \n",
       "1           70.73  "
      ]
     },
     "execution_count": 9,
     "metadata": {},
     "output_type": "execute_result"
    }
   ],
   "source": [
    "df = pd.read_csv('Comercio.csv')\n",
    "df.head(2)"
   ]
  },
  {
   "cell_type": "markdown",
   "metadata": {
    "id": "WLFaQUznZKu7"
   },
   "source": [
    "# Traduzindo colunas"
   ]
  },
  {
   "cell_type": "code",
   "execution_count": 10,
   "metadata": {
    "colab": {
     "base_uri": "https://localhost:8080/",
     "height": 459
    },
    "id": "ILdWxAIpTHZ9",
    "outputId": "e3c995ef-1d67-49e3-fb06-fc93e202886f"
   },
   "outputs": [
    {
     "data": {
      "text/html": [
       "<div>\n",
       "<style scoped>\n",
       "    .dataframe tbody tr th:only-of-type {\n",
       "        vertical-align: middle;\n",
       "    }\n",
       "\n",
       "    .dataframe tbody tr th {\n",
       "        vertical-align: top;\n",
       "    }\n",
       "\n",
       "    .dataframe thead th {\n",
       "        text-align: right;\n",
       "    }\n",
       "</style>\n",
       "<table border=\"1\" class=\"dataframe\">\n",
       "  <thead>\n",
       "    <tr style=\"text-align: right;\">\n",
       "      <th></th>\n",
       "      <th>endereco</th>\n",
       "      <th>lote</th>\n",
       "      <th>turno</th>\n",
       "      <th>browser</th>\n",
       "      <th>companhia</th>\n",
       "      <th>cartao de credito</th>\n",
       "      <th>validade do cartao</th>\n",
       "      <th>codigo do cartao</th>\n",
       "      <th>bandeira do cartao</th>\n",
       "      <th>email</th>\n",
       "      <th>cargo</th>\n",
       "      <th>ip</th>\n",
       "      <th>lingua</th>\n",
       "      <th>valor da compra</th>\n",
       "    </tr>\n",
       "  </thead>\n",
       "  <tbody>\n",
       "    <tr>\n",
       "      <th>0</th>\n",
       "      <td>16629 Pace Camp Apt. 448\\nAlexisborough, NE 77...</td>\n",
       "      <td>46 in</td>\n",
       "      <td>PM</td>\n",
       "      <td>Opera/9.56.(X11; Linux x86_64; sl-SI) Presto/2...</td>\n",
       "      <td>Martinez-Herman</td>\n",
       "      <td>6011929061123406</td>\n",
       "      <td>02/20</td>\n",
       "      <td>900</td>\n",
       "      <td>JCB 16 digit</td>\n",
       "      <td>pdunlap@yahoo.com</td>\n",
       "      <td>Scientist, product/process development</td>\n",
       "      <td>149.146.147.205</td>\n",
       "      <td>el</td>\n",
       "      <td>98.14</td>\n",
       "    </tr>\n",
       "    <tr>\n",
       "      <th>1</th>\n",
       "      <td>9374 Jasmine Spurs Suite 508\\nSouth John, TN 8...</td>\n",
       "      <td>28 rn</td>\n",
       "      <td>PM</td>\n",
       "      <td>Opera/8.93.(Windows 98; Win 9x 4.90; en-US) Pr...</td>\n",
       "      <td>Fletcher, Richards and Whitaker</td>\n",
       "      <td>3337758169645356</td>\n",
       "      <td>11/18</td>\n",
       "      <td>561</td>\n",
       "      <td>Mastercard</td>\n",
       "      <td>anthony41@reed.com</td>\n",
       "      <td>Drilling engineer</td>\n",
       "      <td>15.160.41.51</td>\n",
       "      <td>fr</td>\n",
       "      <td>70.73</td>\n",
       "    </tr>\n",
       "    <tr>\n",
       "      <th>2</th>\n",
       "      <td>Unit 0065 Box 5052\\nDPO AP 27450</td>\n",
       "      <td>94 vE</td>\n",
       "      <td>PM</td>\n",
       "      <td>Mozilla/5.0 (compatible; MSIE 9.0; Windows NT ...</td>\n",
       "      <td>Simpson, Williams and Pham</td>\n",
       "      <td>675957666125</td>\n",
       "      <td>08/19</td>\n",
       "      <td>699</td>\n",
       "      <td>JCB 16 digit</td>\n",
       "      <td>amymiller@morales-harrison.com</td>\n",
       "      <td>Customer service manager</td>\n",
       "      <td>132.207.160.22</td>\n",
       "      <td>de</td>\n",
       "      <td>0.95</td>\n",
       "    </tr>\n",
       "    <tr>\n",
       "      <th>3</th>\n",
       "      <td>7780 Julia Fords\\nNew Stacy, WA 45798</td>\n",
       "      <td>36 vm</td>\n",
       "      <td>PM</td>\n",
       "      <td>Mozilla/5.0 (Macintosh; Intel Mac OS X 10_8_0 ...</td>\n",
       "      <td>Williams, Marshall and Buchanan</td>\n",
       "      <td>6011578504430710</td>\n",
       "      <td>02/24</td>\n",
       "      <td>384</td>\n",
       "      <td>Discover</td>\n",
       "      <td>brent16@olson-robinson.info</td>\n",
       "      <td>Drilling engineer</td>\n",
       "      <td>30.250.74.19</td>\n",
       "      <td>es</td>\n",
       "      <td>78.04</td>\n",
       "    </tr>\n",
       "    <tr>\n",
       "      <th>4</th>\n",
       "      <td>23012 Munoz Drive Suite 337\\nNew Cynthia, TX 5...</td>\n",
       "      <td>20 IE</td>\n",
       "      <td>AM</td>\n",
       "      <td>Opera/9.58.(X11; Linux x86_64; it-IT) Presto/2...</td>\n",
       "      <td>Brown, Watson and Andrews</td>\n",
       "      <td>6011456623207998</td>\n",
       "      <td>10/25</td>\n",
       "      <td>678</td>\n",
       "      <td>Diners Club / Carte Blanche</td>\n",
       "      <td>christopherwright@gmail.com</td>\n",
       "      <td>Fine artist</td>\n",
       "      <td>24.140.33.94</td>\n",
       "      <td>es</td>\n",
       "      <td>77.82</td>\n",
       "    </tr>\n",
       "  </tbody>\n",
       "</table>\n",
       "</div>"
      ],
      "text/plain": [
       "                                            endereco   lote turno  \\\n",
       "0  16629 Pace Camp Apt. 448\\nAlexisborough, NE 77...  46 in    PM   \n",
       "1  9374 Jasmine Spurs Suite 508\\nSouth John, TN 8...  28 rn    PM   \n",
       "2                   Unit 0065 Box 5052\\nDPO AP 27450  94 vE    PM   \n",
       "3              7780 Julia Fords\\nNew Stacy, WA 45798  36 vm    PM   \n",
       "4  23012 Munoz Drive Suite 337\\nNew Cynthia, TX 5...  20 IE    AM   \n",
       "\n",
       "                                             browser  \\\n",
       "0  Opera/9.56.(X11; Linux x86_64; sl-SI) Presto/2...   \n",
       "1  Opera/8.93.(Windows 98; Win 9x 4.90; en-US) Pr...   \n",
       "2  Mozilla/5.0 (compatible; MSIE 9.0; Windows NT ...   \n",
       "3  Mozilla/5.0 (Macintosh; Intel Mac OS X 10_8_0 ...   \n",
       "4  Opera/9.58.(X11; Linux x86_64; it-IT) Presto/2...   \n",
       "\n",
       "                         companhia  cartao de credito validade do cartao  \\\n",
       "0                  Martinez-Herman   6011929061123406              02/20   \n",
       "1  Fletcher, Richards and Whitaker   3337758169645356              11/18   \n",
       "2       Simpson, Williams and Pham       675957666125              08/19   \n",
       "3  Williams, Marshall and Buchanan   6011578504430710              02/24   \n",
       "4        Brown, Watson and Andrews   6011456623207998              10/25   \n",
       "\n",
       "   codigo do cartao           bandeira do cartao  \\\n",
       "0               900                 JCB 16 digit   \n",
       "1               561                   Mastercard   \n",
       "2               699                 JCB 16 digit   \n",
       "3               384                     Discover   \n",
       "4               678  Diners Club / Carte Blanche   \n",
       "\n",
       "                            email                                   cargo  \\\n",
       "0               pdunlap@yahoo.com  Scientist, product/process development   \n",
       "1              anthony41@reed.com                       Drilling engineer   \n",
       "2  amymiller@morales-harrison.com                Customer service manager   \n",
       "3     brent16@olson-robinson.info                       Drilling engineer   \n",
       "4     christopherwright@gmail.com                             Fine artist   \n",
       "\n",
       "                ip lingua  valor da compra  \n",
       "0  149.146.147.205     el            98.14  \n",
       "1     15.160.41.51     fr            70.73  \n",
       "2   132.207.160.22     de             0.95  \n",
       "3     30.250.74.19     es            78.04  \n",
       "4     24.140.33.94     es            77.82  "
      ]
     },
     "execution_count": 10,
     "metadata": {},
     "output_type": "execute_result"
    }
   ],
   "source": [
    "df.columns = ['endereco', 'lote', 'turno', 'browser', 'companhia', 'cartao de credito',\n",
    "       'validade do cartao', 'codigo do cartao', 'bandeira do cartao', 'email', 'cargo',\n",
    "       'ip', 'lingua', 'valor da compra']\n",
    "df.head()"
   ]
  },
  {
   "cell_type": "markdown",
   "metadata": {
    "id": "-mG4z7mqg8dX"
   },
   "source": [
    "#Informações adicionais"
   ]
  },
  {
   "cell_type": "code",
   "execution_count": 11,
   "metadata": {
    "colab": {
     "base_uri": "https://localhost:8080/"
    },
    "id": "sCzVRLL8hAME",
    "outputId": "dc09bd62-ae9a-42d7-cb4c-1dae8c3ed5a8"
   },
   "outputs": [
    {
     "name": "stdout",
     "output_type": "stream",
     "text": [
      "<class 'pandas.core.frame.DataFrame'>\n",
      "RangeIndex: 10000 entries, 0 to 9999\n",
      "Data columns (total 14 columns):\n",
      " #   Column              Non-Null Count  Dtype  \n",
      "---  ------              --------------  -----  \n",
      " 0   endereco            10000 non-null  object \n",
      " 1   lote                10000 non-null  object \n",
      " 2   turno               10000 non-null  object \n",
      " 3   browser             10000 non-null  object \n",
      " 4   companhia           10000 non-null  object \n",
      " 5   cartao de credito   10000 non-null  int64  \n",
      " 6   validade do cartao  10000 non-null  object \n",
      " 7   codigo do cartao    10000 non-null  int64  \n",
      " 8   bandeira do cartao  10000 non-null  object \n",
      " 9   email               10000 non-null  object \n",
      " 10  cargo               10000 non-null  object \n",
      " 11  ip                  10000 non-null  object \n",
      " 12  lingua              10000 non-null  object \n",
      " 13  valor da compra     10000 non-null  float64\n",
      "dtypes: float64(1), int64(2), object(11)\n",
      "memory usage: 1.1+ MB\n"
     ]
    }
   ],
   "source": [
    "df.info()"
   ]
  },
  {
   "cell_type": "markdown",
   "metadata": {
    "id": "yW7NVKDouJSy"
   },
   "source": [
    "# Verificando dados nulos"
   ]
  },
  {
   "cell_type": "code",
   "execution_count": 12,
   "metadata": {
    "colab": {
     "base_uri": "https://localhost:8080/"
    },
    "id": "UgI0-ULIuNzL",
    "outputId": "9128791f-6b21-461c-d160-457b4324db8c"
   },
   "outputs": [
    {
     "data": {
      "text/plain": [
       "endereco              0\n",
       "lote                  0\n",
       "turno                 0\n",
       "browser               0\n",
       "companhia             0\n",
       "cartao de credito     0\n",
       "validade do cartao    0\n",
       "codigo do cartao      0\n",
       "bandeira do cartao    0\n",
       "email                 0\n",
       "cargo                 0\n",
       "ip                    0\n",
       "lingua                0\n",
       "valor da compra       0\n",
       "dtype: int64"
      ]
     },
     "execution_count": 12,
     "metadata": {},
     "output_type": "execute_result"
    }
   ],
   "source": [
    "df.isnull().sum()"
   ]
  },
  {
   "cell_type": "markdown",
   "metadata": {
    "id": "g5huq6q6eXRh"
   },
   "source": [
    "***\n",
    "# Engenharia de recursos\n",
    "Esse tópico terá como intuito extrair informações importantes das colunas \"browser\", \"cargo\", \"bandeira do cartao\" e \"email\", como por exemplo o sistema operacional usado, o proprio browser independente da versão, cargos mais comuns, bandeira do cartão filtrada e tambem o provedor de email\n",
    "### Coletando navegadores"
   ]
  },
  {
   "cell_type": "code",
   "execution_count": 13,
   "metadata": {
    "id": "Fe0gMWFxZiAr"
   },
   "outputs": [],
   "source": [
    "def filtraBrowser(x):\n",
    "  if \"Opera\" in x:\n",
    "    return \"Opera\"\n",
    "  \n",
    "  elif \"Mozilla\" in x:\n",
    "    return \"Mozilla\"\n",
    "  \n",
    "  else:\n",
    "    return \"Outros\"\n",
    "    \n",
    "browsers = df['browser'].apply(lambda x:filtraBrowser(x))"
   ]
  },
  {
   "cell_type": "markdown",
   "metadata": {
    "id": "Iy_RGyG1h1AJ"
   },
   "source": [
    "### Coletando sistema operacional"
   ]
  },
  {
   "cell_type": "code",
   "execution_count": 14,
   "metadata": {
    "id": "aS8AH2nNeBpd"
   },
   "outputs": [],
   "source": [
    "def filtraSO(x):\n",
    "  if \"Linux\" in x:\n",
    "    return \"Linux\"\n",
    "  \n",
    "  elif \"Windows\" in x:\n",
    "    return \"Windows\"\n",
    "  \n",
    "  elif \"Mac\" in x:\n",
    "    return \"Mac\"\n",
    "\n",
    "  else:\n",
    "    return \"Outros\"\n",
    "    \n",
    "SO = df['browser'].apply(lambda x:filtraSO(x))"
   ]
  },
  {
   "cell_type": "markdown",
   "metadata": {
    "id": "X_xhliv-pSRD"
   },
   "source": [
    "### Coletando bandeira do cartão"
   ]
  },
  {
   "cell_type": "code",
   "execution_count": 15,
   "metadata": {
    "colab": {
     "base_uri": "https://localhost:8080/"
    },
    "id": "gRnG_s_SpXJo",
    "outputId": "fc2c5272-39a6-4399-dd5e-207065d206df"
   },
   "outputs": [
    {
     "data": {
      "text/plain": [
       "0              JCB\n",
       "1       MASTERCARD\n",
       "2              JCB\n",
       "3           Outros\n",
       "4           Outros\n",
       "           ...    \n",
       "9995           JCB\n",
       "9996           JCB\n",
       "9997          VISA\n",
       "9998    AM_EXPRESS\n",
       "9999           JCB\n",
       "Name: bandeira do cartao, Length: 10000, dtype: object"
      ]
     },
     "execution_count": 15,
     "metadata": {},
     "output_type": "execute_result"
    }
   ],
   "source": [
    "def filtraBandeira(x):\n",
    "  if \"JCB\" in x:\n",
    "    return \"JCB\"\n",
    "  \n",
    "  elif \"VISA\" in x:\n",
    "    return \"VISA\"\n",
    "  \n",
    "  elif \"Mastercard\" in x:\n",
    "    return \"MASTERCARD\"\n",
    "  \n",
    "  elif \"American Express\" in x:\n",
    "    return \"AM_EXPRESS\"\n",
    "  \n",
    "  else:\n",
    "    return \"Outros\"\n",
    "    \n",
    "bandeira = df['bandeira do cartao'].apply(lambda x:filtraBandeira(x))\n",
    "bandeira"
   ]
  },
  {
   "cell_type": "markdown",
   "metadata": {
    "id": "KNC8K_jSj54t"
   },
   "source": [
    "### Coletando provedores de email\n",
    "Para isso, verificamos os emails mais utilizados"
   ]
  },
  {
   "cell_type": "code",
   "execution_count": 16,
   "metadata": {
    "colab": {
     "base_uri": "https://localhost:8080/"
    },
    "id": "Ts2qnZr-j9SD",
    "outputId": "a3796b5a-3682-4e33-fe39-453e81804208"
   },
   "outputs": [
    {
     "data": {
      "text/plain": [
       "hotmail.com           1638\n",
       "yahoo.com             1616\n",
       "gmail.com             1605\n",
       "smith.com               42\n",
       "williams.com            37\n",
       "                      ... \n",
       "george.biz               1\n",
       "perry.net                1\n",
       "henson-davis.com         1\n",
       "townsend-reed.info       1\n",
       "chavez.biz               1\n",
       "Name: email, Length: 3416, dtype: int64"
      ]
     },
     "execution_count": 16,
     "metadata": {},
     "output_type": "execute_result"
    }
   ],
   "source": [
    "df['email'].apply(lambda x:x.split(\"@\")[1]).value_counts()"
   ]
  },
  {
   "cell_type": "markdown",
   "metadata": {
    "id": "8K94dpmtk57t"
   },
   "source": [
    "### Coletando os emails mais utilizados"
   ]
  },
  {
   "cell_type": "code",
   "execution_count": 17,
   "metadata": {
    "id": "aQraU1npk5Mh"
   },
   "outputs": [],
   "source": [
    "def filtraEmail(x):\n",
    "  if \"yahoo\" in x:\n",
    "    return \"yahoo\"\n",
    "  \n",
    "  elif \"hotmail\" in x:\n",
    "    return \"hotmail\"\n",
    "  \n",
    "  elif \"gmail\" in x:\n",
    "    return \"gmail\"\n",
    "\n",
    "  else:\n",
    "    return \"Outros\"\n",
    "\n",
    "provedores = df['email'].apply(lambda x:x.split(\"@\")[1])\n",
    "provedores = provedores.apply(lambda x:x.split(\".\")[0])\n",
    "provedores = provedores.apply(lambda x:filtraEmail(x))"
   ]
  },
  {
   "cell_type": "markdown",
   "metadata": {
    "id": "KphMaZAhiryJ"
   },
   "source": [
    "# Adicionando as novas informaçoes no dataframe"
   ]
  },
  {
   "cell_type": "code",
   "execution_count": 18,
   "metadata": {
    "id": "zKlXbKXWiciu"
   },
   "outputs": [],
   "source": [
    "df[\"browser\"] = browsers\n",
    "df[\"sistema operacional\"] = SO\n",
    "df[\"email\"] = provedores\n",
    "df[\"bandeira do cartao\"] = bandeira"
   ]
  },
  {
   "cell_type": "markdown",
   "metadata": {
    "id": "Z80CAN8MjK5U"
   },
   "source": [
    "# Excluindo informações desnecessárias para a análise"
   ]
  },
  {
   "cell_type": "code",
   "execution_count": 19,
   "metadata": {
    "id": "QQE9CZibi7-w"
   },
   "outputs": [],
   "source": [
    "df.drop([\"endereco\",\"companhia\",\"cartao de credito\",\"codigo do cartao\",\"ip\",'cargo','lote'], axis=1, inplace=True)"
   ]
  },
  {
   "cell_type": "markdown",
   "metadata": {
    "id": "NHi9eQjZoC5M"
   },
   "source": [
    "***\n",
    "# **Visualizando modificações do dataframe** "
   ]
  },
  {
   "cell_type": "code",
   "execution_count": 21,
   "metadata": {
    "colab": {
     "base_uri": "https://localhost:8080/",
     "height": 204
    },
    "id": "b7XhrCXFi98Y",
    "outputId": "fe00d64b-a3ba-4ef6-a545-4c64ea1bedee"
   },
   "outputs": [
    {
     "data": {
      "text/html": [
       "<div>\n",
       "<style scoped>\n",
       "    .dataframe tbody tr th:only-of-type {\n",
       "        vertical-align: middle;\n",
       "    }\n",
       "\n",
       "    .dataframe tbody tr th {\n",
       "        vertical-align: top;\n",
       "    }\n",
       "\n",
       "    .dataframe thead th {\n",
       "        text-align: right;\n",
       "    }\n",
       "</style>\n",
       "<table border=\"1\" class=\"dataframe\">\n",
       "  <thead>\n",
       "    <tr style=\"text-align: right;\">\n",
       "      <th></th>\n",
       "      <th>turno</th>\n",
       "      <th>browser</th>\n",
       "      <th>validade do cartao</th>\n",
       "      <th>bandeira do cartao</th>\n",
       "      <th>email</th>\n",
       "      <th>lingua</th>\n",
       "      <th>valor da compra</th>\n",
       "      <th>sistema operacional</th>\n",
       "    </tr>\n",
       "  </thead>\n",
       "  <tbody>\n",
       "    <tr>\n",
       "      <th>0</th>\n",
       "      <td>PM</td>\n",
       "      <td>Opera</td>\n",
       "      <td>02/20</td>\n",
       "      <td>JCB</td>\n",
       "      <td>yahoo</td>\n",
       "      <td>el</td>\n",
       "      <td>98.14</td>\n",
       "      <td>Linux</td>\n",
       "    </tr>\n",
       "    <tr>\n",
       "      <th>1</th>\n",
       "      <td>PM</td>\n",
       "      <td>Opera</td>\n",
       "      <td>11/18</td>\n",
       "      <td>MASTERCARD</td>\n",
       "      <td>Outros</td>\n",
       "      <td>fr</td>\n",
       "      <td>70.73</td>\n",
       "      <td>Windows</td>\n",
       "    </tr>\n",
       "    <tr>\n",
       "      <th>2</th>\n",
       "      <td>PM</td>\n",
       "      <td>Mozilla</td>\n",
       "      <td>08/19</td>\n",
       "      <td>JCB</td>\n",
       "      <td>Outros</td>\n",
       "      <td>de</td>\n",
       "      <td>0.95</td>\n",
       "      <td>Windows</td>\n",
       "    </tr>\n",
       "    <tr>\n",
       "      <th>3</th>\n",
       "      <td>PM</td>\n",
       "      <td>Mozilla</td>\n",
       "      <td>02/24</td>\n",
       "      <td>Outros</td>\n",
       "      <td>Outros</td>\n",
       "      <td>es</td>\n",
       "      <td>78.04</td>\n",
       "      <td>Mac</td>\n",
       "    </tr>\n",
       "    <tr>\n",
       "      <th>4</th>\n",
       "      <td>AM</td>\n",
       "      <td>Opera</td>\n",
       "      <td>10/25</td>\n",
       "      <td>Outros</td>\n",
       "      <td>gmail</td>\n",
       "      <td>es</td>\n",
       "      <td>77.82</td>\n",
       "      <td>Linux</td>\n",
       "    </tr>\n",
       "  </tbody>\n",
       "</table>\n",
       "</div>"
      ],
      "text/plain": [
       "  turno  browser validade do cartao bandeira do cartao   email lingua  \\\n",
       "0    PM    Opera              02/20                JCB   yahoo     el   \n",
       "1    PM    Opera              11/18         MASTERCARD  Outros     fr   \n",
       "2    PM  Mozilla              08/19                JCB  Outros     de   \n",
       "3    PM  Mozilla              02/24             Outros  Outros     es   \n",
       "4    AM    Opera              10/25             Outros   gmail     es   \n",
       "\n",
       "   valor da compra sistema operacional  \n",
       "0            98.14               Linux  \n",
       "1            70.73             Windows  \n",
       "2             0.95             Windows  \n",
       "3            78.04                 Mac  \n",
       "4            77.82               Linux  "
      ]
     },
     "execution_count": 21,
     "metadata": {},
     "output_type": "execute_result"
    }
   ],
   "source": [
    "df.head()"
   ]
  },
  {
   "cell_type": "markdown",
   "metadata": {
    "id": "lN480oXtszYE"
   },
   "source": [
    "***\n",
    "# **Visualizando dados**\n",
    "Visualizando compras por turno"
   ]
  },
  {
   "cell_type": "code",
   "execution_count": 30,
   "metadata": {
    "colab": {
     "base_uri": "https://localhost:8080/",
     "height": 457
    },
    "id": "yze99R2iuCXI",
    "outputId": "5d48468e-ecbf-47b7-a8d7-aee7ef0c0d8c"
   },
   "outputs": [
    {
     "data": {
      "image/png": "[encoded data removed]",
      "text/plain": [
       "<Figure size 720x480 with 1 Axes>"
      ]
     },
     "metadata": {},
     "output_type": "display_data"
    }
   ],
   "source": [
    "sns.set_style(\"whitegrid\")\n",
    "plt.figure(dpi=120)\n",
    "sns.set_palette(\"BuPu_r\")\n",
    "plt.ylabel(\"valor\")\n",
    "sns.scatterplot(y=\"valor da compra\", x=\"turno\", data=df)\n",
    "plt.show()"
   ]
  },
  {
   "cell_type": "markdown",
   "metadata": {
    "id": "aTrXrrub0ubW"
   },
   "source": [
    "Obs: Há um equilibrio de quantidade de compras realizadas por turno\n",
    "***"
   ]
  },
  {
   "cell_type": "markdown",
   "metadata": {
    "id": "HxOjOsFn1gAf"
   },
   "source": [
    "## Visualizando quantidade de compras por bandeira do cartão"
   ]
  },
  {
   "cell_type": "code",
   "execution_count": 365,
   "metadata": {
    "colab": {
     "base_uri": "https://localhost:8080/",
     "height": 457
    },
    "id": "ENFUuZtcyfGt",
    "outputId": "d0026658-41c0-48c1-e8a3-7b4b8a723cad"
   },
   "outputs": [
    {
     "data": {
      "image/png": "[encoded data removed]",
      "text/plain": [
       "<Figure size 720x480 with 1 Axes>"
      ]
     },
     "metadata": {
      "tags": []
     },
     "output_type": "display_data"
    }
   ],
   "source": [
    "plt.figure(dpi=120)\n",
    "sns.set_palette(\"Dark2_r\")\n",
    "plt.ylabel(\"valor\")\n",
    "sns.countplot(x=\"bandeira do cartao\", data=df)\n",
    "plt.show()"
   ]
  },
  {
   "cell_type": "markdown",
   "metadata": {
    "id": "E8KhsGyX21iG"
   },
   "source": [
    "Obs: As banddeiras mais variadas juntas são responsáveis pela grande maioria das compras realizadas\n",
    "***"
   ]
  },
  {
   "cell_type": "markdown",
   "metadata": {
    "id": "lUnHLKKQ3M_f"
   },
   "source": [
    "## Sistemas operacionais mais usados"
   ]
  },
  {
   "cell_type": "code",
   "execution_count": 366,
   "metadata": {
    "colab": {
     "base_uri": "https://localhost:8080/",
     "height": 457
    },
    "id": "84F8BE201yAc",
    "outputId": "4878444b-4d0a-4299-9644-08fb8e66c8bb"
   },
   "outputs": [
    {
     "data": {
      "image/png": "[encoded data removed]",
      "text/plain": [
       "<Figure size 720x480 with 1 Axes>"
      ]
     },
     "metadata": {
      "tags": []
     },
     "output_type": "display_data"
    }
   ],
   "source": [
    "plt.figure(dpi=120)\n",
    "sns.set_palette(\"BuPu_r\")\n",
    "plt.ylabel(\"quantidade\")\n",
    "sns.countplot(x=\"sistema operacional\",data=df)\n",
    "plt.show()"
   ]
  },
  {
   "cell_type": "markdown",
   "metadata": {
    "id": "8XsgqDN33Xov"
   },
   "source": [
    "***"
   ]
  },
  {
   "cell_type": "markdown",
   "metadata": {
    "id": "sH4zNJV43ti4"
   },
   "source": [
    "## Browser mais utilizado"
   ]
  },
  {
   "cell_type": "code",
   "execution_count": 367,
   "metadata": {
    "colab": {
     "base_uri": "https://localhost:8080/",
     "height": 457
    },
    "id": "6Bdmo8vR17gi",
    "outputId": "72a32917-ca45-4e4d-d09b-b3bd795aa3e3"
   },
   "outputs": [
    {
     "data": {
      "image/png": "[encoded data removed]",
      "text/plain": [
       "<Figure size 720x480 with 1 Axes>"
      ]
     },
     "metadata": {
      "tags": []
     },
     "output_type": "display_data"
    }
   ],
   "source": [
    "plt.figure(dpi=120)\n",
    "sns.set_palette(\"Set1\")\n",
    "plt.ylabel(\"quantidade\")\n",
    "sns.countplot(x=\"browser\",data=df)\n",
    "plt.show()"
   ]
  },
  {
   "cell_type": "markdown",
   "metadata": {
    "id": "739FeLMu4A9B"
   },
   "source": [
    "***\n",
    "# Agrupamentos\n",
    "## Agrupando media de compras realizadas por browser"
   ]
  },
  {
   "cell_type": "code",
   "execution_count": 368,
   "metadata": {
    "colab": {
     "base_uri": "https://localhost:8080/",
     "height": 142
    },
    "id": "NZdhFj5Y3rUH",
    "outputId": "02089f80-3f4f-4425-eace-858502aa186f"
   },
   "outputs": [
    {
     "data": {
      "text/html": [
       "<div>\n",
       "<style scoped>\n",
       "    .dataframe tbody tr th:only-of-type {\n",
       "        vertical-align: middle;\n",
       "    }\n",
       "\n",
       "    .dataframe tbody tr th {\n",
       "        vertical-align: top;\n",
       "    }\n",
       "\n",
       "    .dataframe thead th {\n",
       "        text-align: right;\n",
       "    }\n",
       "</style>\n",
       "<table border=\"1\" class=\"dataframe\">\n",
       "  <thead>\n",
       "    <tr style=\"text-align: right;\">\n",
       "      <th></th>\n",
       "      <th>valor da compra</th>\n",
       "    </tr>\n",
       "    <tr>\n",
       "      <th>browser</th>\n",
       "      <th></th>\n",
       "    </tr>\n",
       "  </thead>\n",
       "  <tbody>\n",
       "    <tr>\n",
       "      <th>Mozilla</th>\n",
       "      <td>50.194543</td>\n",
       "    </tr>\n",
       "    <tr>\n",
       "      <th>Opera</th>\n",
       "      <td>50.930376</td>\n",
       "    </tr>\n",
       "  </tbody>\n",
       "</table>\n",
       "</div>"
      ],
      "text/plain": [
       "         valor da compra\n",
       "browser                 \n",
       "Mozilla        50.194543\n",
       "Opera          50.930376"
      ]
     },
     "execution_count": 368,
     "metadata": {
      "tags": []
     },
     "output_type": "execute_result"
    }
   ],
   "source": [
    "df[[\"valor da compra\",\"browser\"]].groupby(\"browser\").mean()"
   ]
  },
  {
   "cell_type": "markdown",
   "metadata": {
    "id": "q3KUzIbC4wOm"
   },
   "source": [
    "Obs: É notavel que, por mais que o mozilla tenha a maior quantidade de compras realizadas, as compras pelo opera sao mais caras ao ponto de se igualar as do mozilla.\n",
    "***"
   ]
  },
  {
   "cell_type": "markdown",
   "metadata": {
    "id": "fYwf2GCC5EY1"
   },
   "source": [
    "## Agrupando media de compras realizadas por sistema operacional"
   ]
  },
  {
   "cell_type": "code",
   "execution_count": 369,
   "metadata": {
    "colab": {
     "base_uri": "https://localhost:8080/",
     "height": 173
    },
    "id": "nmdPKgYN4ha6",
    "outputId": "f8dfede2-5ad0-4cd5-cd78-acd5d3271d82"
   },
   "outputs": [
    {
     "data": {
      "text/html": [
       "<div>\n",
       "<style scoped>\n",
       "    .dataframe tbody tr th:only-of-type {\n",
       "        vertical-align: middle;\n",
       "    }\n",
       "\n",
       "    .dataframe tbody tr th {\n",
       "        vertical-align: top;\n",
       "    }\n",
       "\n",
       "    .dataframe thead th {\n",
       "        text-align: right;\n",
       "    }\n",
       "</style>\n",
       "<table border=\"1\" class=\"dataframe\">\n",
       "  <thead>\n",
       "    <tr style=\"text-align: right;\">\n",
       "      <th></th>\n",
       "      <th>valor da compra</th>\n",
       "    </tr>\n",
       "    <tr>\n",
       "      <th>sistema operacional</th>\n",
       "      <th></th>\n",
       "    </tr>\n",
       "  </thead>\n",
       "  <tbody>\n",
       "    <tr>\n",
       "      <th>Linux</th>\n",
       "      <td>50.852898</td>\n",
       "    </tr>\n",
       "    <tr>\n",
       "      <th>Mac</th>\n",
       "      <td>49.159955</td>\n",
       "    </tr>\n",
       "    <tr>\n",
       "      <th>Windows</th>\n",
       "      <td>50.750354</td>\n",
       "    </tr>\n",
       "  </tbody>\n",
       "</table>\n",
       "</div>"
      ],
      "text/plain": [
       "                     valor da compra\n",
       "sistema operacional                 \n",
       "Linux                      50.852898\n",
       "Mac                        49.159955\n",
       "Windows                    50.750354"
      ]
     },
     "execution_count": 369,
     "metadata": {
      "tags": []
     },
     "output_type": "execute_result"
    }
   ],
   "source": [
    "df[[\"valor da compra\",\"sistema operacional\"]].groupby(\"sistema operacional\").mean()"
   ]
  },
  {
   "cell_type": "markdown",
   "metadata": {
    "id": "xFfyoLXX5zIW"
   },
   "source": [
    "Obs: Também é notável que por mais que o windows ganhe disparado em quantidade de clientes, o linux contém usuários que fazem compras mais robustas\n",
    "***"
   ]
  },
  {
   "cell_type": "markdown",
   "metadata": {
    "id": "ad9aVlc26TUt"
   },
   "source": [
    "## Agrupando media de compras realizadas por turno"
   ]
  },
  {
   "cell_type": "code",
   "execution_count": 370,
   "metadata": {
    "colab": {
     "base_uri": "https://localhost:8080/",
     "height": 142
    },
    "id": "Osw-PVo15NNz",
    "outputId": "04c46069-dc40-4ba8-87c7-a85c421b6909"
   },
   "outputs": [
    {
     "data": {
      "text/html": [
       "<div>\n",
       "<style scoped>\n",
       "    .dataframe tbody tr th:only-of-type {\n",
       "        vertical-align: middle;\n",
       "    }\n",
       "\n",
       "    .dataframe tbody tr th {\n",
       "        vertical-align: top;\n",
       "    }\n",
       "\n",
       "    .dataframe thead th {\n",
       "        text-align: right;\n",
       "    }\n",
       "</style>\n",
       "<table border=\"1\" class=\"dataframe\">\n",
       "  <thead>\n",
       "    <tr style=\"text-align: right;\">\n",
       "      <th></th>\n",
       "      <th>valor da compra</th>\n",
       "    </tr>\n",
       "    <tr>\n",
       "      <th>turno</th>\n",
       "      <th></th>\n",
       "    </tr>\n",
       "  </thead>\n",
       "  <tbody>\n",
       "    <tr>\n",
       "      <th>AM</th>\n",
       "      <td>50.186511</td>\n",
       "    </tr>\n",
       "    <tr>\n",
       "      <th>PM</th>\n",
       "      <td>50.503779</td>\n",
       "    </tr>\n",
       "  </tbody>\n",
       "</table>\n",
       "</div>"
      ],
      "text/plain": [
       "       valor da compra\n",
       "turno                 \n",
       "AM           50.186511\n",
       "PM           50.503779"
      ]
     },
     "execution_count": 370,
     "metadata": {
      "tags": []
     },
     "output_type": "execute_result"
    }
   ],
   "source": [
    "df[[\"valor da compra\",\"turno\"]].groupby(\"turno\").mean()"
   ]
  },
  {
   "cell_type": "markdown",
   "metadata": {
    "id": "If9Tneoa8TNV"
   },
   "source": [
    "***\n",
    "## Agrupando media de compras realizadas por email"
   ]
  },
  {
   "cell_type": "code",
   "execution_count": 371,
   "metadata": {
    "colab": {
     "base_uri": "https://localhost:8080/",
     "height": 204
    },
    "id": "xNQT8WtS8ZOD",
    "outputId": "1cedf071-9513-4075-e7ad-15d3ab18947c"
   },
   "outputs": [
    {
     "data": {
      "text/html": [
       "<div>\n",
       "<style scoped>\n",
       "    .dataframe tbody tr th:only-of-type {\n",
       "        vertical-align: middle;\n",
       "    }\n",
       "\n",
       "    .dataframe tbody tr th {\n",
       "        vertical-align: top;\n",
       "    }\n",
       "\n",
       "    .dataframe thead th {\n",
       "        text-align: right;\n",
       "    }\n",
       "</style>\n",
       "<table border=\"1\" class=\"dataframe\">\n",
       "  <thead>\n",
       "    <tr style=\"text-align: right;\">\n",
       "      <th></th>\n",
       "      <th>valor da compra</th>\n",
       "    </tr>\n",
       "    <tr>\n",
       "      <th>email</th>\n",
       "      <th></th>\n",
       "    </tr>\n",
       "  </thead>\n",
       "  <tbody>\n",
       "    <tr>\n",
       "      <th>Outros</th>\n",
       "      <td>50.267607</td>\n",
       "    </tr>\n",
       "    <tr>\n",
       "      <th>gmail</th>\n",
       "      <td>49.269371</td>\n",
       "    </tr>\n",
       "    <tr>\n",
       "      <th>hotmail</th>\n",
       "      <td>51.165995</td>\n",
       "    </tr>\n",
       "    <tr>\n",
       "      <th>yahoo</th>\n",
       "      <td>50.841590</td>\n",
       "    </tr>\n",
       "  </tbody>\n",
       "</table>\n",
       "</div>"
      ],
      "text/plain": [
       "         valor da compra\n",
       "email                   \n",
       "Outros         50.267607\n",
       "gmail          49.269371\n",
       "hotmail        51.165995\n",
       "yahoo          50.841590"
      ]
     },
     "execution_count": 371,
     "metadata": {
      "tags": []
     },
     "output_type": "execute_result"
    }
   ],
   "source": [
    "df[[\"valor da compra\",\"email\"]].groupby(\"email\").mean()"
   ]
  },
  {
   "cell_type": "markdown",
   "metadata": {
    "id": "vIV_HRw18s8j"
   },
   "source": [
    "***\n",
    "## Agrupando media de compras realizadas por bandeira "
   ]
  },
  {
   "cell_type": "code",
   "execution_count": 372,
   "metadata": {
    "colab": {
     "base_uri": "https://localhost:8080/",
     "height": 235
    },
    "id": "8e_chMeb80qx",
    "outputId": "98ce8c77-2613-4c4f-d127-cd6c23369dab"
   },
   "outputs": [
    {
     "data": {
      "text/html": [
       "<div>\n",
       "<style scoped>\n",
       "    .dataframe tbody tr th:only-of-type {\n",
       "        vertical-align: middle;\n",
       "    }\n",
       "\n",
       "    .dataframe tbody tr th {\n",
       "        vertical-align: top;\n",
       "    }\n",
       "\n",
       "    .dataframe thead th {\n",
       "        text-align: right;\n",
       "    }\n",
       "</style>\n",
       "<table border=\"1\" class=\"dataframe\">\n",
       "  <thead>\n",
       "    <tr style=\"text-align: right;\">\n",
       "      <th></th>\n",
       "      <th>valor da compra</th>\n",
       "    </tr>\n",
       "    <tr>\n",
       "      <th>bandeira do cartao</th>\n",
       "      <th></th>\n",
       "    </tr>\n",
       "  </thead>\n",
       "  <tbody>\n",
       "    <tr>\n",
       "      <th>AM_EXPRESS</th>\n",
       "      <td>50.489423</td>\n",
       "    </tr>\n",
       "    <tr>\n",
       "      <th>JCB</th>\n",
       "      <td>49.912512</td>\n",
       "    </tr>\n",
       "    <tr>\n",
       "      <th>MASTERCARD</th>\n",
       "      <td>50.043015</td>\n",
       "    </tr>\n",
       "    <tr>\n",
       "      <th>Outros</th>\n",
       "      <td>50.718954</td>\n",
       "    </tr>\n",
       "    <tr>\n",
       "      <th>VISA</th>\n",
       "      <td>50.363323</td>\n",
       "    </tr>\n",
       "  </tbody>\n",
       "</table>\n",
       "</div>"
      ],
      "text/plain": [
       "                    valor da compra\n",
       "bandeira do cartao                 \n",
       "AM_EXPRESS                50.489423\n",
       "JCB                       49.912512\n",
       "MASTERCARD                50.043015\n",
       "Outros                    50.718954\n",
       "VISA                      50.363323"
      ]
     },
     "execution_count": 372,
     "metadata": {
      "tags": []
     },
     "output_type": "execute_result"
    }
   ],
   "source": [
    "df[[\"valor da compra\",'bandeira do cartao']].groupby(\"bandeira do cartao\").mean()"
   ]
  },
  {
   "cell_type": "markdown",
   "metadata": {
    "id": "7UMIVMKEB6xX"
   },
   "source": [
    "***\n",
    "# Conclusão\n",
    "### Windows é o mais utilizado, mas não tem o melhor historico de lucros, ambos os sistemas possuem um equilibrio em seus dados o suficiente para nao optar por um especifico"
   ]
  }
 ],
 "metadata": {
  "colab": {
   "collapsed_sections": [],
   "name": "DataMining_browserAndSO.ipynb",
   "provenance": []
  },
  "kernelspec": {
   "display_name": "Python 3",
   "language": "python",
   "name": "python3"
  },
  "language_info": {
   "codemirror_mode": {
    "name": "ipython",
    "version": 3
   },
   "file_extension": ".py",
   "mimetype": "text/x-python",
   "name": "python",
   "nbconvert_exporter": "python",
   "pygments_lexer": "ipython3",
   "version": "3.8.5"
  }
 },
 "nbformat": 4,
 "nbformat_minor": 1
}

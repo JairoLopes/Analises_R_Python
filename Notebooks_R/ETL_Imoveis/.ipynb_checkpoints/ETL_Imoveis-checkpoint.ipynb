{
 "cells": [
  {
   "cell_type": "markdown",
   "id": "11c3eed2",
   "metadata": {},
   "source": [
    "# Resumo\n",
    "Este notebook fará uma pequena analise exploratória dos dados de um dataset de venda de casas, para realizar a predição de preços de novas casas com caracteristicas semelhantes as ja vendidas"
   ]
  },
  {
   "cell_type": "code",
   "execution_count": 7,
   "id": "eae2b02d",
   "metadata": {},
   "outputs": [
    {
     "name": "stderr",
     "output_type": "stream",
     "text": [
      "Parsed with column specification:\n",
      "cols(\n",
      "  `Avg. Area Income` = col_double(),\n",
      "  `Avg. Area House Age` = col_double(),\n",
      "  `Avg. Area Number of Rooms` = col_double(),\n",
      "  `Avg. Area Number of Bedrooms` = col_double(),\n",
      "  `Area Population` = col_double(),\n",
      "  Price = col_double(),\n",
      "  Address = col_character()\n",
      ")\n"
     ]
    }
   ],
   "source": [
    "library(tidyverse)\n",
    "library(ggthemes)\n",
    "library(RColorBrewer)\n",
    "options(scipen = 999)\n",
    "\n",
    "df <- read_csv(\"House.csv\")\n",
    "colnames(df) <- c('media de lucro de venda', 'media idade das casas', 'media numero de salas','media numero de quartos', 'populacao da regiao', 'valor da casa', 'endereco')"
   ]
  },
  {
   "cell_type": "markdown",
   "id": "aca64c9c",
   "metadata": {},
   "source": [
    "### Visão geral do dataset\n",
    "Verificando quantidade de registros e de colunas respectivamente do conjunto de dados"
   ]
  },
  {
   "cell_type": "code",
   "execution_count": 8,
   "id": "5959e996",
   "metadata": {},
   "outputs": [
    {
     "data": {
      "text/html": [
       "<ol class=list-inline>\n",
       "\t<li>5000</li>\n",
       "\t<li>7</li>\n",
       "</ol>\n"
      ],
      "text/latex": [
       "\\begin{enumerate*}\n",
       "\\item 5000\n",
       "\\item 7\n",
       "\\end{enumerate*}\n"
      ],
      "text/markdown": [
       "1. 5000\n",
       "2. 7\n",
       "\n",
       "\n"
      ],
      "text/plain": [
       "[1] 5000    7"
      ]
     },
     "metadata": {},
     "output_type": "display_data"
    }
   ],
   "source": [
    "df %>% dim"
   ]
  },
  {
   "cell_type": "code",
   "execution_count": 9,
   "id": "efed49af",
   "metadata": {},
   "outputs": [
    {
     "data": {
      "text/html": [
       "<table>\n",
       "<thead><tr><th scope=col>media de lucro de venda</th><th scope=col>media idade das casas</th><th scope=col>media numero de salas</th><th scope=col>media numero de quartos</th><th scope=col>populacao da regiao</th><th scope=col>valor da casa</th><th scope=col>endereco</th></tr></thead>\n",
       "<tbody>\n",
       "\t<tr><td>79545.46                                            </td><td>5.682861                                            </td><td>7.009188                                            </td><td>4.09                                                </td><td>23086.80                                            </td><td>1059033.6                                           </td><td>208 Michael Ferry Apt. 674\n",
       "Laurabury, NE 37010-5101</td></tr>\n",
       "\t<tr><td>79248.64                                            </td><td>6.002900                                            </td><td>6.730821                                            </td><td>3.09                                                </td><td>40173.07                                            </td><td>1505890.9                                           </td><td>188 Johnson Views Suite 079\n",
       "Lake Kathleen, CA 48958</td></tr>\n",
       "\t<tr><td>61287.07                                            </td><td>5.865890                                            </td><td>8.512727                                            </td><td>5.13                                                </td><td>36882.16                                            </td><td>1058988.0                                           </td><td>9127 Elizabeth Stravenue\n",
       "Danieltown, WI 06482-3489 </td></tr>\n",
       "\t<tr><td>63345.24                                            </td><td>7.188236                                            </td><td>5.586729                                            </td><td>3.26                                                </td><td>34310.24                                            </td><td>1260616.8                                           </td><td>USS Barnett\n",
       "FPO AP 44820                           </td></tr>\n",
       "\t<tr><td>59982.20                                            </td><td>5.040555                                            </td><td>7.839388                                            </td><td>4.23                                                </td><td>26354.11                                            </td><td> 630943.5                                           </td><td>USNS Raymond\n",
       "FPO AE 09386                          </td></tr>\n",
       "\t<tr><td>80175.75                                            </td><td>4.988408                                            </td><td>6.104512                                            </td><td>4.04                                                </td><td>26748.43                                            </td><td>1068138.1                                           </td><td>06039 Jennifer Islands Apt. 443\n",
       "Tracyport, KS 16077</td></tr>\n",
       "</tbody>\n",
       "</table>\n"
      ],
      "text/latex": [
       "\\begin{tabular}{r|lllllll}\n",
       " media de lucro de venda & media idade das casas & media numero de salas & media numero de quartos & populacao da regiao & valor da casa & endereco\\\\\n",
       "\\hline\n",
       "\t 79545.46                                             & 5.682861                                             & 7.009188                                             & 4.09                                                 & 23086.80                                             & 1059033.6                                            & 208 Michael Ferry Apt. 674\n",
       "Laurabury, NE 37010-5101\\\\\n",
       "\t 79248.64                                             & 6.002900                                             & 6.730821                                             & 3.09                                                 & 40173.07                                             & 1505890.9                                            & 188 Johnson Views Suite 079\n",
       "Lake Kathleen, CA 48958\\\\\n",
       "\t 61287.07                                             & 5.865890                                             & 8.512727                                             & 5.13                                                 & 36882.16                                             & 1058988.0                                            & 9127 Elizabeth Stravenue\n",
       "Danieltown, WI 06482-3489 \\\\\n",
       "\t 63345.24                                             & 7.188236                                             & 5.586729                                             & 3.26                                                 & 34310.24                                             & 1260616.8                                            & USS Barnett\n",
       "FPO AP 44820                           \\\\\n",
       "\t 59982.20                                             & 5.040555                                             & 7.839388                                             & 4.23                                                 & 26354.11                                             &  630943.5                                            & USNS Raymond\n",
       "FPO AE 09386                          \\\\\n",
       "\t 80175.75                                             & 4.988408                                             & 6.104512                                             & 4.04                                                 & 26748.43                                             & 1068138.1                                            & 06039 Jennifer Islands Apt. 443\n",
       "Tracyport, KS 16077\\\\\n",
       "\\end{tabular}\n"
      ],
      "text/markdown": [
       "\n",
       "| media de lucro de venda | media idade das casas | media numero de salas | media numero de quartos | populacao da regiao | valor da casa | endereco |\n",
       "|---|---|---|---|---|---|---|\n",
       "| 79545.46                                             | 5.682861                                             | 7.009188                                             | 4.09                                                 | 23086.80                                             | 1059033.6                                            | 208 Michael Ferry Apt. 674\n",
       "Laurabury, NE 37010-5101 |\n",
       "| 79248.64                                             | 6.002900                                             | 6.730821                                             | 3.09                                                 | 40173.07                                             | 1505890.9                                            | 188 Johnson Views Suite 079\n",
       "Lake Kathleen, CA 48958 |\n",
       "| 61287.07                                             | 5.865890                                             | 8.512727                                             | 5.13                                                 | 36882.16                                             | 1058988.0                                            | 9127 Elizabeth Stravenue\n",
       "Danieltown, WI 06482-3489  |\n",
       "| 63345.24                                             | 7.188236                                             | 5.586729                                             | 3.26                                                 | 34310.24                                             | 1260616.8                                            | USS Barnett\n",
       "FPO AP 44820                            |\n",
       "| 59982.20                                             | 5.040555                                             | 7.839388                                             | 4.23                                                 | 26354.11                                             |  630943.5                                            | USNS Raymond\n",
       "FPO AE 09386                           |\n",
       "| 80175.75                                             | 4.988408                                             | 6.104512                                             | 4.04                                                 | 26748.43                                             | 1068138.1                                            | 06039 Jennifer Islands Apt. 443\n",
       "Tracyport, KS 16077 |\n",
       "\n"
      ],
      "text/plain": [
       "  media de lucro de venda media idade das casas media numero de salas\n",
       "1 79545.46                5.682861              7.009188             \n",
       "2 79248.64                6.002900              6.730821             \n",
       "3 61287.07                5.865890              8.512727             \n",
       "4 63345.24                7.188236              5.586729             \n",
       "5 59982.20                5.040555              7.839388             \n",
       "6 80175.75                4.988408              6.104512             \n",
       "  media numero de quartos populacao da regiao valor da casa\n",
       "1 4.09                    23086.80            1059033.6    \n",
       "2 3.09                    40173.07            1505890.9    \n",
       "3 5.13                    36882.16            1058988.0    \n",
       "4 3.26                    34310.24            1260616.8    \n",
       "5 4.23                    26354.11             630943.5    \n",
       "6 4.04                    26748.43            1068138.1    \n",
       "  endereco                                            \n",
       "1 208 Michael Ferry Apt. 674\\nLaurabury, NE 37010-5101\n",
       "2 188 Johnson Views Suite 079\\nLake Kathleen, CA 48958\n",
       "3 9127 Elizabeth Stravenue\\nDanieltown, WI 06482-3489 \n",
       "4 USS Barnett\\nFPO AP 44820                           \n",
       "5 USNS Raymond\\nFPO AE 09386                          \n",
       "6 06039 Jennifer Islands Apt. 443\\nTracyport, KS 16077"
      ]
     },
     "metadata": {},
     "output_type": "display_data"
    }
   ],
   "source": [
    "df %>% head"
   ]
  },
  {
   "cell_type": "code",
   "execution_count": null,
   "id": "81c5849b",
   "metadata": {},
   "outputs": [],
   "source": []
  }
 ],
 "metadata": {
  "kernelspec": {
   "display_name": "R",
   "language": "R",
   "name": "ir"
  },
  "language_info": {
   "codemirror_mode": "r",
   "file_extension": ".r",
   "mimetype": "text/x-r-source",
   "name": "R",
   "pygments_lexer": "r",
   "version": "3.6.1"
  }
 },
 "nbformat": 4,
 "nbformat_minor": 5
}

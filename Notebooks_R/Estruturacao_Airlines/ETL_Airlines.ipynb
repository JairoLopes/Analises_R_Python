{
 "cells": [
  {
   "cell_type": "code",
   "execution_count": 16,
   "id": "known-fourth",
   "metadata": {},
   "outputs": [],
   "source": [
    "library(tidyverse)\n",
    "library(nycflights13)"
   ]
  },
  {
   "cell_type": "markdown",
   "id": "possible-adelaide",
   "metadata": {},
   "source": [
    "# Estruturação de dados\n",
    "Será feita uma estruturação de um novo conjunto de dados baseando-se em 3 grandes conjuntos sobre companias aéreas, unificando os dados mais relevantes em um conjunto de dados para análises futuras"
   ]
  },
  {
   "cell_type": "markdown",
   "id": "innovative-peace",
   "metadata": {},
   "source": [
    "### Colhendo amostras dos datasets\n",
    "cada conjunto de dados a seguir contém um pouco mais de 300.000(trezentos mil) registros, no entanto, será coletada amostras de 10.000(dez mil) registros."
   ]
  },
  {
   "cell_type": "code",
   "execution_count": 8,
   "id": "final-brown",
   "metadata": {},
   "outputs": [],
   "source": [
    "voos <- flights[1:10000,]\n",
    "aeronaves <- planes[1:10000,]\n",
    "clima <- weather[1:10000,]"
   ]
  },
  {
   "cell_type": "markdown",
   "id": "broadband-basin",
   "metadata": {},
   "source": [
    "## Visualizando os dataframes a serem trabalhados\n",
    "### Conjunto de dados dos vôos"
   ]
  },
  {
   "cell_type": "code",
   "execution_count": 9,
   "id": "unusual-heaven",
   "metadata": {},
   "outputs": [
    {
     "data": {
      "text/html": [
       "<table>\n",
       "<thead><tr><th scope=col>year</th><th scope=col>month</th><th scope=col>day</th><th scope=col>dep_time</th><th scope=col>sched_dep_time</th><th scope=col>dep_delay</th><th scope=col>arr_time</th><th scope=col>sched_arr_time</th><th scope=col>arr_delay</th><th scope=col>carrier</th><th scope=col>flight</th><th scope=col>tailnum</th><th scope=col>origin</th><th scope=col>dest</th><th scope=col>air_time</th><th scope=col>distance</th><th scope=col>hour</th><th scope=col>minute</th><th scope=col>time_hour</th></tr></thead>\n",
       "<tbody>\n",
       "\t<tr><td>2013               </td><td>1                  </td><td>1                  </td><td>517                </td><td>515                </td><td>2                  </td><td>830                </td><td>819                </td><td>11                 </td><td>UA                 </td><td>1545               </td><td>N14228             </td><td>EWR                </td><td>IAH                </td><td>227                </td><td>1400               </td><td>5                  </td><td>15                 </td><td>2013-01-01 05:00:00</td></tr>\n",
       "\t<tr><td>2013               </td><td>1                  </td><td>1                  </td><td>533                </td><td>529                </td><td>4                  </td><td>850                </td><td>830                </td><td>20                 </td><td>UA                 </td><td>1714               </td><td>N24211             </td><td>LGA                </td><td>IAH                </td><td>227                </td><td>1416               </td><td>5                  </td><td>29                 </td><td>2013-01-01 05:00:00</td></tr>\n",
       "</tbody>\n",
       "</table>\n"
      ],
      "text/latex": [
       "\\begin{tabular}{r|lllllllllllllllllll}\n",
       " year & month & day & dep\\_time & sched\\_dep\\_time & dep\\_delay & arr\\_time & sched\\_arr\\_time & arr\\_delay & carrier & flight & tailnum & origin & dest & air\\_time & distance & hour & minute & time\\_hour\\\\\n",
       "\\hline\n",
       "\t 2013                & 1                   & 1                   & 517                 & 515                 & 2                   & 830                 & 819                 & 11                  & UA                  & 1545                & N14228              & EWR                 & IAH                 & 227                 & 1400                & 5                   & 15                  & 2013-01-01 05:00:00\\\\\n",
       "\t 2013                & 1                   & 1                   & 533                 & 529                 & 4                   & 850                 & 830                 & 20                  & UA                  & 1714                & N24211              & LGA                 & IAH                 & 227                 & 1416                & 5                   & 29                  & 2013-01-01 05:00:00\\\\\n",
       "\\end{tabular}\n"
      ],
      "text/markdown": [
       "\n",
       "| year | month | day | dep_time | sched_dep_time | dep_delay | arr_time | sched_arr_time | arr_delay | carrier | flight | tailnum | origin | dest | air_time | distance | hour | minute | time_hour |\n",
       "|---|---|---|---|---|---|---|---|---|---|---|---|---|---|---|---|---|---|---|\n",
       "| 2013                | 1                   | 1                   | 517                 | 515                 | 2                   | 830                 | 819                 | 11                  | UA                  | 1545                | N14228              | EWR                 | IAH                 | 227                 | 1400                | 5                   | 15                  | 2013-01-01 05:00:00 |\n",
       "| 2013                | 1                   | 1                   | 533                 | 529                 | 4                   | 850                 | 830                 | 20                  | UA                  | 1714                | N24211              | LGA                 | IAH                 | 227                 | 1416                | 5                   | 29                  | 2013-01-01 05:00:00 |\n",
       "\n"
      ],
      "text/plain": [
       "  year month day dep_time sched_dep_time dep_delay arr_time sched_arr_time\n",
       "1 2013 1     1   517      515            2         830      819           \n",
       "2 2013 1     1   533      529            4         850      830           \n",
       "  arr_delay carrier flight tailnum origin dest air_time distance hour minute\n",
       "1 11        UA      1545   N14228  EWR    IAH  227      1400     5    15    \n",
       "2 20        UA      1714   N24211  LGA    IAH  227      1416     5    29    \n",
       "  time_hour          \n",
       "1 2013-01-01 05:00:00\n",
       "2 2013-01-01 05:00:00"
      ]
     },
     "metadata": {},
     "output_type": "display_data"
    }
   ],
   "source": [
    "voos[1:2,]"
   ]
  },
  {
   "cell_type": "markdown",
   "id": "fewer-tumor",
   "metadata": {},
   "source": [
    "### Conjunto de dados das aeronaves"
   ]
  },
  {
   "cell_type": "code",
   "execution_count": 10,
   "id": "confirmed-supervision",
   "metadata": {},
   "outputs": [
    {
     "data": {
      "text/html": [
       "<table>\n",
       "<thead><tr><th scope=col>tailnum</th><th scope=col>year</th><th scope=col>type</th><th scope=col>manufacturer</th><th scope=col>model</th><th scope=col>engines</th><th scope=col>seats</th><th scope=col>speed</th><th scope=col>engine</th></tr></thead>\n",
       "<tbody>\n",
       "\t<tr><td>N10156                 </td><td>2004                   </td><td>Fixed wing multi engine</td><td>EMBRAER                </td><td>EMB-145XR              </td><td>2                      </td><td> 55                    </td><td>NA                     </td><td>Turbo-fan              </td></tr>\n",
       "\t<tr><td>N102UW                 </td><td>1998                   </td><td>Fixed wing multi engine</td><td>AIRBUS INDUSTRIE       </td><td>A320-214               </td><td>2                      </td><td>182                    </td><td>NA                     </td><td>Turbo-fan              </td></tr>\n",
       "</tbody>\n",
       "</table>\n"
      ],
      "text/latex": [
       "\\begin{tabular}{r|lllllllll}\n",
       " tailnum & year & type & manufacturer & model & engines & seats & speed & engine\\\\\n",
       "\\hline\n",
       "\t N10156                  & 2004                    & Fixed wing multi engine & EMBRAER                 & EMB-145XR               & 2                       &  55                     & NA                      & Turbo-fan              \\\\\n",
       "\t N102UW                  & 1998                    & Fixed wing multi engine & AIRBUS INDUSTRIE        & A320-214                & 2                       & 182                     & NA                      & Turbo-fan              \\\\\n",
       "\\end{tabular}\n"
      ],
      "text/markdown": [
       "\n",
       "| tailnum | year | type | manufacturer | model | engines | seats | speed | engine |\n",
       "|---|---|---|---|---|---|---|---|---|\n",
       "| N10156                  | 2004                    | Fixed wing multi engine | EMBRAER                 | EMB-145XR               | 2                       |  55                     | NA                      | Turbo-fan               |\n",
       "| N102UW                  | 1998                    | Fixed wing multi engine | AIRBUS INDUSTRIE        | A320-214                | 2                       | 182                     | NA                      | Turbo-fan               |\n",
       "\n"
      ],
      "text/plain": [
       "  tailnum year type                    manufacturer     model     engines seats\n",
       "1 N10156  2004 Fixed wing multi engine EMBRAER          EMB-145XR 2        55  \n",
       "2 N102UW  1998 Fixed wing multi engine AIRBUS INDUSTRIE A320-214  2       182  \n",
       "  speed engine   \n",
       "1 NA    Turbo-fan\n",
       "2 NA    Turbo-fan"
      ]
     },
     "metadata": {},
     "output_type": "display_data"
    }
   ],
   "source": [
    "aeronaves[1:2,]"
   ]
  },
  {
   "cell_type": "markdown",
   "id": "cooked-compiler",
   "metadata": {},
   "source": [
    "### Conjunto de dados do clima"
   ]
  },
  {
   "cell_type": "code",
   "execution_count": 11,
   "id": "lyric-command",
   "metadata": {},
   "outputs": [
    {
     "data": {
      "text/html": [
       "<table>\n",
       "<thead><tr><th scope=col>origin</th><th scope=col>year</th><th scope=col>month</th><th scope=col>day</th><th scope=col>hour</th><th scope=col>temp</th><th scope=col>dewp</th><th scope=col>humid</th><th scope=col>wind_dir</th><th scope=col>wind_speed</th><th scope=col>wind_gust</th><th scope=col>precip</th><th scope=col>pressure</th><th scope=col>visib</th><th scope=col>time_hour</th></tr></thead>\n",
       "<tbody>\n",
       "\t<tr><td>EWR                </td><td>2013               </td><td>1                  </td><td>1                  </td><td>1                  </td><td>39.02              </td><td>26.06              </td><td>59.37              </td><td>270                </td><td>10.35702           </td><td>NA                 </td><td>0                  </td><td>1012.0             </td><td>10                 </td><td>2013-01-01 01:00:00</td></tr>\n",
       "\t<tr><td>EWR                </td><td>2013               </td><td>1                  </td><td>1                  </td><td>2                  </td><td>39.02              </td><td>26.96              </td><td>61.63              </td><td>250                </td><td> 8.05546           </td><td>NA                 </td><td>0                  </td><td>1012.3             </td><td>10                 </td><td>2013-01-01 02:00:00</td></tr>\n",
       "</tbody>\n",
       "</table>\n"
      ],
      "text/latex": [
       "\\begin{tabular}{r|lllllllllllllll}\n",
       " origin & year & month & day & hour & temp & dewp & humid & wind\\_dir & wind\\_speed & wind\\_gust & precip & pressure & visib & time\\_hour\\\\\n",
       "\\hline\n",
       "\t EWR                 & 2013                & 1                   & 1                   & 1                   & 39.02               & 26.06               & 59.37               & 270                 & 10.35702            & NA                  & 0                   & 1012.0              & 10                  & 2013-01-01 01:00:00\\\\\n",
       "\t EWR                 & 2013                & 1                   & 1                   & 2                   & 39.02               & 26.96               & 61.63               & 250                 &  8.05546            & NA                  & 0                   & 1012.3              & 10                  & 2013-01-01 02:00:00\\\\\n",
       "\\end{tabular}\n"
      ],
      "text/markdown": [
       "\n",
       "| origin | year | month | day | hour | temp | dewp | humid | wind_dir | wind_speed | wind_gust | precip | pressure | visib | time_hour |\n",
       "|---|---|---|---|---|---|---|---|---|---|---|---|---|---|---|\n",
       "| EWR                 | 2013                | 1                   | 1                   | 1                   | 39.02               | 26.06               | 59.37               | 270                 | 10.35702            | NA                  | 0                   | 1012.0              | 10                  | 2013-01-01 01:00:00 |\n",
       "| EWR                 | 2013                | 1                   | 1                   | 2                   | 39.02               | 26.96               | 61.63               | 250                 |  8.05546            | NA                  | 0                   | 1012.3              | 10                  | 2013-01-01 02:00:00 |\n",
       "\n"
      ],
      "text/plain": [
       "  origin year month day hour temp  dewp  humid wind_dir wind_speed wind_gust\n",
       "1 EWR    2013 1     1   1    39.02 26.06 59.37 270      10.35702   NA       \n",
       "2 EWR    2013 1     1   2    39.02 26.96 61.63 250       8.05546   NA       \n",
       "  precip pressure visib time_hour          \n",
       "1 0      1012.0   10    2013-01-01 01:00:00\n",
       "2 0      1012.3   10    2013-01-01 02:00:00"
      ]
     },
     "metadata": {},
     "output_type": "display_data"
    }
   ],
   "source": [
    "clima[1:2,]"
   ]
  },
  {
   "cell_type": "markdown",
   "id": "initial-thesaurus",
   "metadata": {},
   "source": [
    "### Selecionando as colunas mais relevantes do conjunto de dados de vôos"
   ]
  },
  {
   "cell_type": "code",
   "execution_count": 12,
   "id": "contained-causing",
   "metadata": {},
   "outputs": [
    {
     "data": {
      "text/html": [
       "<table>\n",
       "<thead><tr><th scope=col>flight</th><th scope=col>tailnum</th><th scope=col>carrier</th><th scope=col>origin</th><th scope=col>dest</th><th scope=col>distance</th><th scope=col>time_hour</th></tr></thead>\n",
       "<tbody>\n",
       "\t<tr><td>1545               </td><td>N14228             </td><td>UA                 </td><td>EWR                </td><td>IAH                </td><td>1400               </td><td>2013-01-01 05:00:00</td></tr>\n",
       "\t<tr><td>1714               </td><td>N24211             </td><td>UA                 </td><td>LGA                </td><td>IAH                </td><td>1416               </td><td>2013-01-01 05:00:00</td></tr>\n",
       "\t<tr><td>1141               </td><td>N619AA             </td><td>AA                 </td><td>JFK                </td><td>MIA                </td><td>1089               </td><td>2013-01-01 05:00:00</td></tr>\n",
       "</tbody>\n",
       "</table>\n"
      ],
      "text/latex": [
       "\\begin{tabular}{r|lllllll}\n",
       " flight & tailnum & carrier & origin & dest & distance & time\\_hour\\\\\n",
       "\\hline\n",
       "\t 1545                & N14228              & UA                  & EWR                 & IAH                 & 1400                & 2013-01-01 05:00:00\\\\\n",
       "\t 1714                & N24211              & UA                  & LGA                 & IAH                 & 1416                & 2013-01-01 05:00:00\\\\\n",
       "\t 1141                & N619AA              & AA                  & JFK                 & MIA                 & 1089                & 2013-01-01 05:00:00\\\\\n",
       "\\end{tabular}\n"
      ],
      "text/markdown": [
       "\n",
       "| flight | tailnum | carrier | origin | dest | distance | time_hour |\n",
       "|---|---|---|---|---|---|---|\n",
       "| 1545                | N14228              | UA                  | EWR                 | IAH                 | 1400                | 2013-01-01 05:00:00 |\n",
       "| 1714                | N24211              | UA                  | LGA                 | IAH                 | 1416                | 2013-01-01 05:00:00 |\n",
       "| 1141                | N619AA              | AA                  | JFK                 | MIA                 | 1089                | 2013-01-01 05:00:00 |\n",
       "\n"
      ],
      "text/plain": [
       "  flight tailnum carrier origin dest distance time_hour          \n",
       "1 1545   N14228  UA      EWR    IAH  1400     2013-01-01 05:00:00\n",
       "2 1714   N24211  UA      LGA    IAH  1416     2013-01-01 05:00:00\n",
       "3 1141   N619AA  AA      JFK    MIA  1089     2013-01-01 05:00:00"
      ]
     },
     "metadata": {},
     "output_type": "display_data"
    }
   ],
   "source": [
    "df <- select(voos, c(flight,tailnum,carrier,origin,dest,distance,time_hour))\n",
    "df[1:3,]"
   ]
  },
  {
   "cell_type": "markdown",
   "id": "incorporate-corps",
   "metadata": {},
   "source": [
    "### Adicionando a coluna seats(assentos) ao conjunto de dados de vôos"
   ]
  },
  {
   "cell_type": "code",
   "execution_count": 13,
   "id": "monthly-contrast",
   "metadata": {},
   "outputs": [
    {
     "data": {
      "text/html": [
       "<table>\n",
       "<thead><tr><th scope=col>flight</th><th scope=col>tailnum</th><th scope=col>carrier</th><th scope=col>origin</th><th scope=col>dest</th><th scope=col>distance</th><th scope=col>time_hour</th><th scope=col>seats</th></tr></thead>\n",
       "<tbody>\n",
       "\t<tr><td>1545               </td><td>N14228             </td><td>UA                 </td><td>EWR                </td><td>IAH                </td><td>1400               </td><td>2013-01-01 05:00:00</td><td>149                </td></tr>\n",
       "\t<tr><td>1714               </td><td>N24211             </td><td>UA                 </td><td>LGA                </td><td>IAH                </td><td>1416               </td><td>2013-01-01 05:00:00</td><td>149                </td></tr>\n",
       "\t<tr><td>1141               </td><td>N619AA             </td><td>AA                 </td><td>JFK                </td><td>MIA                </td><td>1089               </td><td>2013-01-01 05:00:00</td><td>178                </td></tr>\n",
       "</tbody>\n",
       "</table>\n"
      ],
      "text/latex": [
       "\\begin{tabular}{r|llllllll}\n",
       " flight & tailnum & carrier & origin & dest & distance & time\\_hour & seats\\\\\n",
       "\\hline\n",
       "\t 1545                & N14228              & UA                  & EWR                 & IAH                 & 1400                & 2013-01-01 05:00:00 & 149                \\\\\n",
       "\t 1714                & N24211              & UA                  & LGA                 & IAH                 & 1416                & 2013-01-01 05:00:00 & 149                \\\\\n",
       "\t 1141                & N619AA              & AA                  & JFK                 & MIA                 & 1089                & 2013-01-01 05:00:00 & 178                \\\\\n",
       "\\end{tabular}\n"
      ],
      "text/markdown": [
       "\n",
       "| flight | tailnum | carrier | origin | dest | distance | time_hour | seats |\n",
       "|---|---|---|---|---|---|---|---|\n",
       "| 1545                | N14228              | UA                  | EWR                 | IAH                 | 1400                | 2013-01-01 05:00:00 | 149                 |\n",
       "| 1714                | N24211              | UA                  | LGA                 | IAH                 | 1416                | 2013-01-01 05:00:00 | 149                 |\n",
       "| 1141                | N619AA              | AA                  | JFK                 | MIA                 | 1089                | 2013-01-01 05:00:00 | 178                 |\n",
       "\n"
      ],
      "text/plain": [
       "  flight tailnum carrier origin dest distance time_hour           seats\n",
       "1 1545   N14228  UA      EWR    IAH  1400     2013-01-01 05:00:00 149  \n",
       "2 1714   N24211  UA      LGA    IAH  1416     2013-01-01 05:00:00 149  \n",
       "3 1141   N619AA  AA      JFK    MIA  1089     2013-01-01 05:00:00 178  "
      ]
     },
     "metadata": {},
     "output_type": "display_data"
    }
   ],
   "source": [
    "df <- df %>% left_join(y= aeronaves[,c(1,7)] , by = \"tailnum\" )\n",
    "df[1:3,]"
   ]
  },
  {
   "cell_type": "markdown",
   "id": "several-electric",
   "metadata": {},
   "source": [
    "### Selecionando as colunas mais relevantes do conjunto de dados de clima"
   ]
  },
  {
   "cell_type": "code",
   "execution_count": 14,
   "id": "commercial-church",
   "metadata": {},
   "outputs": [
    {
     "data": {
      "text/html": [
       "<table>\n",
       "<thead><tr><th scope=col>time_hour</th><th scope=col>visib</th><th scope=col>humid</th><th scope=col>temp</th></tr></thead>\n",
       "<tbody>\n",
       "\t<tr><td>2013-01-01 01:00:00</td><td>10                 </td><td>59.37              </td><td>39.02              </td></tr>\n",
       "\t<tr><td>2013-01-01 02:00:00</td><td>10                 </td><td>61.63              </td><td>39.02              </td></tr>\n",
       "</tbody>\n",
       "</table>\n"
      ],
      "text/latex": [
       "\\begin{tabular}{r|llll}\n",
       " time\\_hour & visib & humid & temp\\\\\n",
       "\\hline\n",
       "\t 2013-01-01 01:00:00 & 10                  & 59.37               & 39.02              \\\\\n",
       "\t 2013-01-01 02:00:00 & 10                  & 61.63               & 39.02              \\\\\n",
       "\\end{tabular}\n"
      ],
      "text/markdown": [
       "\n",
       "| time_hour | visib | humid | temp |\n",
       "|---|---|---|---|\n",
       "| 2013-01-01 01:00:00 | 10                  | 59.37               | 39.02               |\n",
       "| 2013-01-01 02:00:00 | 10                  | 61.63               | 39.02               |\n",
       "\n"
      ],
      "text/plain": [
       "  time_hour           visib humid temp \n",
       "1 2013-01-01 01:00:00 10    59.37 39.02\n",
       "2 2013-01-01 02:00:00 10    61.63 39.02"
      ]
     },
     "metadata": {},
     "output_type": "display_data"
    }
   ],
   "source": [
    "clima <- clima %>% select(c(time_hour,visib,humid,temp))\n",
    "clima[1:2,]"
   ]
  },
  {
   "cell_type": "markdown",
   "id": "phantom-progress",
   "metadata": {},
   "source": [
    "### Adicionando as colunas do conjunto de dados clima ao conjunto de dados de vôos"
   ]
  },
  {
   "cell_type": "code",
   "execution_count": 15,
   "id": "balanced-title",
   "metadata": {},
   "outputs": [
    {
     "data": {
      "text/html": [
       "<table>\n",
       "<thead><tr><th scope=col>n.voo</th><th scope=col>id_Aeronave</th><th scope=col>linha_aerea</th><th scope=col>origem</th><th scope=col>destino</th><th scope=col>distancia</th><th scope=col>data_e_hora</th><th scope=col>assentos_aeronave</th><th scope=col>visibilidade</th><th scope=col>umidade</th><th scope=col>temperatura</th></tr></thead>\n",
       "<tbody>\n",
       "\t<tr><td>1545               </td><td>N14228             </td><td>UA                 </td><td>EWR                </td><td>IAH                </td><td>1400               </td><td>2013-01-01 05:00:00</td><td>149                </td><td>10                 </td><td>64.43              </td><td>39.02              </td></tr>\n",
       "\t<tr><td>1545               </td><td>N14228             </td><td>UA                 </td><td>EWR                </td><td>IAH                </td><td>1400               </td><td>2013-01-01 05:00:00</td><td>149                </td><td>10                 </td><td>61.63              </td><td>39.02              </td></tr>\n",
       "\t<tr><td>1714               </td><td>N24211             </td><td>UA                 </td><td>LGA                </td><td>IAH                </td><td>1416               </td><td>2013-01-01 05:00:00</td><td>149                </td><td>10                 </td><td>64.43              </td><td>39.02              </td></tr>\n",
       "\t<tr><td>1714               </td><td>N24211             </td><td>UA                 </td><td>LGA                </td><td>IAH                </td><td>1416               </td><td>2013-01-01 05:00:00</td><td>149                </td><td>10                 </td><td>61.63              </td><td>39.02              </td></tr>\n",
       "\t<tr><td>1141               </td><td>N619AA             </td><td>AA                 </td><td>JFK                </td><td>MIA                </td><td>1089               </td><td>2013-01-01 05:00:00</td><td>178                </td><td>10                 </td><td>64.43              </td><td>39.02              </td></tr>\n",
       "\t<tr><td>1141               </td><td>N619AA             </td><td>AA                 </td><td>JFK                </td><td>MIA                </td><td>1089               </td><td>2013-01-01 05:00:00</td><td>178                </td><td>10                 </td><td>61.63              </td><td>39.02              </td></tr>\n",
       "</tbody>\n",
       "</table>\n"
      ],
      "text/latex": [
       "\\begin{tabular}{r|lllllllllll}\n",
       " n.voo & id\\_Aeronave & linha\\_aerea & origem & destino & distancia & data\\_e\\_hora & assentos\\_aeronave & visibilidade & umidade & temperatura\\\\\n",
       "\\hline\n",
       "\t 1545                & N14228              & UA                  & EWR                 & IAH                 & 1400                & 2013-01-01 05:00:00 & 149                 & 10                  & 64.43               & 39.02              \\\\\n",
       "\t 1545                & N14228              & UA                  & EWR                 & IAH                 & 1400                & 2013-01-01 05:00:00 & 149                 & 10                  & 61.63               & 39.02              \\\\\n",
       "\t 1714                & N24211              & UA                  & LGA                 & IAH                 & 1416                & 2013-01-01 05:00:00 & 149                 & 10                  & 64.43               & 39.02              \\\\\n",
       "\t 1714                & N24211              & UA                  & LGA                 & IAH                 & 1416                & 2013-01-01 05:00:00 & 149                 & 10                  & 61.63               & 39.02              \\\\\n",
       "\t 1141                & N619AA              & AA                  & JFK                 & MIA                 & 1089                & 2013-01-01 05:00:00 & 178                 & 10                  & 64.43               & 39.02              \\\\\n",
       "\t 1141                & N619AA              & AA                  & JFK                 & MIA                 & 1089                & 2013-01-01 05:00:00 & 178                 & 10                  & 61.63               & 39.02              \\\\\n",
       "\\end{tabular}\n"
      ],
      "text/markdown": [
       "\n",
       "| n.voo | id_Aeronave | linha_aerea | origem | destino | distancia | data_e_hora | assentos_aeronave | visibilidade | umidade | temperatura |\n",
       "|---|---|---|---|---|---|---|---|---|---|---|\n",
       "| 1545                | N14228              | UA                  | EWR                 | IAH                 | 1400                | 2013-01-01 05:00:00 | 149                 | 10                  | 64.43               | 39.02               |\n",
       "| 1545                | N14228              | UA                  | EWR                 | IAH                 | 1400                | 2013-01-01 05:00:00 | 149                 | 10                  | 61.63               | 39.02               |\n",
       "| 1714                | N24211              | UA                  | LGA                 | IAH                 | 1416                | 2013-01-01 05:00:00 | 149                 | 10                  | 64.43               | 39.02               |\n",
       "| 1714                | N24211              | UA                  | LGA                 | IAH                 | 1416                | 2013-01-01 05:00:00 | 149                 | 10                  | 61.63               | 39.02               |\n",
       "| 1141                | N619AA              | AA                  | JFK                 | MIA                 | 1089                | 2013-01-01 05:00:00 | 178                 | 10                  | 64.43               | 39.02               |\n",
       "| 1141                | N619AA              | AA                  | JFK                 | MIA                 | 1089                | 2013-01-01 05:00:00 | 178                 | 10                  | 61.63               | 39.02               |\n",
       "\n"
      ],
      "text/plain": [
       "  n.voo id_Aeronave linha_aerea origem destino distancia data_e_hora        \n",
       "1 1545  N14228      UA          EWR    IAH     1400      2013-01-01 05:00:00\n",
       "2 1545  N14228      UA          EWR    IAH     1400      2013-01-01 05:00:00\n",
       "3 1714  N24211      UA          LGA    IAH     1416      2013-01-01 05:00:00\n",
       "4 1714  N24211      UA          LGA    IAH     1416      2013-01-01 05:00:00\n",
       "5 1141  N619AA      AA          JFK    MIA     1089      2013-01-01 05:00:00\n",
       "6 1141  N619AA      AA          JFK    MIA     1089      2013-01-01 05:00:00\n",
       "  assentos_aeronave visibilidade umidade temperatura\n",
       "1 149               10           64.43   39.02      \n",
       "2 149               10           61.63   39.02      \n",
       "3 149               10           64.43   39.02      \n",
       "4 149               10           61.63   39.02      \n",
       "5 178               10           64.43   39.02      \n",
       "6 178               10           61.63   39.02      "
      ]
     },
     "metadata": {},
     "output_type": "display_data"
    }
   ],
   "source": [
    "df <- df %>% inner_join(y = clima, by = \"time_hour\")\n",
    "names(df) <- c(\"n.voo\",\"id_Aeronave\",\"linha_aerea\",\"origem\",\"destino\",\"distancia\",\"data_e_hora\",\"assentos_aeronave\",\"visibilidade\",\"umidade\",\"temperatura\")\n",
    "head(df)"
   ]
  },
  {
   "cell_type": "code",
   "execution_count": null,
   "id": "rental-optics",
   "metadata": {},
   "outputs": [],
   "source": []
  }
 ],
 "metadata": {
  "kernelspec": {
   "display_name": "R",
   "language": "R",
   "name": "ir"
  },
  "language_info": {
   "codemirror_mode": "r",
   "file_extension": ".r",
   "mimetype": "text/x-r-source",
   "name": "R",
   "pygments_lexer": "r",
   "version": "3.6.1"
  }
 },
 "nbformat": 4,
 "nbformat_minor": 5
}

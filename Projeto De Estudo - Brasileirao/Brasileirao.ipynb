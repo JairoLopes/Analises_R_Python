{
 "cells": [
  {
   "cell_type": "markdown",
   "metadata": {},
   "source": [
    "# Resumo\n",
    "\n",
    "Será feita uma análise do conjunto de dados do campeonato brasileiro desde a temporada 2000 ate o ano de 2019, estudando o histórico do Clube Sociedade Esportiva Palmeiras afim de extrair informações relevantes.\n",
    "\n",
    "![Alt ou título da imagem](https://upload.wikimedia.org/wikipedia/pt/7/75/Brasileirao_2011_Logo.png)\n",
    "\n",
    "#### Obs:\n",
    "Lembrando que o campeonato brasileiro é um campeonato de pontos corridos, com 38 rodadas, onde uma vitória soma 3 pontos, empate soma 1, e derrota 0 pontos, e o time que conseguir maior quantidade de pontos ao final do campeonato vence, tendo critérios a parte em caso de empate de pontos, dito isso, vamos para a análise."
   ]
  },
  {
   "cell_type": "code",
   "execution_count": 199,
   "metadata": {
    "scrolled": true
   },
   "outputs": [],
   "source": [
    "import pandas as pd\n",
    "import numpy as np\n",
    "import matplotlib.pyplot as plt\n",
    "%matplotlib inline\n",
    "import seaborn as sns\n",
    "import warnings\n",
    "warnings.filterwarnings(\"ignore\")\n",
    "plt.rcParams[\"figure.figsize\"] = 8,5"
   ]
  },
  {
   "cell_type": "code",
   "execution_count": 200,
   "metadata": {},
   "outputs": [
    {
     "data": {
      "text/html": [
       "<div>\n",
       "<style scoped>\n",
       "    .dataframe tbody tr th:only-of-type {\n",
       "        vertical-align: middle;\n",
       "    }\n",
       "\n",
       "    .dataframe tbody tr th {\n",
       "        vertical-align: top;\n",
       "    }\n",
       "\n",
       "    .dataframe thead th {\n",
       "        text-align: right;\n",
       "    }\n",
       "</style>\n",
       "<table border=\"1\" class=\"dataframe\">\n",
       "  <thead>\n",
       "    <tr style=\"text-align: right;\">\n",
       "      <th></th>\n",
       "      <th>Horário</th>\n",
       "      <th>Dia</th>\n",
       "      <th>Data</th>\n",
       "      <th>Clube 1</th>\n",
       "      <th>Clube 2</th>\n",
       "      <th>Vencedor</th>\n",
       "      <th>Rodada</th>\n",
       "      <th>Arena</th>\n",
       "      <th>Clube 1 Gols</th>\n",
       "      <th>Clube 2 Gols</th>\n",
       "      <th>Clube 1 Estado</th>\n",
       "      <th>Clube 2 Estado</th>\n",
       "      <th>Estado Clube Vencedor</th>\n",
       "    </tr>\n",
       "  </thead>\n",
       "  <tbody>\n",
       "    <tr>\n",
       "      <th>0</th>\n",
       "      <td>16h00</td>\n",
       "      <td>Sábado</td>\n",
       "      <td>2000-07-29</td>\n",
       "      <td>Fluminense</td>\n",
       "      <td>Bahia</td>\n",
       "      <td>Fluminense</td>\n",
       "      <td>1ª Rodada</td>\n",
       "      <td>Maracanã</td>\n",
       "      <td>2</td>\n",
       "      <td>0</td>\n",
       "      <td>RJ</td>\n",
       "      <td>BA</td>\n",
       "      <td>RJ</td>\n",
       "    </tr>\n",
       "    <tr>\n",
       "      <th>1</th>\n",
       "      <td>16h00</td>\n",
       "      <td>Sábado</td>\n",
       "      <td>2000-07-29</td>\n",
       "      <td>Vasco</td>\n",
       "      <td>Sport</td>\n",
       "      <td>Sport</td>\n",
       "      <td>1ª Rodada</td>\n",
       "      <td>São Januário</td>\n",
       "      <td>0</td>\n",
       "      <td>2</td>\n",
       "      <td>RJ</td>\n",
       "      <td>PE</td>\n",
       "      <td>PE</td>\n",
       "    </tr>\n",
       "    <tr>\n",
       "      <th>2</th>\n",
       "      <td>16h00</td>\n",
       "      <td>Sábado</td>\n",
       "      <td>2000-07-29</td>\n",
       "      <td>Vitória</td>\n",
       "      <td>Palmeiras</td>\n",
       "      <td>Vitória</td>\n",
       "      <td>1ª Rodada</td>\n",
       "      <td>Barradão</td>\n",
       "      <td>4</td>\n",
       "      <td>1</td>\n",
       "      <td>ES</td>\n",
       "      <td>SP</td>\n",
       "      <td>ES</td>\n",
       "    </tr>\n",
       "  </tbody>\n",
       "</table>\n",
       "</div>"
      ],
      "text/plain": [
       "  Horário     Dia        Data     Clube 1    Clube 2    Vencedor     Rodada  \\\n",
       "0   16h00  Sábado  2000-07-29  Fluminense      Bahia  Fluminense  1ª Rodada   \n",
       "1   16h00  Sábado  2000-07-29       Vasco      Sport       Sport  1ª Rodada   \n",
       "2   16h00  Sábado  2000-07-29     Vitória  Palmeiras     Vitória  1ª Rodada   \n",
       "\n",
       "          Arena  Clube 1 Gols  Clube 2 Gols Clube 1 Estado Clube 2 Estado  \\\n",
       "0      Maracanã             2             0             RJ             BA   \n",
       "1  São Januário             0             2             RJ             PE   \n",
       "2      Barradão             4             1             ES             SP   \n",
       "\n",
       "  Estado Clube Vencedor  \n",
       "0                    RJ  \n",
       "1                    PE  \n",
       "2                    ES  "
      ]
     },
     "execution_count": 200,
     "metadata": {},
     "output_type": "execute_result"
    }
   ],
   "source": [
    "df = pd.read_csv(\"campeonato-brasileiro-full.csv\")\n",
    "df.head(3)"
   ]
  },
  {
   "cell_type": "markdown",
   "metadata": {},
   "source": [
    "### Informações gerais"
   ]
  },
  {
   "cell_type": "code",
   "execution_count": 201,
   "metadata": {},
   "outputs": [
    {
     "name": "stdout",
     "output_type": "stream",
     "text": [
      "<class 'pandas.core.frame.DataFrame'>\n",
      "RangeIndex: 7939 entries, 0 to 7938\n",
      "Data columns (total 13 columns):\n",
      " #   Column                 Non-Null Count  Dtype \n",
      "---  ------                 --------------  ----- \n",
      " 0   Horário                7582 non-null   object\n",
      " 1   Dia                    7939 non-null   object\n",
      " 2   Data                   7939 non-null   object\n",
      " 3   Clube 1                7939 non-null   object\n",
      " 4   Clube 2                7939 non-null   object\n",
      " 5   Vencedor               7939 non-null   object\n",
      " 6   Rodada                 7939 non-null   object\n",
      " 7   Arena                  7939 non-null   object\n",
      " 8   Clube 1 Gols           7939 non-null   int64 \n",
      " 9   Clube 2 Gols           7939 non-null   int64 \n",
      " 10  Clube 1 Estado         7939 non-null   object\n",
      " 11  Clube 2 Estado         7939 non-null   object\n",
      " 12  Estado Clube Vencedor  7939 non-null   object\n",
      "dtypes: int64(2), object(11)\n",
      "memory usage: 806.4+ KB\n"
     ]
    }
   ],
   "source": [
    "df.info()"
   ]
  },
  {
   "cell_type": "markdown",
   "metadata": {},
   "source": [
    "### Criando uma variável  para os anos das temporadas, afim de facilitar algumas features"
   ]
  },
  {
   "cell_type": "code",
   "execution_count": 202,
   "metadata": {},
   "outputs": [],
   "source": [
    "df[\"Ano\"] = pd.to_numeric(df[\"Data\"].apply(lambda x:x.split(\"-\")[0]))"
   ]
  },
  {
   "cell_type": "markdown",
   "metadata": {},
   "source": [
    "### Averiguando a partir de qual ano esta registrado os campeonatos"
   ]
  },
  {
   "cell_type": "code",
   "execution_count": 203,
   "metadata": {},
   "outputs": [
    {
     "data": {
      "text/plain": [
       "array([2000, 2001, 2002, 2003, 2004, 2005, 2006, 2007, 2008, 2009, 2010,\n",
       "       2011, 2012, 2013, 2014, 2015, 2016, 2017, 2018, 2019])"
      ]
     },
     "execution_count": 203,
     "metadata": {},
     "output_type": "execute_result"
    }
   ],
   "source": [
    "df[\"Ano\"].unique()"
   ]
  },
  {
   "cell_type": "markdown",
   "metadata": {},
   "source": [
    "### pegando uma amostra de todos os jogos do palmeiras no campeonato brasileiro de 2018, o ultimo ano que foi campeão"
   ]
  },
  {
   "cell_type": "code",
   "execution_count": 204,
   "metadata": {},
   "outputs": [
    {
     "data": {
      "text/html": [
       "<div>\n",
       "<style scoped>\n",
       "    .dataframe tbody tr th:only-of-type {\n",
       "        vertical-align: middle;\n",
       "    }\n",
       "\n",
       "    .dataframe tbody tr th {\n",
       "        vertical-align: top;\n",
       "    }\n",
       "\n",
       "    .dataframe thead th {\n",
       "        text-align: right;\n",
       "    }\n",
       "</style>\n",
       "<table border=\"1\" class=\"dataframe\">\n",
       "  <thead>\n",
       "    <tr style=\"text-align: right;\">\n",
       "      <th></th>\n",
       "      <th>Horário</th>\n",
       "      <th>Dia</th>\n",
       "      <th>Data</th>\n",
       "      <th>Clube 1</th>\n",
       "      <th>Clube 2</th>\n",
       "      <th>Vencedor</th>\n",
       "      <th>Rodada</th>\n",
       "      <th>Arena</th>\n",
       "      <th>Clube 1 Gols</th>\n",
       "      <th>Clube 2 Gols</th>\n",
       "      <th>Clube 1 Estado</th>\n",
       "      <th>Clube 2 Estado</th>\n",
       "      <th>Estado Clube Vencedor</th>\n",
       "      <th>Ano</th>\n",
       "    </tr>\n",
       "  </thead>\n",
       "  <tbody>\n",
       "    <tr>\n",
       "      <th>7187</th>\n",
       "      <td>20:00</td>\n",
       "      <td>Segunda-feira</td>\n",
       "      <td>2018-04-16</td>\n",
       "      <td>Botafogo-rj</td>\n",
       "      <td>Palmeiras</td>\n",
       "      <td>-</td>\n",
       "      <td>1ª Rodada</td>\n",
       "      <td>Engenhão</td>\n",
       "      <td>1</td>\n",
       "      <td>1</td>\n",
       "      <td>RJ</td>\n",
       "      <td>SP</td>\n",
       "      <td>Empate</td>\n",
       "      <td>2018</td>\n",
       "    </tr>\n",
       "    <tr>\n",
       "      <th>7197</th>\n",
       "      <td>16:00</td>\n",
       "      <td>Domingo</td>\n",
       "      <td>2018-04-22</td>\n",
       "      <td>Palmeiras</td>\n",
       "      <td>Internacional</td>\n",
       "      <td>Palmeiras</td>\n",
       "      <td>2ª Rodada</td>\n",
       "      <td>Pacaembu</td>\n",
       "      <td>1</td>\n",
       "      <td>0</td>\n",
       "      <td>SP</td>\n",
       "      <td>RS</td>\n",
       "      <td>SP</td>\n",
       "      <td>2018</td>\n",
       "    </tr>\n",
       "    <tr>\n",
       "      <th>7201</th>\n",
       "      <td>16:00</td>\n",
       "      <td>Domingo</td>\n",
       "      <td>2018-04-29</td>\n",
       "      <td>Palmeiras</td>\n",
       "      <td>Chapecoense</td>\n",
       "      <td>-</td>\n",
       "      <td>3ª Rodada</td>\n",
       "      <td>Allianz Parque</td>\n",
       "      <td>0</td>\n",
       "      <td>0</td>\n",
       "      <td>SP</td>\n",
       "      <td>SC</td>\n",
       "      <td>Empate</td>\n",
       "      <td>2018</td>\n",
       "    </tr>\n",
       "    <tr>\n",
       "      <th>7215</th>\n",
       "      <td>16:00</td>\n",
       "      <td>Domingo</td>\n",
       "      <td>2018-05-06</td>\n",
       "      <td>Athlético-PR</td>\n",
       "      <td>Palmeiras</td>\n",
       "      <td>Palmeiras</td>\n",
       "      <td>4ª Rodada</td>\n",
       "      <td>Arena da Baixada</td>\n",
       "      <td>1</td>\n",
       "      <td>3</td>\n",
       "      <td>PR</td>\n",
       "      <td>SP</td>\n",
       "      <td>SP</td>\n",
       "      <td>2018</td>\n",
       "    </tr>\n",
       "    <tr>\n",
       "      <th>7222</th>\n",
       "      <td>16:00</td>\n",
       "      <td>Domingo</td>\n",
       "      <td>2018-05-13</td>\n",
       "      <td>Corinthians</td>\n",
       "      <td>Palmeiras</td>\n",
       "      <td>Corinthians</td>\n",
       "      <td>5ª Rodada</td>\n",
       "      <td>Arena Corinthians</td>\n",
       "      <td>1</td>\n",
       "      <td>0</td>\n",
       "      <td>SP</td>\n",
       "      <td>SP</td>\n",
       "      <td>SP</td>\n",
       "      <td>2018</td>\n",
       "    </tr>\n",
       "  </tbody>\n",
       "</table>\n",
       "</div>"
      ],
      "text/plain": [
       "     Horário            Dia        Data       Clube 1        Clube 2  \\\n",
       "7187   20:00  Segunda-feira  2018-04-16   Botafogo-rj      Palmeiras   \n",
       "7197   16:00        Domingo  2018-04-22     Palmeiras  Internacional   \n",
       "7201   16:00        Domingo  2018-04-29     Palmeiras    Chapecoense   \n",
       "7215   16:00        Domingo  2018-05-06  Athlético-PR      Palmeiras   \n",
       "7222   16:00        Domingo  2018-05-13   Corinthians      Palmeiras   \n",
       "\n",
       "         Vencedor     Rodada              Arena  Clube 1 Gols  Clube 2 Gols  \\\n",
       "7187            -  1ª Rodada           Engenhão             1             1   \n",
       "7197    Palmeiras  2ª Rodada           Pacaembu             1             0   \n",
       "7201            -  3ª Rodada     Allianz Parque             0             0   \n",
       "7215    Palmeiras  4ª Rodada   Arena da Baixada             1             3   \n",
       "7222  Corinthians  5ª Rodada  Arena Corinthians             1             0   \n",
       "\n",
       "     Clube 1 Estado Clube 2 Estado Estado Clube Vencedor   Ano  \n",
       "7187             RJ             SP                Empate  2018  \n",
       "7197             SP             RS                    SP  2018  \n",
       "7201             SP             SC                Empate  2018  \n",
       "7215             PR             SP                    SP  2018  \n",
       "7222             SP             SP                    SP  2018  "
      ]
     },
     "execution_count": 204,
     "metadata": {},
     "output_type": "execute_result"
    }
   ],
   "source": [
    "br2018 = df.loc[((df[\"Clube 1\"] == \"Palmeiras\") | (df[\"Clube 2\"] == \"Palmeiras\")) & (df[\"Ano\"] == 2018) ]\n",
    "br2018.head()"
   ]
  },
  {
   "cell_type": "markdown",
   "metadata": {},
   "source": [
    "### Extraindo quantidade de gols do palmeiras na temporada 2018"
   ]
  },
  {
   "cell_type": "code",
   "execution_count": 205,
   "metadata": {},
   "outputs": [
    {
     "data": {
      "text/plain": [
       "64"
      ]
     },
     "execution_count": 205,
     "metadata": {},
     "output_type": "execute_result"
    }
   ],
   "source": [
    "br2018.loc[br2018[\"Clube 1\"] == \"Palmeiras\"][\"Clube 1 Gols\"].sum() + \\\n",
    "br2018.loc[br2018[\"Clube 2\"] == \"Palmeiras\"][\"Clube 2 Gols\"].sum()"
   ]
  },
  {
   "cell_type": "markdown",
   "metadata": {},
   "source": [
    "### Descobrindo a quantidade de pontos que o palmeiras conquistou na temporada"
   ]
  },
  {
   "cell_type": "code",
   "execution_count": 206,
   "metadata": {},
   "outputs": [
    {
     "data": {
      "text/plain": [
       "80"
      ]
     },
     "execution_count": 206,
     "metadata": {},
     "output_type": "execute_result"
    }
   ],
   "source": [
    "def pontos(vencedor):\n",
    "    pontos = 0\n",
    "    if vencedor == \"Palmeiras\":\n",
    "        pontos += 3\n",
    "    if vencedor == \"-\":\n",
    "        pontos += 1\n",
    "        \n",
    "    return pontos\n",
    "\n",
    "pontos2018 = br2018[\"Vencedor\"].apply(lambda x:pontos(x)).sum()\n",
    "pontos2018"
   ]
  },
  {
   "cell_type": "markdown",
   "metadata": {},
   "source": [
    "### Descobrindo quantos pontos o Palmeiras conquistou desde a temporada de 2000 ate 2019"
   ]
  },
  {
   "cell_type": "code",
   "execution_count": 207,
   "metadata": {},
   "outputs": [],
   "source": [
    "temporadas = []\n",
    "pontosTotais = []\n",
    "\n",
    "for i in np.arange(2000,2020):\n",
    "    temporadas.append(df.loc[((df[\"Clube 1\"] == \"Palmeiras\") | (df[\"Clube 2\"] == \"Palmeiras\")) & (df[\"Ano\"] == i)])\n",
    "\n",
    "for i in np.arange(0,20):\n",
    "    pontosTotais.append(temporadas[i][\"Vencedor\"].apply(lambda x:pontos(x)).sum())"
   ]
  },
  {
   "cell_type": "code",
   "execution_count": 208,
   "metadata": {},
   "outputs": [
    {
     "data": {
      "text/html": [
       "<div>\n",
       "<style scoped>\n",
       "    .dataframe tbody tr th:only-of-type {\n",
       "        vertical-align: middle;\n",
       "    }\n",
       "\n",
       "    .dataframe tbody tr th {\n",
       "        vertical-align: top;\n",
       "    }\n",
       "\n",
       "    .dataframe thead th {\n",
       "        text-align: right;\n",
       "    }\n",
       "</style>\n",
       "<table border=\"1\" class=\"dataframe\">\n",
       "  <thead>\n",
       "    <tr style=\"text-align: right;\">\n",
       "      <th></th>\n",
       "      <th>Temporada</th>\n",
       "      <th>Pontos</th>\n",
       "    </tr>\n",
       "  </thead>\n",
       "  <tbody>\n",
       "    <tr>\n",
       "      <th>0</th>\n",
       "      <td>2000</td>\n",
       "      <td>37</td>\n",
       "    </tr>\n",
       "    <tr>\n",
       "      <th>1</th>\n",
       "      <td>2001</td>\n",
       "      <td>38</td>\n",
       "    </tr>\n",
       "    <tr>\n",
       "      <th>2</th>\n",
       "      <td>2002</td>\n",
       "      <td>27</td>\n",
       "    </tr>\n",
       "    <tr>\n",
       "      <th>3</th>\n",
       "      <td>2003</td>\n",
       "      <td>0</td>\n",
       "    </tr>\n",
       "    <tr>\n",
       "      <th>4</th>\n",
       "      <td>2004</td>\n",
       "      <td>79</td>\n",
       "    </tr>\n",
       "    <tr>\n",
       "      <th>5</th>\n",
       "      <td>2005</td>\n",
       "      <td>70</td>\n",
       "    </tr>\n",
       "    <tr>\n",
       "      <th>6</th>\n",
       "      <td>2006</td>\n",
       "      <td>44</td>\n",
       "    </tr>\n",
       "    <tr>\n",
       "      <th>7</th>\n",
       "      <td>2007</td>\n",
       "      <td>58</td>\n",
       "    </tr>\n",
       "    <tr>\n",
       "      <th>8</th>\n",
       "      <td>2008</td>\n",
       "      <td>65</td>\n",
       "    </tr>\n",
       "    <tr>\n",
       "      <th>9</th>\n",
       "      <td>2009</td>\n",
       "      <td>62</td>\n",
       "    </tr>\n",
       "    <tr>\n",
       "      <th>10</th>\n",
       "      <td>2010</td>\n",
       "      <td>50</td>\n",
       "    </tr>\n",
       "    <tr>\n",
       "      <th>11</th>\n",
       "      <td>2011</td>\n",
       "      <td>49</td>\n",
       "    </tr>\n",
       "    <tr>\n",
       "      <th>12</th>\n",
       "      <td>2012</td>\n",
       "      <td>34</td>\n",
       "    </tr>\n",
       "    <tr>\n",
       "      <th>13</th>\n",
       "      <td>2013</td>\n",
       "      <td>0</td>\n",
       "    </tr>\n",
       "    <tr>\n",
       "      <th>14</th>\n",
       "      <td>2014</td>\n",
       "      <td>40</td>\n",
       "    </tr>\n",
       "    <tr>\n",
       "      <th>15</th>\n",
       "      <td>2015</td>\n",
       "      <td>53</td>\n",
       "    </tr>\n",
       "    <tr>\n",
       "      <th>16</th>\n",
       "      <td>2016</td>\n",
       "      <td>80</td>\n",
       "    </tr>\n",
       "    <tr>\n",
       "      <th>17</th>\n",
       "      <td>2017</td>\n",
       "      <td>63</td>\n",
       "    </tr>\n",
       "    <tr>\n",
       "      <th>18</th>\n",
       "      <td>2018</td>\n",
       "      <td>80</td>\n",
       "    </tr>\n",
       "    <tr>\n",
       "      <th>19</th>\n",
       "      <td>2019</td>\n",
       "      <td>74</td>\n",
       "    </tr>\n",
       "  </tbody>\n",
       "</table>\n",
       "</div>"
      ],
      "text/plain": [
       "    Temporada  Pontos\n",
       "0        2000      37\n",
       "1        2001      38\n",
       "2        2002      27\n",
       "3        2003       0\n",
       "4        2004      79\n",
       "5        2005      70\n",
       "6        2006      44\n",
       "7        2007      58\n",
       "8        2008      65\n",
       "9        2009      62\n",
       "10       2010      50\n",
       "11       2011      49\n",
       "12       2012      34\n",
       "13       2013       0\n",
       "14       2014      40\n",
       "15       2015      53\n",
       "16       2016      80\n",
       "17       2017      63\n",
       "18       2018      80\n",
       "19       2019      74"
      ]
     },
     "execution_count": 208,
     "metadata": {},
     "output_type": "execute_result"
    }
   ],
   "source": [
    "temporada = [2000, 2001, 2002, 2003, 2004, 2005, 2006, 2007, 2008, 2009, 2010,\n",
    "       2011, 2012, 2013, 2014, 2015, 2016, 2017, 2018, 2019]\n",
    "\n",
    "ranking = {\n",
    "    \"Temporada\":temporada,\n",
    "    \"Pontos\":pontosTotais\n",
    "}\n",
    "\n",
    "ranking = pd.DataFrame(ranking)\n",
    "ranking"
   ]
  },
  {
   "cell_type": "markdown",
   "metadata": {},
   "source": [
    "#### OBS:\n",
    "em 2003 e 2013 o palmeiras nao participou da seria A do campeonato brasileiro por ter sido rebaixado, por isso os pontos estão zerados nestas duas células, para comprovar este fato, irei procurar o palmeiras nestas duas temporadas do conjunto de dados"
   ]
  },
  {
   "cell_type": "code",
   "execution_count": 209,
   "metadata": {},
   "outputs": [
    {
     "data": {
      "text/html": [
       "<div>\n",
       "<style scoped>\n",
       "    .dataframe tbody tr th:only-of-type {\n",
       "        vertical-align: middle;\n",
       "    }\n",
       "\n",
       "    .dataframe tbody tr th {\n",
       "        vertical-align: top;\n",
       "    }\n",
       "\n",
       "    .dataframe thead th {\n",
       "        text-align: right;\n",
       "    }\n",
       "</style>\n",
       "<table border=\"1\" class=\"dataframe\">\n",
       "  <thead>\n",
       "    <tr style=\"text-align: right;\">\n",
       "      <th></th>\n",
       "      <th>Horário</th>\n",
       "      <th>Dia</th>\n",
       "      <th>Data</th>\n",
       "      <th>Clube 1</th>\n",
       "      <th>Clube 2</th>\n",
       "      <th>Vencedor</th>\n",
       "      <th>Rodada</th>\n",
       "      <th>Arena</th>\n",
       "      <th>Clube 1 Gols</th>\n",
       "      <th>Clube 2 Gols</th>\n",
       "      <th>Clube 1 Estado</th>\n",
       "      <th>Clube 2 Estado</th>\n",
       "      <th>Estado Clube Vencedor</th>\n",
       "      <th>Ano</th>\n",
       "    </tr>\n",
       "  </thead>\n",
       "  <tbody>\n",
       "  </tbody>\n",
       "</table>\n",
       "</div>"
      ],
      "text/plain": [
       "Empty DataFrame\n",
       "Columns: [Horário, Dia, Data, Clube 1, Clube 2, Vencedor, Rodada, Arena, Clube 1 Gols, Clube 2 Gols, Clube 1 Estado, Clube 2 Estado, Estado Clube Vencedor, Ano]\n",
       "Index: []"
      ]
     },
     "execution_count": 209,
     "metadata": {},
     "output_type": "execute_result"
    }
   ],
   "source": [
    "df.loc[((df[\"Clube 1\"]==\"Palmeiras\") | (df[\"Clube 2\"]==\"Palmeiras\")) & ((df[\"Ano\"]==2003) | (df[\"Ano\"]==2013))]"
   ]
  },
  {
   "cell_type": "markdown",
   "metadata": {},
   "source": [
    "#### **OBS:**\n",
    "Como esperado, sem resultado para as temporadas 2003 e 2013"
   ]
  },
  {
   "cell_type": "markdown",
   "metadata": {},
   "source": [
    "### Analisando vitorias, derrotas e empates do palmeiras dentro e fora de casa de todas as temporadas"
   ]
  },
  {
   "cell_type": "code",
   "execution_count": 210,
   "metadata": {},
   "outputs": [],
   "source": [
    "Vcasa = df.loc[(df[\"Clube 1\"]==\"Palmeiras\") & (df[\"Vencedor\"]==\"Palmeiras\")]\n",
    "Vfora = df.loc[(df[\"Clube 2\"]==\"Palmeiras\") & (df[\"Vencedor\"]==\"Palmeiras\")]\n",
    "Dcasa = df.loc[(df[\"Clube 1\"]==\"Palmeiras\") & (df[\"Vencedor\"]!=\"Palmeiras\")]\n",
    "Dfora = df.loc[(df[\"Clube 2\"]==\"Palmeiras\") & (df[\"Vencedor\"]!=\"Palmeiras\")]\n",
    "Ecasa = df.loc[(df[\"Clube 1\"]==\"Palmeiras\") & (df[\"Vencedor\"]==\"-\")]\n",
    "Efora = df.loc[(df[\"Clube 2\"]==\"Palmeiras\") & (df[\"Vencedor\"]==\"-\")]"
   ]
  },
  {
   "cell_type": "code",
   "execution_count": 211,
   "metadata": {},
   "outputs": [
    {
     "data": {
      "text/html": [
       "<div>\n",
       "<style scoped>\n",
       "    .dataframe tbody tr th:only-of-type {\n",
       "        vertical-align: middle;\n",
       "    }\n",
       "\n",
       "    .dataframe tbody tr th {\n",
       "        vertical-align: top;\n",
       "    }\n",
       "\n",
       "    .dataframe thead th {\n",
       "        text-align: right;\n",
       "    }\n",
       "</style>\n",
       "<table border=\"1\" class=\"dataframe\">\n",
       "  <thead>\n",
       "    <tr style=\"text-align: right;\">\n",
       "      <th></th>\n",
       "      <th>V_casa</th>\n",
       "      <th>V_fora</th>\n",
       "      <th>D_casa</th>\n",
       "      <th>D_fora</th>\n",
       "      <th>E_casa</th>\n",
       "      <th>E_fora</th>\n",
       "    </tr>\n",
       "  </thead>\n",
       "  <tbody>\n",
       "    <tr>\n",
       "      <th>1</th>\n",
       "      <td>182</td>\n",
       "      <td>97</td>\n",
       "      <td>146</td>\n",
       "      <td>232</td>\n",
       "      <td>72</td>\n",
       "      <td>94</td>\n",
       "    </tr>\n",
       "  </tbody>\n",
       "</table>\n",
       "</div>"
      ],
      "text/plain": [
       "   V_casa  V_fora  D_casa  D_fora  E_casa  E_fora\n",
       "1     182      97     146     232      72      94"
      ]
     },
     "execution_count": 211,
     "metadata": {},
     "output_type": "execute_result"
    }
   ],
   "source": [
    "vitoriasCasa = Vcasa[\"Vencedor\"].count()\n",
    "derrotasCasa = Dcasa[\"Vencedor\"].count() \n",
    "vitoriasFora = Vfora[\"Vencedor\"].count()\n",
    "derrotasFora = Dfora[\"Vencedor\"].count()\n",
    "empateCasa = Ecasa[\"Vencedor\"].count()\n",
    "empateFora = Efora[\"Vencedor\"].count()\n",
    "\n",
    "retrospecto = pd.DataFrame({\n",
    "    \"V_casa\":vitoriasCasa,\n",
    "    \"V_fora\":vitoriasFora,\n",
    "    \"D_casa\":derrotasCasa,\n",
    "    \"D_fora\":derrotasFora,\n",
    "    \"E_casa\":empateCasa,\n",
    "    \"E_fora\":empateFora\n",
    "}, index=[1])\n",
    "\n",
    "retrospecto"
   ]
  },
  {
   "cell_type": "markdown",
   "metadata": {},
   "source": [
    "#### Obs:\n",
    "Podemos ver que o retrospecto do palmeiras dentro de casa é muito melhor que jogando fora"
   ]
  },
  {
   "cell_type": "markdown",
   "metadata": {},
   "source": [
    "### Por curiosidade, iremos verificar o retrospecto do Palmeiras contra seus principais rivais de São Paulo, como o Corinthians por exemplo"
   ]
  },
  {
   "cell_type": "code",
   "execution_count": 212,
   "metadata": {},
   "outputs": [],
   "source": [
    "venceuCor = df[(((df[\"Clube 1\"] == \"Palmeiras\") & (df[\"Clube 2\"] == \"Corinthians\")) | \\\n",
    "   ((df[\"Clube 2\"] == \"Palmeiras\") & (df[\"Clube 1\"] == \"Corinthians\"))) & (df[\"Vencedor\"] == \"Palmeiras\")]\n",
    "\n",
    "perdeuCor = df[(((df[\"Clube 1\"] == \"Palmeiras\") & (df[\"Clube 2\"] == \"Corinthians\")) | \\\n",
    "   ((df[\"Clube 2\"] == \"Palmeiras\") & (df[\"Clube 1\"] == \"Corinthians\"))) & (df[\"Vencedor\"] == \"Corinthians\")]\n",
    "\n",
    "empateCor = df[(((df[\"Clube 1\"] == \"Palmeiras\") & (df[\"Clube 2\"] == \"Corinthians\")) | \\\n",
    "   ((df[\"Clube 2\"] == \"Palmeiras\") & (df[\"Clube 1\"] == \"Corinthians\"))) & (df[\"Vencedor\"] == \"-\")]"
   ]
  },
  {
   "cell_type": "markdown",
   "metadata": {},
   "source": [
    "### Vitorias sob o Corinthians desde o brasileirão de 2000 ate 2019"
   ]
  },
  {
   "cell_type": "code",
   "execution_count": 213,
   "metadata": {},
   "outputs": [
    {
     "data": {
      "text/plain": [
       "10"
      ]
     },
     "execution_count": 213,
     "metadata": {},
     "output_type": "execute_result"
    }
   ],
   "source": [
    "venceuCor[\"Vencedor\"].count()"
   ]
  },
  {
   "cell_type": "markdown",
   "metadata": {},
   "source": [
    "### Derrotas sob o Corinthians desde o brasileirão de 2000 ate 2019"
   ]
  },
  {
   "cell_type": "code",
   "execution_count": 214,
   "metadata": {},
   "outputs": [
    {
     "data": {
      "text/plain": [
       "12"
      ]
     },
     "execution_count": 214,
     "metadata": {},
     "output_type": "execute_result"
    }
   ],
   "source": [
    "perdeuCor[\"Vencedor\"].count()"
   ]
  },
  {
   "cell_type": "markdown",
   "metadata": {},
   "source": [
    "### Empates com o Corinthians desde o brasileirão de 2000 ate 2019"
   ]
  },
  {
   "cell_type": "code",
   "execution_count": 215,
   "metadata": {},
   "outputs": [
    {
     "data": {
      "text/plain": [
       "8"
      ]
     },
     "execution_count": 215,
     "metadata": {},
     "output_type": "execute_result"
    }
   ],
   "source": [
    "empateCor[\"Vencedor\"].count()"
   ]
  }
 ],
 "metadata": {
  "kernelspec": {
   "display_name": "Python 3",
   "language": "python",
   "name": "python3"
  },
  "language_info": {
   "codemirror_mode": {
    "name": "ipython",
    "version": 3
   },
   "file_extension": ".py",
   "mimetype": "text/x-python",
   "name": "python",
   "nbconvert_exporter": "python",
   "pygments_lexer": "ipython3",
   "version": "3.8.5"
  }
 },
 "nbformat": 4,
 "nbformat_minor": 4
}

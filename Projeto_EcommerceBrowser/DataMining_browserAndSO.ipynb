{
  "nbformat": 4,
  "nbformat_minor": 0,
  "metadata": {
    "kernelspec": {
      "display_name": "Python 3",
      "language": "python",
      "name": "python3"
    },
    "language_info": {
      "codemirror_mode": {
        "name": "ipython",
        "version": 3
      },
      "file_extension": ".py",
      "mimetype": "text/x-python",
      "name": "python",
      "nbconvert_exporter": "python",
      "pygments_lexer": "ipython3",
      "version": "3.8.3"
    },
    "colab": {
      "name": "DataMining_browserAndSO.ipynb",
      "provenance": [],
      "collapsed_sections": []
    }
  },
  "cells": [
    {
      "cell_type": "markdown",
      "metadata": {
        "id": "SgQnIMFnTWeH"
      },
      "source": [
        "# Resumo\n",
        "Este projeto tem como objetivo fazer uma análise exploratória completa dos dados de um dataset(extraído do kaggle) de uma loja virtual **fictícia**, com o intuito de saber qual sistema operacional é mais utilizado pelos clientes, qual o que gera mais lucros, entre outras coisas.\n",
        "\n",
        "**Este ipynb contém mais recursos de programação que os outros por conta que este dataset contem mais de uma informação em suas colunas**"
      ]
    },
    {
      "cell_type": "code",
      "metadata": {
        "id": "5U4zlr5cTHZ0"
      },
      "source": [
        "import pandas as pd\n",
        "import seaborn as sns\n",
        "import matplotlib.pyplot as plt"
      ],
      "execution_count": 351,
      "outputs": []
    },
    {
      "cell_type": "code",
      "metadata": {
        "id": "bXZZq1P-THZ5",
        "outputId": "10d4eee6-b8e4-4a86-b27d-96180bc949c6",
        "colab": {
          "base_uri": "https://localhost:8080/",
          "height": 213
        }
      },
      "source": [
        "df = pd.read_csv('Comercio.csv')\n",
        "df.head(2)"
      ],
      "execution_count": 352,
      "outputs": [
        {
          "output_type": "execute_result",
          "data": {
            "text/html": [
              "<div>\n",
              "<style scoped>\n",
              "    .dataframe tbody tr th:only-of-type {\n",
              "        vertical-align: middle;\n",
              "    }\n",
              "\n",
              "    .dataframe tbody tr th {\n",
              "        vertical-align: top;\n",
              "    }\n",
              "\n",
              "    .dataframe thead th {\n",
              "        text-align: right;\n",
              "    }\n",
              "</style>\n",
              "<table border=\"1\" class=\"dataframe\">\n",
              "  <thead>\n",
              "    <tr style=\"text-align: right;\">\n",
              "      <th></th>\n",
              "      <th>Address</th>\n",
              "      <th>Lot</th>\n",
              "      <th>AM or PM</th>\n",
              "      <th>Browser Info</th>\n",
              "      <th>Company</th>\n",
              "      <th>Credit Card</th>\n",
              "      <th>CC Exp Date</th>\n",
              "      <th>CC Security Code</th>\n",
              "      <th>CC Provider</th>\n",
              "      <th>Email</th>\n",
              "      <th>Job</th>\n",
              "      <th>IP Address</th>\n",
              "      <th>Language</th>\n",
              "      <th>Purchase Price</th>\n",
              "    </tr>\n",
              "  </thead>\n",
              "  <tbody>\n",
              "    <tr>\n",
              "      <th>0</th>\n",
              "      <td>16629 Pace Camp Apt. 448\\nAlexisborough, NE 77...</td>\n",
              "      <td>46 in</td>\n",
              "      <td>PM</td>\n",
              "      <td>Opera/9.56.(X11; Linux x86_64; sl-SI) Presto/2...</td>\n",
              "      <td>Martinez-Herman</td>\n",
              "      <td>6011929061123406</td>\n",
              "      <td>02/20</td>\n",
              "      <td>900</td>\n",
              "      <td>JCB 16 digit</td>\n",
              "      <td>pdunlap@yahoo.com</td>\n",
              "      <td>Scientist, product/process development</td>\n",
              "      <td>149.146.147.205</td>\n",
              "      <td>el</td>\n",
              "      <td>98.14</td>\n",
              "    </tr>\n",
              "    <tr>\n",
              "      <th>1</th>\n",
              "      <td>9374 Jasmine Spurs Suite 508\\nSouth John, TN 8...</td>\n",
              "      <td>28 rn</td>\n",
              "      <td>PM</td>\n",
              "      <td>Opera/8.93.(Windows 98; Win 9x 4.90; en-US) Pr...</td>\n",
              "      <td>Fletcher, Richards and Whitaker</td>\n",
              "      <td>3337758169645356</td>\n",
              "      <td>11/18</td>\n",
              "      <td>561</td>\n",
              "      <td>Mastercard</td>\n",
              "      <td>anthony41@reed.com</td>\n",
              "      <td>Drilling engineer</td>\n",
              "      <td>15.160.41.51</td>\n",
              "      <td>fr</td>\n",
              "      <td>70.73</td>\n",
              "    </tr>\n",
              "  </tbody>\n",
              "</table>\n",
              "</div>"
            ],
            "text/plain": [
              "                                             Address  ... Purchase Price\n",
              "0  16629 Pace Camp Apt. 448\\nAlexisborough, NE 77...  ...          98.14\n",
              "1  9374 Jasmine Spurs Suite 508\\nSouth John, TN 8...  ...          70.73\n",
              "\n",
              "[2 rows x 14 columns]"
            ]
          },
          "metadata": {
            "tags": []
          },
          "execution_count": 352
        }
      ]
    },
    {
      "cell_type": "markdown",
      "metadata": {
        "id": "WLFaQUznZKu7"
      },
      "source": [
        "# Traduzindo colunas"
      ]
    },
    {
      "cell_type": "code",
      "metadata": {
        "id": "ILdWxAIpTHZ9",
        "outputId": "e3c995ef-1d67-49e3-fb06-fc93e202886f",
        "colab": {
          "base_uri": "https://localhost:8080/",
          "height": 459
        }
      },
      "source": [
        "df.columns = ['endereco', 'lote', 'turno', 'browser', 'companhia', 'cartao de credito',\n",
        "       'validade do cartao', 'codigo do cartao', 'bandeira do cartao', 'email', 'cargo',\n",
        "       'ip', 'lingua', 'valor da compra']\n",
        "df.head()"
      ],
      "execution_count": 353,
      "outputs": [
        {
          "output_type": "execute_result",
          "data": {
            "text/html": [
              "<div>\n",
              "<style scoped>\n",
              "    .dataframe tbody tr th:only-of-type {\n",
              "        vertical-align: middle;\n",
              "    }\n",
              "\n",
              "    .dataframe tbody tr th {\n",
              "        vertical-align: top;\n",
              "    }\n",
              "\n",
              "    .dataframe thead th {\n",
              "        text-align: right;\n",
              "    }\n",
              "</style>\n",
              "<table border=\"1\" class=\"dataframe\">\n",
              "  <thead>\n",
              "    <tr style=\"text-align: right;\">\n",
              "      <th></th>\n",
              "      <th>endereco</th>\n",
              "      <th>lote</th>\n",
              "      <th>turno</th>\n",
              "      <th>browser</th>\n",
              "      <th>companhia</th>\n",
              "      <th>cartao de credito</th>\n",
              "      <th>validade do cartao</th>\n",
              "      <th>codigo do cartao</th>\n",
              "      <th>bandeira do cartao</th>\n",
              "      <th>email</th>\n",
              "      <th>cargo</th>\n",
              "      <th>ip</th>\n",
              "      <th>lingua</th>\n",
              "      <th>valor da compra</th>\n",
              "    </tr>\n",
              "  </thead>\n",
              "  <tbody>\n",
              "    <tr>\n",
              "      <th>0</th>\n",
              "      <td>16629 Pace Camp Apt. 448\\nAlexisborough, NE 77...</td>\n",
              "      <td>46 in</td>\n",
              "      <td>PM</td>\n",
              "      <td>Opera/9.56.(X11; Linux x86_64; sl-SI) Presto/2...</td>\n",
              "      <td>Martinez-Herman</td>\n",
              "      <td>6011929061123406</td>\n",
              "      <td>02/20</td>\n",
              "      <td>900</td>\n",
              "      <td>JCB 16 digit</td>\n",
              "      <td>pdunlap@yahoo.com</td>\n",
              "      <td>Scientist, product/process development</td>\n",
              "      <td>149.146.147.205</td>\n",
              "      <td>el</td>\n",
              "      <td>98.14</td>\n",
              "    </tr>\n",
              "    <tr>\n",
              "      <th>1</th>\n",
              "      <td>9374 Jasmine Spurs Suite 508\\nSouth John, TN 8...</td>\n",
              "      <td>28 rn</td>\n",
              "      <td>PM</td>\n",
              "      <td>Opera/8.93.(Windows 98; Win 9x 4.90; en-US) Pr...</td>\n",
              "      <td>Fletcher, Richards and Whitaker</td>\n",
              "      <td>3337758169645356</td>\n",
              "      <td>11/18</td>\n",
              "      <td>561</td>\n",
              "      <td>Mastercard</td>\n",
              "      <td>anthony41@reed.com</td>\n",
              "      <td>Drilling engineer</td>\n",
              "      <td>15.160.41.51</td>\n",
              "      <td>fr</td>\n",
              "      <td>70.73</td>\n",
              "    </tr>\n",
              "    <tr>\n",
              "      <th>2</th>\n",
              "      <td>Unit 0065 Box 5052\\nDPO AP 27450</td>\n",
              "      <td>94 vE</td>\n",
              "      <td>PM</td>\n",
              "      <td>Mozilla/5.0 (compatible; MSIE 9.0; Windows NT ...</td>\n",
              "      <td>Simpson, Williams and Pham</td>\n",
              "      <td>675957666125</td>\n",
              "      <td>08/19</td>\n",
              "      <td>699</td>\n",
              "      <td>JCB 16 digit</td>\n",
              "      <td>amymiller@morales-harrison.com</td>\n",
              "      <td>Customer service manager</td>\n",
              "      <td>132.207.160.22</td>\n",
              "      <td>de</td>\n",
              "      <td>0.95</td>\n",
              "    </tr>\n",
              "    <tr>\n",
              "      <th>3</th>\n",
              "      <td>7780 Julia Fords\\nNew Stacy, WA 45798</td>\n",
              "      <td>36 vm</td>\n",
              "      <td>PM</td>\n",
              "      <td>Mozilla/5.0 (Macintosh; Intel Mac OS X 10_8_0 ...</td>\n",
              "      <td>Williams, Marshall and Buchanan</td>\n",
              "      <td>6011578504430710</td>\n",
              "      <td>02/24</td>\n",
              "      <td>384</td>\n",
              "      <td>Discover</td>\n",
              "      <td>brent16@olson-robinson.info</td>\n",
              "      <td>Drilling engineer</td>\n",
              "      <td>30.250.74.19</td>\n",
              "      <td>es</td>\n",
              "      <td>78.04</td>\n",
              "    </tr>\n",
              "    <tr>\n",
              "      <th>4</th>\n",
              "      <td>23012 Munoz Drive Suite 337\\nNew Cynthia, TX 5...</td>\n",
              "      <td>20 IE</td>\n",
              "      <td>AM</td>\n",
              "      <td>Opera/9.58.(X11; Linux x86_64; it-IT) Presto/2...</td>\n",
              "      <td>Brown, Watson and Andrews</td>\n",
              "      <td>6011456623207998</td>\n",
              "      <td>10/25</td>\n",
              "      <td>678</td>\n",
              "      <td>Diners Club / Carte Blanche</td>\n",
              "      <td>christopherwright@gmail.com</td>\n",
              "      <td>Fine artist</td>\n",
              "      <td>24.140.33.94</td>\n",
              "      <td>es</td>\n",
              "      <td>77.82</td>\n",
              "    </tr>\n",
              "  </tbody>\n",
              "</table>\n",
              "</div>"
            ],
            "text/plain": [
              "                                            endereco  ... valor da compra\n",
              "0  16629 Pace Camp Apt. 448\\nAlexisborough, NE 77...  ...           98.14\n",
              "1  9374 Jasmine Spurs Suite 508\\nSouth John, TN 8...  ...           70.73\n",
              "2                   Unit 0065 Box 5052\\nDPO AP 27450  ...            0.95\n",
              "3              7780 Julia Fords\\nNew Stacy, WA 45798  ...           78.04\n",
              "4  23012 Munoz Drive Suite 337\\nNew Cynthia, TX 5...  ...           77.82\n",
              "\n",
              "[5 rows x 14 columns]"
            ]
          },
          "metadata": {
            "tags": []
          },
          "execution_count": 353
        }
      ]
    },
    {
      "cell_type": "markdown",
      "metadata": {
        "id": "-mG4z7mqg8dX"
      },
      "source": [
        "#Informações adicionais"
      ]
    },
    {
      "cell_type": "code",
      "metadata": {
        "id": "sCzVRLL8hAME",
        "outputId": "dc09bd62-ae9a-42d7-cb4c-1dae8c3ed5a8",
        "colab": {
          "base_uri": "https://localhost:8080/"
        }
      },
      "source": [
        "df.info()"
      ],
      "execution_count": 354,
      "outputs": [
        {
          "output_type": "stream",
          "text": [
            "<class 'pandas.core.frame.DataFrame'>\n",
            "RangeIndex: 10000 entries, 0 to 9999\n",
            "Data columns (total 14 columns):\n",
            " #   Column              Non-Null Count  Dtype  \n",
            "---  ------              --------------  -----  \n",
            " 0   endereco            10000 non-null  object \n",
            " 1   lote                10000 non-null  object \n",
            " 2   turno               10000 non-null  object \n",
            " 3   browser             10000 non-null  object \n",
            " 4   companhia           10000 non-null  object \n",
            " 5   cartao de credito   10000 non-null  int64  \n",
            " 6   validade do cartao  10000 non-null  object \n",
            " 7   codigo do cartao    10000 non-null  int64  \n",
            " 8   bandeira do cartao  10000 non-null  object \n",
            " 9   email               10000 non-null  object \n",
            " 10  cargo               10000 non-null  object \n",
            " 11  ip                  10000 non-null  object \n",
            " 12  lingua              10000 non-null  object \n",
            " 13  valor da compra     10000 non-null  float64\n",
            "dtypes: float64(1), int64(2), object(11)\n",
            "memory usage: 1.1+ MB\n"
          ],
          "name": "stdout"
        }
      ]
    },
    {
      "cell_type": "markdown",
      "metadata": {
        "id": "yW7NVKDouJSy"
      },
      "source": [
        "# Verificando dados nulos"
      ]
    },
    {
      "cell_type": "code",
      "metadata": {
        "id": "UgI0-ULIuNzL",
        "outputId": "9128791f-6b21-461c-d160-457b4324db8c",
        "colab": {
          "base_uri": "https://localhost:8080/"
        }
      },
      "source": [
        "df.isnull().sum()"
      ],
      "execution_count": 355,
      "outputs": [
        {
          "output_type": "execute_result",
          "data": {
            "text/plain": [
              "endereco              0\n",
              "lote                  0\n",
              "turno                 0\n",
              "browser               0\n",
              "companhia             0\n",
              "cartao de credito     0\n",
              "validade do cartao    0\n",
              "codigo do cartao      0\n",
              "bandeira do cartao    0\n",
              "email                 0\n",
              "cargo                 0\n",
              "ip                    0\n",
              "lingua                0\n",
              "valor da compra       0\n",
              "dtype: int64"
            ]
          },
          "metadata": {
            "tags": []
          },
          "execution_count": 355
        }
      ]
    },
    {
      "cell_type": "markdown",
      "metadata": {
        "id": "g5huq6q6eXRh"
      },
      "source": [
        "***\n",
        "# Engenharia de recursos\n",
        "Esse tópico terá como intuito extrair informações importantes das colunas \"browser\", \"cargo\", \"bandeira do cartao\" e \"email\", como por exemplo o sistema operacional usado, o proprio browser independente da versão, cargos mais comuns, bandeira do cartão filtrada e tambem o provedor de email\n",
        "### Coletando navegadores"
      ]
    },
    {
      "cell_type": "code",
      "metadata": {
        "id": "Fe0gMWFxZiAr"
      },
      "source": [
        "def filtraBrowser(x):\n",
        "  if \"Opera\" in x:\n",
        "    return \"Opera\"\n",
        "  \n",
        "  elif \"Mozilla\" in x:\n",
        "    return \"Mozilla\"\n",
        "  \n",
        "  else:\n",
        "    return \"Outros\"\n",
        "    \n",
        "browsers = df['browser'].apply(lambda x:filtraBrowser(x))"
      ],
      "execution_count": 356,
      "outputs": []
    },
    {
      "cell_type": "markdown",
      "metadata": {
        "id": "Iy_RGyG1h1AJ"
      },
      "source": [
        "### Coletando sistema operacional"
      ]
    },
    {
      "cell_type": "code",
      "metadata": {
        "id": "aS8AH2nNeBpd"
      },
      "source": [
        "def filtraSO(x):\n",
        "  if \"Linux\" in x:\n",
        "    return \"Linux\"\n",
        "  \n",
        "  elif \"Windows\" in x:\n",
        "    return \"Windows\"\n",
        "  \n",
        "  elif \"Mac\" in x:\n",
        "    return \"Mac\"\n",
        "\n",
        "  else:\n",
        "    return \"Outros\"\n",
        "    \n",
        "SO = df['browser'].apply(lambda x:filtraSO(x))"
      ],
      "execution_count": 357,
      "outputs": []
    },
    {
      "cell_type": "markdown",
      "metadata": {
        "id": "X_xhliv-pSRD"
      },
      "source": [
        "### Coletando bandeira do cartão"
      ]
    },
    {
      "cell_type": "code",
      "metadata": {
        "id": "gRnG_s_SpXJo",
        "outputId": "fc2c5272-39a6-4399-dd5e-207065d206df",
        "colab": {
          "base_uri": "https://localhost:8080/"
        }
      },
      "source": [
        "def filtraBandeira(x):\n",
        "  if \"JCB\" in x:\n",
        "    return \"JCB\"\n",
        "  \n",
        "  elif \"VISA\" in x:\n",
        "    return \"VISA\"\n",
        "  \n",
        "  elif \"Mastercard\" in x:\n",
        "    return \"MASTERCARD\"\n",
        "  \n",
        "  elif \"American Express\" in x:\n",
        "    return \"AM_EXPRESS\"\n",
        "  \n",
        "  else:\n",
        "    return \"Outros\"\n",
        "    \n",
        "bandeira = df['bandeira do cartao'].apply(lambda x:filtraBandeira(x))\n",
        "bandeira"
      ],
      "execution_count": 358,
      "outputs": [
        {
          "output_type": "execute_result",
          "data": {
            "text/plain": [
              "0              JCB\n",
              "1       MASTERCARD\n",
              "2              JCB\n",
              "3           Outros\n",
              "4           Outros\n",
              "           ...    \n",
              "9995           JCB\n",
              "9996           JCB\n",
              "9997          VISA\n",
              "9998    AM_EXPRESS\n",
              "9999           JCB\n",
              "Name: bandeira do cartao, Length: 10000, dtype: object"
            ]
          },
          "metadata": {
            "tags": []
          },
          "execution_count": 358
        }
      ]
    },
    {
      "cell_type": "markdown",
      "metadata": {
        "id": "KNC8K_jSj54t"
      },
      "source": [
        "### Coletando provedores de email\n",
        "Para isso, verificamos os emails mais utilizados"
      ]
    },
    {
      "cell_type": "code",
      "metadata": {
        "id": "Ts2qnZr-j9SD",
        "outputId": "a3796b5a-3682-4e33-fe39-453e81804208",
        "colab": {
          "base_uri": "https://localhost:8080/"
        }
      },
      "source": [
        "df['email'].apply(lambda x:x.split(\"@\")[1]).value_counts()"
      ],
      "execution_count": 359,
      "outputs": [
        {
          "output_type": "execute_result",
          "data": {
            "text/plain": [
              "hotmail.com              1638\n",
              "yahoo.com                1616\n",
              "gmail.com                1605\n",
              "smith.com                  42\n",
              "williams.com               37\n",
              "                         ... \n",
              "frey-ward.com               1\n",
              "marquez-castillo.biz        1\n",
              "wade-garner.com             1\n",
              "collins-cole.info           1\n",
              "morales-schneider.net       1\n",
              "Name: email, Length: 3416, dtype: int64"
            ]
          },
          "metadata": {
            "tags": []
          },
          "execution_count": 359
        }
      ]
    },
    {
      "cell_type": "markdown",
      "metadata": {
        "id": "8K94dpmtk57t"
      },
      "source": [
        "### Coletando os emails mais utilizados"
      ]
    },
    {
      "cell_type": "code",
      "metadata": {
        "id": "aQraU1npk5Mh"
      },
      "source": [
        "def filtraEmail(x):\n",
        "  if \"yahoo\" in x:\n",
        "    return \"yahoo\"\n",
        "  \n",
        "  elif \"hotmail\" in x:\n",
        "    return \"hotmail\"\n",
        "  \n",
        "  elif \"gmail\" in x:\n",
        "    return \"gmail\"\n",
        "\n",
        "  else:\n",
        "    return \"Outros\"\n",
        "\n",
        "provedores = df['email'].apply(lambda x:x.split(\"@\")[1])\n",
        "provedores = provedores.apply(lambda x:x.split(\".\")[0])\n",
        "provedores = provedores.apply(lambda x:filtraEmail(x))"
      ],
      "execution_count": 360,
      "outputs": []
    },
    {
      "cell_type": "markdown",
      "metadata": {
        "id": "KphMaZAhiryJ"
      },
      "source": [
        "# Adicionando as novas informaçoes no dataframe"
      ]
    },
    {
      "cell_type": "code",
      "metadata": {
        "id": "zKlXbKXWiciu"
      },
      "source": [
        "df[\"browser\"] = browsers\n",
        "df[\"sistema operacional\"] = SO\n",
        "df[\"email\"] = provedores\n",
        "df[\"bandeira do cartao\"] = bandeira"
      ],
      "execution_count": 361,
      "outputs": []
    },
    {
      "cell_type": "markdown",
      "metadata": {
        "id": "Z80CAN8MjK5U"
      },
      "source": [
        "# Excluindo informações desnecessárias para a análise"
      ]
    },
    {
      "cell_type": "code",
      "metadata": {
        "id": "QQE9CZibi7-w"
      },
      "source": [
        "df.drop([\"endereco\",\"companhia\",\"cartao de credito\",\"codigo do cartao\",\"ip\",'cargo','lote'], axis=1, inplace=True)"
      ],
      "execution_count": 362,
      "outputs": []
    },
    {
      "cell_type": "markdown",
      "metadata": {
        "id": "NHi9eQjZoC5M"
      },
      "source": [
        "***\n",
        "# **Visualizando modificações do dataframe** "
      ]
    },
    {
      "cell_type": "code",
      "metadata": {
        "id": "b7XhrCXFi98Y",
        "outputId": "fe00d64b-a3ba-4ef6-a545-4c64ea1bedee",
        "colab": {
          "base_uri": "https://localhost:8080/",
          "height": 204
        }
      },
      "source": [
        "df.head()"
      ],
      "execution_count": 363,
      "outputs": [
        {
          "output_type": "execute_result",
          "data": {
            "text/html": [
              "<div>\n",
              "<style scoped>\n",
              "    .dataframe tbody tr th:only-of-type {\n",
              "        vertical-align: middle;\n",
              "    }\n",
              "\n",
              "    .dataframe tbody tr th {\n",
              "        vertical-align: top;\n",
              "    }\n",
              "\n",
              "    .dataframe thead th {\n",
              "        text-align: right;\n",
              "    }\n",
              "</style>\n",
              "<table border=\"1\" class=\"dataframe\">\n",
              "  <thead>\n",
              "    <tr style=\"text-align: right;\">\n",
              "      <th></th>\n",
              "      <th>turno</th>\n",
              "      <th>browser</th>\n",
              "      <th>validade do cartao</th>\n",
              "      <th>bandeira do cartao</th>\n",
              "      <th>email</th>\n",
              "      <th>lingua</th>\n",
              "      <th>valor da compra</th>\n",
              "      <th>sistema operacional</th>\n",
              "    </tr>\n",
              "  </thead>\n",
              "  <tbody>\n",
              "    <tr>\n",
              "      <th>0</th>\n",
              "      <td>PM</td>\n",
              "      <td>Opera</td>\n",
              "      <td>02/20</td>\n",
              "      <td>JCB</td>\n",
              "      <td>yahoo</td>\n",
              "      <td>el</td>\n",
              "      <td>98.14</td>\n",
              "      <td>Linux</td>\n",
              "    </tr>\n",
              "    <tr>\n",
              "      <th>1</th>\n",
              "      <td>PM</td>\n",
              "      <td>Opera</td>\n",
              "      <td>11/18</td>\n",
              "      <td>MASTERCARD</td>\n",
              "      <td>Outros</td>\n",
              "      <td>fr</td>\n",
              "      <td>70.73</td>\n",
              "      <td>Windows</td>\n",
              "    </tr>\n",
              "    <tr>\n",
              "      <th>2</th>\n",
              "      <td>PM</td>\n",
              "      <td>Mozilla</td>\n",
              "      <td>08/19</td>\n",
              "      <td>JCB</td>\n",
              "      <td>Outros</td>\n",
              "      <td>de</td>\n",
              "      <td>0.95</td>\n",
              "      <td>Windows</td>\n",
              "    </tr>\n",
              "    <tr>\n",
              "      <th>3</th>\n",
              "      <td>PM</td>\n",
              "      <td>Mozilla</td>\n",
              "      <td>02/24</td>\n",
              "      <td>Outros</td>\n",
              "      <td>Outros</td>\n",
              "      <td>es</td>\n",
              "      <td>78.04</td>\n",
              "      <td>Mac</td>\n",
              "    </tr>\n",
              "    <tr>\n",
              "      <th>4</th>\n",
              "      <td>AM</td>\n",
              "      <td>Opera</td>\n",
              "      <td>10/25</td>\n",
              "      <td>Outros</td>\n",
              "      <td>gmail</td>\n",
              "      <td>es</td>\n",
              "      <td>77.82</td>\n",
              "      <td>Linux</td>\n",
              "    </tr>\n",
              "  </tbody>\n",
              "</table>\n",
              "</div>"
            ],
            "text/plain": [
              "  turno  browser validade do cartao  ... lingua valor da compra sistema operacional\n",
              "0    PM    Opera              02/20  ...     el           98.14               Linux\n",
              "1    PM    Opera              11/18  ...     fr           70.73             Windows\n",
              "2    PM  Mozilla              08/19  ...     de            0.95             Windows\n",
              "3    PM  Mozilla              02/24  ...     es           78.04                 Mac\n",
              "4    AM    Opera              10/25  ...     es           77.82               Linux\n",
              "\n",
              "[5 rows x 8 columns]"
            ]
          },
          "metadata": {
            "tags": []
          },
          "execution_count": 363
        }
      ]
    },
    {
      "cell_type": "markdown",
      "metadata": {
        "id": "lN480oXtszYE"
      },
      "source": [
        "***\n",
        "# **Visualizando dados**\n",
        "##Visualizando compras por turno"
      ]
    },
    {
      "cell_type": "code",
      "metadata": {
        "id": "yze99R2iuCXI",
        "outputId": "5d48468e-ecbf-47b7-a8d7-aee7ef0c0d8c",
        "colab": {
          "base_uri": "https://localhost:8080/",
          "height": 457
        }
      },
      "source": [
        "sns.set_style(\"whitegrid\")\n",
        "plt.figure(dpi=120)\n",
        "sns.set_palette(\"BuPu_r\")\n",
        "plt.ylabel(\"valor\")\n",
        "sns.scatterplot(y=\"valor da compra\", x=\"turno\", data=df)\n",
        "plt.show()"
      ],
      "execution_count": 364,
      "outputs": [
        {
          "output_type": "display_data",
          "data": {
            "image/png": "[encoded data removed]",
            "text/plain": [
              "<Figure size 720x480 with 1 Axes>"
            ]
          },
          "metadata": {
            "tags": []
          }
        }
      ]
    },
    {
      "cell_type": "markdown",
      "metadata": {
        "id": "aTrXrrub0ubW"
      },
      "source": [
        "Obs: Há um equilibrio de quantidade de compras realizadas por turno\n",
        "***"
      ]
    },
    {
      "cell_type": "markdown",
      "metadata": {
        "id": "HxOjOsFn1gAf"
      },
      "source": [
        "## Visualizando valor da compra por bandeira do cartão"
      ]
    },
    {
      "cell_type": "code",
      "metadata": {
        "id": "ENFUuZtcyfGt",
        "outputId": "d0026658-41c0-48c1-e8a3-7b4b8a723cad",
        "colab": {
          "base_uri": "https://localhost:8080/",
          "height": 457
        }
      },
      "source": [
        "plt.figure(dpi=120)\n",
        "sns.set_palette(\"Dark2_r\")\n",
        "plt.ylabel(\"valor\")\n",
        "sns.countplot(x=\"bandeira do cartao\", data=df)\n",
        "plt.show()"
      ],
      "execution_count": 365,
      "outputs": [
        {
          "output_type": "display_data",
          "data": {
            "image/png": "[encoded data removed]",
            "text/plain": [
              "<Figure size 720x480 with 1 Axes>"
            ]
          },
          "metadata": {
            "tags": []
          }
        }
      ]
    },
    {
      "cell_type": "markdown",
      "metadata": {
        "id": "E8KhsGyX21iG"
      },
      "source": [
        "Obs: As banddeiras mais variadas juntas são responsáveis pela grande maioria das compras realizadas\n",
        "***"
      ]
    },
    {
      "cell_type": "markdown",
      "metadata": {
        "id": "lUnHLKKQ3M_f"
      },
      "source": [
        "## Sistemas operacionais mais usados"
      ]
    },
    {
      "cell_type": "code",
      "metadata": {
        "id": "84F8BE201yAc",
        "outputId": "4878444b-4d0a-4299-9644-08fb8e66c8bb",
        "colab": {
          "base_uri": "https://localhost:8080/",
          "height": 457
        }
      },
      "source": [
        "plt.figure(dpi=120)\n",
        "sns.set_palette(\"BuPu_r\")\n",
        "plt.ylabel(\"quantidade\")\n",
        "sns.countplot(x=\"sistema operacional\",data=df)\n",
        "plt.show()"
      ],
      "execution_count": 366,
      "outputs": [
        {
          "output_type": "display_data",
          "data": {
            "image/png": "[encoded data removed]",
            "text/plain": [
              "<Figure size 720x480 with 1 Axes>"
            ]
          },
          "metadata": {
            "tags": []
          }
        }
      ]
    },
    {
      "cell_type": "markdown",
      "metadata": {
        "id": "8XsgqDN33Xov"
      },
      "source": [
        "***"
      ]
    },
    {
      "cell_type": "markdown",
      "metadata": {
        "id": "sH4zNJV43ti4"
      },
      "source": [
        "## Browser mais utilizado"
      ]
    },
    {
      "cell_type": "code",
      "metadata": {
        "id": "6Bdmo8vR17gi",
        "outputId": "72a32917-ca45-4e4d-d09b-b3bd795aa3e3",
        "colab": {
          "base_uri": "https://localhost:8080/",
          "height": 457
        }
      },
      "source": [
        "plt.figure(dpi=120)\n",
        "sns.set_palette(\"Set1\")\n",
        "plt.ylabel(\"quantidade\")\n",
        "sns.countplot(x=\"browser\",data=df)\n",
        "plt.show()"
      ],
      "execution_count": 367,
      "outputs": [
        {
          "output_type": "display_data",
          "data": {
            "image/png": "[encoded data removed]",
            "text/plain": [
              "<Figure size 720x480 with 1 Axes>"
            ]
          },
          "metadata": {
            "tags": []
          }
        }
      ]
    },
    {
      "cell_type": "markdown",
      "metadata": {
        "id": "739FeLMu4A9B"
      },
      "source": [
        "***\n",
        "# Agrupamentos\n",
        "## Agrupando media de compras realizadas por browser"
      ]
    },
    {
      "cell_type": "code",
      "metadata": {
        "id": "NZdhFj5Y3rUH",
        "outputId": "02089f80-3f4f-4425-eace-858502aa186f",
        "colab": {
          "base_uri": "https://localhost:8080/",
          "height": 142
        }
      },
      "source": [
        "df[[\"valor da compra\",\"browser\"]].groupby(\"browser\").mean()"
      ],
      "execution_count": 368,
      "outputs": [
        {
          "output_type": "execute_result",
          "data": {
            "text/html": [
              "<div>\n",
              "<style scoped>\n",
              "    .dataframe tbody tr th:only-of-type {\n",
              "        vertical-align: middle;\n",
              "    }\n",
              "\n",
              "    .dataframe tbody tr th {\n",
              "        vertical-align: top;\n",
              "    }\n",
              "\n",
              "    .dataframe thead th {\n",
              "        text-align: right;\n",
              "    }\n",
              "</style>\n",
              "<table border=\"1\" class=\"dataframe\">\n",
              "  <thead>\n",
              "    <tr style=\"text-align: right;\">\n",
              "      <th></th>\n",
              "      <th>valor da compra</th>\n",
              "    </tr>\n",
              "    <tr>\n",
              "      <th>browser</th>\n",
              "      <th></th>\n",
              "    </tr>\n",
              "  </thead>\n",
              "  <tbody>\n",
              "    <tr>\n",
              "      <th>Mozilla</th>\n",
              "      <td>50.194543</td>\n",
              "    </tr>\n",
              "    <tr>\n",
              "      <th>Opera</th>\n",
              "      <td>50.930376</td>\n",
              "    </tr>\n",
              "  </tbody>\n",
              "</table>\n",
              "</div>"
            ],
            "text/plain": [
              "         valor da compra\n",
              "browser                 \n",
              "Mozilla        50.194543\n",
              "Opera          50.930376"
            ]
          },
          "metadata": {
            "tags": []
          },
          "execution_count": 368
        }
      ]
    },
    {
      "cell_type": "markdown",
      "metadata": {
        "id": "q3KUzIbC4wOm"
      },
      "source": [
        "Obs: É notavel que, por mais que o mozilla tenha a maior quantidade de compras realizadas, as compras pelo opera sao mais caras ao ponto de se igualar as do mozilla.\n",
        "Em média 50 mil de lucro gerado por compras realizadas por ambos os navegadores\n",
        "***"
      ]
    },
    {
      "cell_type": "markdown",
      "metadata": {
        "id": "fYwf2GCC5EY1"
      },
      "source": [
        "## Agrupando media de compras realizadas por sistema operacional"
      ]
    },
    {
      "cell_type": "code",
      "metadata": {
        "id": "nmdPKgYN4ha6",
        "outputId": "f8dfede2-5ad0-4cd5-cd78-acd5d3271d82",
        "colab": {
          "base_uri": "https://localhost:8080/",
          "height": 173
        }
      },
      "source": [
        "df[[\"valor da compra\",\"sistema operacional\"]].groupby(\"sistema operacional\").mean()"
      ],
      "execution_count": 369,
      "outputs": [
        {
          "output_type": "execute_result",
          "data": {
            "text/html": [
              "<div>\n",
              "<style scoped>\n",
              "    .dataframe tbody tr th:only-of-type {\n",
              "        vertical-align: middle;\n",
              "    }\n",
              "\n",
              "    .dataframe tbody tr th {\n",
              "        vertical-align: top;\n",
              "    }\n",
              "\n",
              "    .dataframe thead th {\n",
              "        text-align: right;\n",
              "    }\n",
              "</style>\n",
              "<table border=\"1\" class=\"dataframe\">\n",
              "  <thead>\n",
              "    <tr style=\"text-align: right;\">\n",
              "      <th></th>\n",
              "      <th>valor da compra</th>\n",
              "    </tr>\n",
              "    <tr>\n",
              "      <th>sistema operacional</th>\n",
              "      <th></th>\n",
              "    </tr>\n",
              "  </thead>\n",
              "  <tbody>\n",
              "    <tr>\n",
              "      <th>Linux</th>\n",
              "      <td>50.852898</td>\n",
              "    </tr>\n",
              "    <tr>\n",
              "      <th>Mac</th>\n",
              "      <td>49.159955</td>\n",
              "    </tr>\n",
              "    <tr>\n",
              "      <th>Windows</th>\n",
              "      <td>50.750354</td>\n",
              "    </tr>\n",
              "  </tbody>\n",
              "</table>\n",
              "</div>"
            ],
            "text/plain": [
              "                     valor da compra\n",
              "sistema operacional                 \n",
              "Linux                      50.852898\n",
              "Mac                        49.159955\n",
              "Windows                    50.750354"
            ]
          },
          "metadata": {
            "tags": []
          },
          "execution_count": 369
        }
      ]
    },
    {
      "cell_type": "markdown",
      "metadata": {
        "id": "xFfyoLXX5zIW"
      },
      "source": [
        "Obs: Também é notável que por mais que o windows ganhe disparado em quantidade de clientes, o linux contém usuários que fazem compras mais robustas\n",
        "***"
      ]
    },
    {
      "cell_type": "markdown",
      "metadata": {
        "id": "ad9aVlc26TUt"
      },
      "source": [
        "## Agrupando media de compras realizadas por turno"
      ]
    },
    {
      "cell_type": "code",
      "metadata": {
        "id": "Osw-PVo15NNz",
        "outputId": "04c46069-dc40-4ba8-87c7-a85c421b6909",
        "colab": {
          "base_uri": "https://localhost:8080/",
          "height": 142
        }
      },
      "source": [
        "df[[\"valor da compra\",\"turno\"]].groupby(\"turno\").mean()"
      ],
      "execution_count": 370,
      "outputs": [
        {
          "output_type": "execute_result",
          "data": {
            "text/html": [
              "<div>\n",
              "<style scoped>\n",
              "    .dataframe tbody tr th:only-of-type {\n",
              "        vertical-align: middle;\n",
              "    }\n",
              "\n",
              "    .dataframe tbody tr th {\n",
              "        vertical-align: top;\n",
              "    }\n",
              "\n",
              "    .dataframe thead th {\n",
              "        text-align: right;\n",
              "    }\n",
              "</style>\n",
              "<table border=\"1\" class=\"dataframe\">\n",
              "  <thead>\n",
              "    <tr style=\"text-align: right;\">\n",
              "      <th></th>\n",
              "      <th>valor da compra</th>\n",
              "    </tr>\n",
              "    <tr>\n",
              "      <th>turno</th>\n",
              "      <th></th>\n",
              "    </tr>\n",
              "  </thead>\n",
              "  <tbody>\n",
              "    <tr>\n",
              "      <th>AM</th>\n",
              "      <td>50.186511</td>\n",
              "    </tr>\n",
              "    <tr>\n",
              "      <th>PM</th>\n",
              "      <td>50.503779</td>\n",
              "    </tr>\n",
              "  </tbody>\n",
              "</table>\n",
              "</div>"
            ],
            "text/plain": [
              "       valor da compra\n",
              "turno                 \n",
              "AM           50.186511\n",
              "PM           50.503779"
            ]
          },
          "metadata": {
            "tags": []
          },
          "execution_count": 370
        }
      ]
    },
    {
      "cell_type": "markdown",
      "metadata": {
        "id": "If9Tneoa8TNV"
      },
      "source": [
        "***\n",
        "## Agrupando media de compras realizadas por email"
      ]
    },
    {
      "cell_type": "code",
      "metadata": {
        "id": "xNQT8WtS8ZOD",
        "outputId": "1cedf071-9513-4075-e7ad-15d3ab18947c",
        "colab": {
          "base_uri": "https://localhost:8080/",
          "height": 204
        }
      },
      "source": [
        "df[[\"valor da compra\",\"email\"]].groupby(\"email\").mean()"
      ],
      "execution_count": 371,
      "outputs": [
        {
          "output_type": "execute_result",
          "data": {
            "text/html": [
              "<div>\n",
              "<style scoped>\n",
              "    .dataframe tbody tr th:only-of-type {\n",
              "        vertical-align: middle;\n",
              "    }\n",
              "\n",
              "    .dataframe tbody tr th {\n",
              "        vertical-align: top;\n",
              "    }\n",
              "\n",
              "    .dataframe thead th {\n",
              "        text-align: right;\n",
              "    }\n",
              "</style>\n",
              "<table border=\"1\" class=\"dataframe\">\n",
              "  <thead>\n",
              "    <tr style=\"text-align: right;\">\n",
              "      <th></th>\n",
              "      <th>valor da compra</th>\n",
              "    </tr>\n",
              "    <tr>\n",
              "      <th>email</th>\n",
              "      <th></th>\n",
              "    </tr>\n",
              "  </thead>\n",
              "  <tbody>\n",
              "    <tr>\n",
              "      <th>Outros</th>\n",
              "      <td>50.267607</td>\n",
              "    </tr>\n",
              "    <tr>\n",
              "      <th>gmail</th>\n",
              "      <td>49.269371</td>\n",
              "    </tr>\n",
              "    <tr>\n",
              "      <th>hotmail</th>\n",
              "      <td>51.165995</td>\n",
              "    </tr>\n",
              "    <tr>\n",
              "      <th>yahoo</th>\n",
              "      <td>50.841590</td>\n",
              "    </tr>\n",
              "  </tbody>\n",
              "</table>\n",
              "</div>"
            ],
            "text/plain": [
              "         valor da compra\n",
              "email                   \n",
              "Outros         50.267607\n",
              "gmail          49.269371\n",
              "hotmail        51.165995\n",
              "yahoo          50.841590"
            ]
          },
          "metadata": {
            "tags": []
          },
          "execution_count": 371
        }
      ]
    },
    {
      "cell_type": "markdown",
      "metadata": {
        "id": "vIV_HRw18s8j"
      },
      "source": [
        "***\n",
        "## Agrupando media de compras realizadas por bandeira "
      ]
    },
    {
      "cell_type": "code",
      "metadata": {
        "id": "8e_chMeb80qx",
        "outputId": "98ce8c77-2613-4c4f-d127-cd6c23369dab",
        "colab": {
          "base_uri": "https://localhost:8080/",
          "height": 235
        }
      },
      "source": [
        "df[[\"valor da compra\",'bandeira do cartao']].groupby(\"bandeira do cartao\").mean()"
      ],
      "execution_count": 372,
      "outputs": [
        {
          "output_type": "execute_result",
          "data": {
            "text/html": [
              "<div>\n",
              "<style scoped>\n",
              "    .dataframe tbody tr th:only-of-type {\n",
              "        vertical-align: middle;\n",
              "    }\n",
              "\n",
              "    .dataframe tbody tr th {\n",
              "        vertical-align: top;\n",
              "    }\n",
              "\n",
              "    .dataframe thead th {\n",
              "        text-align: right;\n",
              "    }\n",
              "</style>\n",
              "<table border=\"1\" class=\"dataframe\">\n",
              "  <thead>\n",
              "    <tr style=\"text-align: right;\">\n",
              "      <th></th>\n",
              "      <th>valor da compra</th>\n",
              "    </tr>\n",
              "    <tr>\n",
              "      <th>bandeira do cartao</th>\n",
              "      <th></th>\n",
              "    </tr>\n",
              "  </thead>\n",
              "  <tbody>\n",
              "    <tr>\n",
              "      <th>AM_EXPRESS</th>\n",
              "      <td>50.489423</td>\n",
              "    </tr>\n",
              "    <tr>\n",
              "      <th>JCB</th>\n",
              "      <td>49.912512</td>\n",
              "    </tr>\n",
              "    <tr>\n",
              "      <th>MASTERCARD</th>\n",
              "      <td>50.043015</td>\n",
              "    </tr>\n",
              "    <tr>\n",
              "      <th>Outros</th>\n",
              "      <td>50.718954</td>\n",
              "    </tr>\n",
              "    <tr>\n",
              "      <th>VISA</th>\n",
              "      <td>50.363323</td>\n",
              "    </tr>\n",
              "  </tbody>\n",
              "</table>\n",
              "</div>"
            ],
            "text/plain": [
              "                    valor da compra\n",
              "bandeira do cartao                 \n",
              "AM_EXPRESS                50.489423\n",
              "JCB                       49.912512\n",
              "MASTERCARD                50.043015\n",
              "Outros                    50.718954\n",
              "VISA                      50.363323"
            ]
          },
          "metadata": {
            "tags": []
          },
          "execution_count": 372
        }
      ]
    },
    {
      "cell_type": "markdown",
      "metadata": {
        "id": "7UMIVMKEB6xX"
      },
      "source": [
        "***\n",
        "# Conclusão\n",
        "### Windows é o mais utilizado, mas não tem o melhor historico de lucros, ambos os sistemas possuem um equilibrio em seus dados o suficiente para nao optar por um especifico"
      ]
    }
  ]
}
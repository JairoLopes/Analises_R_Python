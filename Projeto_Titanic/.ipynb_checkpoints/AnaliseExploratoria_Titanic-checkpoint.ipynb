{
 "cells": [
  {
   "cell_type": "markdown",
   "metadata": {
    "id": "b1O9217uiadi"
   },
   "source": [
    "# **Análise exploratória de dados(AED)**\n",
    "#### Este notebook contem uma análise detalhada seguida de **vários modelos de machine learning** com o intuito de predizer a quantidade de sobreviventes **faltantes** do titanic, e ao final, exibir qual modelo teve maior acurácia\n",
    "\n",
    "#### **Resumo do que será feito:** será realizada uma mineração dos dados, depois que os dados estiverem prontos, será feita uma simples predição das idades faltantes, apos isso, dará inicio **as predições de varios modelos para os sobreviventes.**"
   ]
  },
  {
   "cell_type": "code",
   "execution_count": 123,
   "metadata": {
    "id": "CFdFS3b4FItA"
   },
   "outputs": [],
   "source": [
    "import pandas as pd\n",
    "import matplotlib.pyplot as plt\n",
    "%matplotlib inline\n",
    "import numpy as np\n",
    "import seaborn as sns\n",
    "import warnings\n",
    "warnings.filterwarnings('ignore')"
   ]
  },
  {
   "cell_type": "code",
   "execution_count": 124,
   "metadata": {
    "id": "PDMqJ_vojMHl"
   },
   "outputs": [],
   "source": [
    "train = pd.read_csv('titanic_train.csv')\n",
    "test = pd.read_csv('titanic_test.csv')"
   ]
  },
  {
   "cell_type": "markdown",
   "metadata": {},
   "source": [
    "***\n",
    "# Visão geral dos datasets"
   ]
  },
  {
   "cell_type": "code",
   "execution_count": 125,
   "metadata": {},
   "outputs": [
    {
     "name": "stdout",
     "output_type": "stream",
     "text": [
      "<class 'pandas.core.frame.DataFrame'>\n",
      "RangeIndex: 891 entries, 0 to 890\n",
      "Data columns (total 12 columns):\n",
      " #   Column       Non-Null Count  Dtype  \n",
      "---  ------       --------------  -----  \n",
      " 0   PassengerId  891 non-null    int64  \n",
      " 1   Survived     891 non-null    int64  \n",
      " 2   Pclass       891 non-null    int64  \n",
      " 3   Name         891 non-null    object \n",
      " 4   Sex          891 non-null    object \n",
      " 5   Age          714 non-null    float64\n",
      " 6   SibSp        891 non-null    int64  \n",
      " 7   Parch        891 non-null    int64  \n",
      " 8   Ticket       891 non-null    object \n",
      " 9   Fare         891 non-null    float64\n",
      " 10  Cabin        204 non-null    object \n",
      " 11  Embarked     889 non-null    object \n",
      "dtypes: float64(2), int64(5), object(5)\n",
      "memory usage: 83.7+ KB\n"
     ]
    }
   ],
   "source": [
    "train.info()"
   ]
  },
  {
   "cell_type": "code",
   "execution_count": 126,
   "metadata": {},
   "outputs": [
    {
     "name": "stdout",
     "output_type": "stream",
     "text": [
      "<class 'pandas.core.frame.DataFrame'>\n",
      "RangeIndex: 418 entries, 0 to 417\n",
      "Data columns (total 11 columns):\n",
      " #   Column       Non-Null Count  Dtype  \n",
      "---  ------       --------------  -----  \n",
      " 0   PassengerId  418 non-null    int64  \n",
      " 1   Pclass       418 non-null    int64  \n",
      " 2   Name         418 non-null    object \n",
      " 3   Sex          418 non-null    object \n",
      " 4   Age          332 non-null    float64\n",
      " 5   SibSp        418 non-null    int64  \n",
      " 6   Parch        418 non-null    int64  \n",
      " 7   Ticket       418 non-null    object \n",
      " 8   Fare         417 non-null    float64\n",
      " 9   Cabin        91 non-null     object \n",
      " 10  Embarked     418 non-null    object \n",
      "dtypes: float64(2), int64(4), object(5)\n",
      "memory usage: 36.0+ KB\n"
     ]
    }
   ],
   "source": [
    "test.info()"
   ]
  },
  {
   "cell_type": "markdown",
   "metadata": {
    "id": "AxTDKSHKjdD_"
   },
   "source": [
    "# **Definindo o id do passageiro como index em ambos os dataframes**"
   ]
  },
  {
   "cell_type": "code",
   "execution_count": 127,
   "metadata": {
    "id": "uu_ZR-DWjbG0"
   },
   "outputs": [],
   "source": [
    "test.set_index(\"PassengerId\",inplace=True)\n",
    "train.set_index(\"PassengerId\",inplace=True)\n"
   ]
  },
  {
   "cell_type": "markdown",
   "metadata": {
    "id": "3t9bB1gfkyrc"
   },
   "source": [
    "# **Concatenando os dataframes, exibindo o dataframe bruto**"
   ]
  },
  {
   "cell_type": "code",
   "execution_count": 128,
   "metadata": {
    "colab": {
     "base_uri": "https://localhost:8080/",
     "height": 138
    },
    "id": "t3kPRvg3kGub",
    "outputId": "a15dfbb4-7bae-4bd5-8a24-b62f8bacfcce"
   },
   "outputs": [
    {
     "data": {
      "text/html": [
       "<div>\n",
       "<style scoped>\n",
       "    .dataframe tbody tr th:only-of-type {\n",
       "        vertical-align: middle;\n",
       "    }\n",
       "\n",
       "    .dataframe tbody tr th {\n",
       "        vertical-align: top;\n",
       "    }\n",
       "\n",
       "    .dataframe thead th {\n",
       "        text-align: right;\n",
       "    }\n",
       "</style>\n",
       "<table border=\"1\" class=\"dataframe\">\n",
       "  <thead>\n",
       "    <tr style=\"text-align: right;\">\n",
       "      <th></th>\n",
       "      <th>Age</th>\n",
       "      <th>Cabin</th>\n",
       "      <th>Embarked</th>\n",
       "      <th>Fare</th>\n",
       "      <th>Name</th>\n",
       "      <th>Parch</th>\n",
       "      <th>Pclass</th>\n",
       "      <th>Sex</th>\n",
       "      <th>SibSp</th>\n",
       "      <th>Survived</th>\n",
       "      <th>Ticket</th>\n",
       "    </tr>\n",
       "    <tr>\n",
       "      <th>PassengerId</th>\n",
       "      <th></th>\n",
       "      <th></th>\n",
       "      <th></th>\n",
       "      <th></th>\n",
       "      <th></th>\n",
       "      <th></th>\n",
       "      <th></th>\n",
       "      <th></th>\n",
       "      <th></th>\n",
       "      <th></th>\n",
       "      <th></th>\n",
       "    </tr>\n",
       "  </thead>\n",
       "  <tbody>\n",
       "    <tr>\n",
       "      <th>1</th>\n",
       "      <td>22.0</td>\n",
       "      <td>NaN</td>\n",
       "      <td>S</td>\n",
       "      <td>7.2500</td>\n",
       "      <td>Braund, Mr. Owen Harris</td>\n",
       "      <td>0</td>\n",
       "      <td>3</td>\n",
       "      <td>male</td>\n",
       "      <td>1</td>\n",
       "      <td>0.0</td>\n",
       "      <td>A/5 21171</td>\n",
       "    </tr>\n",
       "    <tr>\n",
       "      <th>2</th>\n",
       "      <td>38.0</td>\n",
       "      <td>C85</td>\n",
       "      <td>C</td>\n",
       "      <td>71.2833</td>\n",
       "      <td>Cumings, Mrs. John Bradley (Florence Briggs Th...</td>\n",
       "      <td>0</td>\n",
       "      <td>1</td>\n",
       "      <td>female</td>\n",
       "      <td>1</td>\n",
       "      <td>1.0</td>\n",
       "      <td>PC 17599</td>\n",
       "    </tr>\n",
       "    <tr>\n",
       "      <th>3</th>\n",
       "      <td>26.0</td>\n",
       "      <td>NaN</td>\n",
       "      <td>S</td>\n",
       "      <td>7.9250</td>\n",
       "      <td>Heikkinen, Miss. Laina</td>\n",
       "      <td>0</td>\n",
       "      <td>3</td>\n",
       "      <td>female</td>\n",
       "      <td>0</td>\n",
       "      <td>1.0</td>\n",
       "      <td>STON/O2. 3101282</td>\n",
       "    </tr>\n",
       "    <tr>\n",
       "      <th>4</th>\n",
       "      <td>35.0</td>\n",
       "      <td>C123</td>\n",
       "      <td>S</td>\n",
       "      <td>53.1000</td>\n",
       "      <td>Futrelle, Mrs. Jacques Heath (Lily May Peel)</td>\n",
       "      <td>0</td>\n",
       "      <td>1</td>\n",
       "      <td>female</td>\n",
       "      <td>1</td>\n",
       "      <td>1.0</td>\n",
       "      <td>113803</td>\n",
       "    </tr>\n",
       "    <tr>\n",
       "      <th>5</th>\n",
       "      <td>35.0</td>\n",
       "      <td>NaN</td>\n",
       "      <td>S</td>\n",
       "      <td>8.0500</td>\n",
       "      <td>Allen, Mr. William Henry</td>\n",
       "      <td>0</td>\n",
       "      <td>3</td>\n",
       "      <td>male</td>\n",
       "      <td>0</td>\n",
       "      <td>0.0</td>\n",
       "      <td>373450</td>\n",
       "    </tr>\n",
       "  </tbody>\n",
       "</table>\n",
       "</div>"
      ],
      "text/plain": [
       "              Age Cabin Embarked     Fare  \\\n",
       "PassengerId                                 \n",
       "1            22.0   NaN        S   7.2500   \n",
       "2            38.0   C85        C  71.2833   \n",
       "3            26.0   NaN        S   7.9250   \n",
       "4            35.0  C123        S  53.1000   \n",
       "5            35.0   NaN        S   8.0500   \n",
       "\n",
       "                                                          Name  Parch  Pclass  \\\n",
       "PassengerId                                                                     \n",
       "1                                      Braund, Mr. Owen Harris      0       3   \n",
       "2            Cumings, Mrs. John Bradley (Florence Briggs Th...      0       1   \n",
       "3                                       Heikkinen, Miss. Laina      0       3   \n",
       "4                 Futrelle, Mrs. Jacques Heath (Lily May Peel)      0       1   \n",
       "5                                     Allen, Mr. William Henry      0       3   \n",
       "\n",
       "                Sex  SibSp  Survived            Ticket  \n",
       "PassengerId                                             \n",
       "1              male      1       0.0         A/5 21171  \n",
       "2            female      1       1.0          PC 17599  \n",
       "3            female      0       1.0  STON/O2. 3101282  \n",
       "4            female      1       1.0            113803  \n",
       "5              male      0       0.0            373450  "
      ]
     },
     "execution_count": 128,
     "metadata": {},
     "output_type": "execute_result"
    }
   ],
   "source": [
    "df = pd.concat([train, test],sort=True); df_bruto = pd.concat([train,test])\n",
    "df.head()"
   ]
  },
  {
   "cell_type": "markdown",
   "metadata": {
    "id": "LoSOXv79lTxp"
   },
   "source": [
    "# **Traduzindo Colunas**"
   ]
  },
  {
   "cell_type": "code",
   "execution_count": 129,
   "metadata": {
    "id": "9siliK9xk_4u"
   },
   "outputs": [],
   "source": [
    "\n",
    "df.columns = ['Idade', 'Cabine', 'Embarque', 'Tarifa', 'Nome', 'Pais e Filhos', 'Classe', 'Sexo',\n",
    "       'Irmaos Conjuge', 'Sobreviveu', 'Bilhete']"
   ]
  },
  {
   "cell_type": "markdown",
   "metadata": {
    "id": "VybB5VwxmTJX"
   },
   "source": [
    "# **Traduzindo valores da coluna sexo**"
   ]
  },
  {
   "cell_type": "code",
   "execution_count": 130,
   "metadata": {
    "id": "aBynqnXqmRNJ"
   },
   "outputs": [],
   "source": [
    "df[\"Sexo\"].replace([\"male\",\"female\"],[\"homem\",\"mulher\"],inplace=True)"
   ]
  },
  {
   "cell_type": "markdown",
   "metadata": {
    "id": "7dJtu0uMoqEZ"
   },
   "source": [
    "#**Verificando dados faltantes**"
   ]
  },
  {
   "cell_type": "code",
   "execution_count": 131,
   "metadata": {
    "colab": {
     "base_uri": "https://localhost:8080/",
     "height": 235
    },
    "id": "FYw2GtJ5myGA",
    "outputId": "31ac86c5-01ef-4828-ff98-b0f5bf78c9d8"
   },
   "outputs": [
    {
     "data": {
      "text/plain": [
       "Idade              263\n",
       "Cabine            1014\n",
       "Embarque             2\n",
       "Tarifa               1\n",
       "Nome                 0\n",
       "Pais e Filhos        0\n",
       "Classe               0\n",
       "Sexo                 0\n",
       "Irmaos Conjuge       0\n",
       "Sobreviveu         418\n",
       "Bilhete              0\n",
       "dtype: int64"
      ]
     },
     "execution_count": 131,
     "metadata": {},
     "output_type": "execute_result"
    }
   ],
   "source": [
    "df.isnull().sum()"
   ]
  },
  {
   "cell_type": "markdown",
   "metadata": {
    "id": "27h_ILABqpjU"
   },
   "source": [
    "### **Obs:** A cabine tem a maior quantidade de dados faltantes"
   ]
  },
  {
   "cell_type": "markdown",
   "metadata": {
    "id": "mcXCFxDDpIxa"
   },
   "source": [
    "***\n",
    "# **Filtrando dados eliminando os inuteis, e alterando/preechendo pequenas porções de dados faltantes**"
   ]
  },
  {
   "cell_type": "code",
   "execution_count": 132,
   "metadata": {
    "id": "EVxehuRBo20o"
   },
   "outputs": [],
   "source": [
    "df.drop(\"Cabine\",axis=1,inplace=True)\n",
    "df[\"Embarque\"].fillna(df[\"Embarque\"].mode()[0], inplace=True)\n",
    "df[\"Tarifa\"].fillna(df[\"Tarifa\"].mean(), inplace=True)"
   ]
  },
  {
   "cell_type": "markdown",
   "metadata": {
    "id": "igl3Ur6rqi2L"
   },
   "source": [
    "\n",
    "***\n",
    "# **Conferindo os dados faltantes depois das alterações**"
   ]
  },
  {
   "cell_type": "code",
   "execution_count": 133,
   "metadata": {
    "colab": {
     "base_uri": "https://localhost:8080/",
     "height": 217
    },
    "id": "cy71b7twqD3C",
    "outputId": "4175d3d5-2086-4585-a8f5-c3bf6983a5f7"
   },
   "outputs": [
    {
     "data": {
      "text/plain": [
       "Idade             263\n",
       "Embarque            0\n",
       "Tarifa              0\n",
       "Nome                0\n",
       "Pais e Filhos       0\n",
       "Classe              0\n",
       "Sexo                0\n",
       "Irmaos Conjuge      0\n",
       "Sobreviveu        418\n",
       "Bilhete             0\n",
       "dtype: int64"
      ]
     },
     "execution_count": 133,
     "metadata": {},
     "output_type": "execute_result"
    }
   ],
   "source": [
    "df.isnull().sum()"
   ]
  },
  {
   "cell_type": "markdown",
   "metadata": {
    "id": "wv9qGMCEkeGr"
   },
   "source": [
    "***\n",
    "# **Agrupamentos**\n",
    "### **Agrupando classe X sobreviveu, agrupando quantidade de sobreviventes por classe**"
   ]
  },
  {
   "cell_type": "code",
   "execution_count": 134,
   "metadata": {
    "colab": {
     "base_uri": "https://localhost:8080/",
     "height": 168
    },
    "id": "V71K8_g2qJjT",
    "outputId": "aff9d712-6fe2-4a38-d0f6-08ab18bc2114"
   },
   "outputs": [
    {
     "data": {
      "text/html": [
       "<div>\n",
       "<style scoped>\n",
       "    .dataframe tbody tr th:only-of-type {\n",
       "        vertical-align: middle;\n",
       "    }\n",
       "\n",
       "    .dataframe tbody tr th {\n",
       "        vertical-align: top;\n",
       "    }\n",
       "\n",
       "    .dataframe thead th {\n",
       "        text-align: right;\n",
       "    }\n",
       "</style>\n",
       "<table border=\"1\" class=\"dataframe\">\n",
       "  <thead>\n",
       "    <tr style=\"text-align: right;\">\n",
       "      <th></th>\n",
       "      <th>Sobreviveu</th>\n",
       "    </tr>\n",
       "    <tr>\n",
       "      <th>Classe</th>\n",
       "      <th></th>\n",
       "    </tr>\n",
       "  </thead>\n",
       "  <tbody>\n",
       "    <tr>\n",
       "      <th>1</th>\n",
       "      <td>0.629630</td>\n",
       "    </tr>\n",
       "    <tr>\n",
       "      <th>2</th>\n",
       "      <td>0.472826</td>\n",
       "    </tr>\n",
       "    <tr>\n",
       "      <th>3</th>\n",
       "      <td>0.242363</td>\n",
       "    </tr>\n",
       "  </tbody>\n",
       "</table>\n",
       "</div>"
      ],
      "text/plain": [
       "        Sobreviveu\n",
       "Classe            \n",
       "1         0.629630\n",
       "2         0.472826\n",
       "3         0.242363"
      ]
     },
     "execution_count": 134,
     "metadata": {},
     "output_type": "execute_result"
    }
   ],
   "source": [
    "df[[\"Classe\",\"Sobreviveu\"]].groupby([\"Classe\"]).mean().sort_values(by=\"Sobreviveu\",ascending=False)\n"
   ]
  },
  {
   "cell_type": "markdown",
   "metadata": {
    "id": "yyOqpSUJuXO8"
   },
   "source": [
    "#####**Obs: os passageiros da primeira classe são mais propensos a sobreviver, ao contrario da terceira**"
   ]
  },
  {
   "cell_type": "markdown",
   "metadata": {
    "id": "P8GjnFwSmYmj"
   },
   "source": [
    "### **Agrupando sexo X sobreviveu**"
   ]
  },
  {
   "cell_type": "code",
   "execution_count": 135,
   "metadata": {
    "colab": {
     "base_uri": "https://localhost:8080/",
     "height": 138
    },
    "id": "pCQpEfnDkJVt",
    "outputId": "9ad557a3-9145-470b-ea13-0d984b50eee7"
   },
   "outputs": [
    {
     "data": {
      "text/html": [
       "<div>\n",
       "<style scoped>\n",
       "    .dataframe tbody tr th:only-of-type {\n",
       "        vertical-align: middle;\n",
       "    }\n",
       "\n",
       "    .dataframe tbody tr th {\n",
       "        vertical-align: top;\n",
       "    }\n",
       "\n",
       "    .dataframe thead th {\n",
       "        text-align: right;\n",
       "    }\n",
       "</style>\n",
       "<table border=\"1\" class=\"dataframe\">\n",
       "  <thead>\n",
       "    <tr style=\"text-align: right;\">\n",
       "      <th></th>\n",
       "      <th>Sobreviveu</th>\n",
       "    </tr>\n",
       "    <tr>\n",
       "      <th>Sexo</th>\n",
       "      <th></th>\n",
       "    </tr>\n",
       "  </thead>\n",
       "  <tbody>\n",
       "    <tr>\n",
       "      <th>mulher</th>\n",
       "      <td>0.742038</td>\n",
       "    </tr>\n",
       "    <tr>\n",
       "      <th>homem</th>\n",
       "      <td>0.188908</td>\n",
       "    </tr>\n",
       "  </tbody>\n",
       "</table>\n",
       "</div>"
      ],
      "text/plain": [
       "        Sobreviveu\n",
       "Sexo              \n",
       "mulher    0.742038\n",
       "homem     0.188908"
      ]
     },
     "execution_count": 135,
     "metadata": {},
     "output_type": "execute_result"
    }
   ],
   "source": [
    "df[[\"Sexo\",\"Sobreviveu\"]].groupby(\"Sexo\").mean().sort_values(by=\"Sobreviveu\", ascending=False)"
   ]
  },
  {
   "cell_type": "markdown",
   "metadata": {
    "id": "vogXXrYLtcad"
   },
   "source": [
    "##### **Obs: Como podemos ver, grande parte dos sobreviventes foram do sexo femenino**"
   ]
  },
  {
   "cell_type": "markdown",
   "metadata": {
    "id": "sVkb6aQi5kEe"
   },
   "source": [
    "***\n",
    "## **Média de idade por classe**"
   ]
  },
  {
   "cell_type": "code",
   "execution_count": 136,
   "metadata": {
    "colab": {
     "base_uri": "https://localhost:8080/",
     "height": 168
    },
    "id": "j2gCf3lO5qCs",
    "outputId": "d55165b0-d991-48b3-ab9f-9263dfa5312d"
   },
   "outputs": [
    {
     "data": {
      "text/html": [
       "<div>\n",
       "<style scoped>\n",
       "    .dataframe tbody tr th:only-of-type {\n",
       "        vertical-align: middle;\n",
       "    }\n",
       "\n",
       "    .dataframe tbody tr th {\n",
       "        vertical-align: top;\n",
       "    }\n",
       "\n",
       "    .dataframe thead th {\n",
       "        text-align: right;\n",
       "    }\n",
       "</style>\n",
       "<table border=\"1\" class=\"dataframe\">\n",
       "  <thead>\n",
       "    <tr style=\"text-align: right;\">\n",
       "      <th></th>\n",
       "      <th>Idade</th>\n",
       "    </tr>\n",
       "    <tr>\n",
       "      <th>Classe</th>\n",
       "      <th></th>\n",
       "    </tr>\n",
       "  </thead>\n",
       "  <tbody>\n",
       "    <tr>\n",
       "      <th>1</th>\n",
       "      <td>39</td>\n",
       "    </tr>\n",
       "    <tr>\n",
       "      <th>2</th>\n",
       "      <td>30</td>\n",
       "    </tr>\n",
       "    <tr>\n",
       "      <th>3</th>\n",
       "      <td>25</td>\n",
       "    </tr>\n",
       "  </tbody>\n",
       "</table>\n",
       "</div>"
      ],
      "text/plain": [
       "       Idade\n",
       "Classe      \n",
       "1         39\n",
       "2         30\n",
       "3         25"
      ]
     },
     "execution_count": 136,
     "metadata": {},
     "output_type": "execute_result"
    }
   ],
   "source": [
    "mediaIdadePorClasse = df[[\"Classe\",\"Idade\"]].groupby(\"Classe\").mean()\n",
    "mediaIdadePorClasse[\"Idade\"] =  mediaIdadePorClasse[\"Idade\"].apply(lambda x:f\"{x:.0f}\")\n",
    "mediaIdadePorClasse"
   ]
  },
  {
   "cell_type": "markdown",
   "metadata": {
    "id": "FexuXX5O5slk"
   },
   "source": [
    "##### **Obs: As pessoas da primeira classe eram mais velhas, consequentemente, as da terceira eram mais novas**"
   ]
  },
  {
   "cell_type": "markdown",
   "metadata": {
    "id": "rd0yo9oSoOWI"
   },
   "source": [
    "***\n",
    "# **Visualização de dados**\n",
    "### **Quantidade de sobreviventes por sexo**"
   ]
  },
  {
   "cell_type": "code",
   "execution_count": 137,
   "metadata": {
    "colab": {
     "base_uri": "https://localhost:8080/",
     "height": 382
    },
    "id": "rBRrDOlgmmdF",
    "outputId": "a97b4a55-f339-4134-cbe5-6fef2ba9ea17"
   },
   "outputs": [
    {
     "data": {
      "image/png": "[encoded data removed]",
      "text/plain": [
       "<Figure size 600x400 with 1 Axes>"
      ]
     },
     "metadata": {
      "needs_background": "light"
     },
     "output_type": "display_data"
    }
   ],
   "source": [
    "plt.figure(dpi=100)\n",
    "sns.set_style('whitegrid')\n",
    "sns.countplot(\"Sobreviveu\", hue=\"Sexo\", data=df, palette=\"magma\")\n",
    "plt.show()"
   ]
  },
  {
   "cell_type": "markdown",
   "metadata": {
    "id": "_MnljsVUySq1"
   },
   "source": [
    "***\n",
    "## **Chance de sobrevivência por porto de embarque**"
   ]
  },
  {
   "cell_type": "code",
   "execution_count": 138,
   "metadata": {
    "colab": {
     "base_uri": "https://localhost:8080/",
     "height": 319
    },
    "id": "8KFgfStEwxGM",
    "outputId": "e301ebe2-6930-4de5-c618-3b113a15f5c7"
   },
   "outputs": [
    {
     "data": {
      "image/png": "[encoded data removed]",
      "text/plain": [
       "<Figure size 504x288 with 1 Axes>"
      ]
     },
     "metadata": {},
     "output_type": "display_data"
    }
   ],
   "source": [
    "sns.catplot('Embarque','Sobreviveu',data=df,kind='point')\n",
    "fig = plt.gcf()\n",
    "fig.set_size_inches(7,4)"
   ]
  },
  {
   "cell_type": "markdown",
   "metadata": {
    "id": "OeFMniFDzUZ0"
   },
   "source": [
    "##### **Obs: observamos que quem entrou pelo portão C, teve mais chances de sobrevivência**"
   ]
  },
  {
   "cell_type": "markdown",
   "metadata": {
    "id": "AP1qIM4M3jol"
   },
   "source": [
    "***\n",
    "## **Visualizando dados faltantes do dataframe**"
   ]
  },
  {
   "cell_type": "code",
   "execution_count": 139,
   "metadata": {
    "colab": {
     "base_uri": "https://localhost:8080/",
     "height": 507
    },
    "id": "XZudkMpi0n84",
    "outputId": "6aabbf91-e587-4848-8743-2fa7ef285596"
   },
   "outputs": [
    {
     "data": {
      "image/png": "[encoded data removed]",
      "text/plain": [
       "<Figure size 660x440 with 2 Axes>"
      ]
     },
     "metadata": {},
     "output_type": "display_data"
    }
   ],
   "source": [
    "plt.figure(dpi=110)\n",
    "sns.heatmap(df.isnull(),cmap=\"magma\",yticklabels=False)\n",
    "plt.show()"
   ]
  },
  {
   "cell_type": "markdown",
   "metadata": {},
   "source": [
    "#### OBS: baseado neste gráfico, será realizado um modelo preditivo para preencher a quantidade e idades faltantes, para um melhor desempenho na predição dos sobreviventes"
   ]
  },
  {
   "cell_type": "markdown",
   "metadata": {
    "id": "X9RROAWy6Wxo"
   },
   "source": [
    "***\n",
    "# **Engenharia de recursos**\n",
    "### **Descobrindo titulo das pessoas pelo nome**"
   ]
  },
  {
   "cell_type": "code",
   "execution_count": 140,
   "metadata": {
    "id": "BMbMl_-o22zV"
   },
   "outputs": [
    {
     "data": {
      "text/html": [
       "<div>\n",
       "<style scoped>\n",
       "    .dataframe tbody tr th:only-of-type {\n",
       "        vertical-align: middle;\n",
       "    }\n",
       "\n",
       "    .dataframe tbody tr th {\n",
       "        vertical-align: top;\n",
       "    }\n",
       "\n",
       "    .dataframe thead th {\n",
       "        text-align: right;\n",
       "    }\n",
       "</style>\n",
       "<table border=\"1\" class=\"dataframe\">\n",
       "  <thead>\n",
       "    <tr style=\"text-align: right;\">\n",
       "      <th></th>\n",
       "      <th>Idade</th>\n",
       "      <th>Embarque</th>\n",
       "      <th>Tarifa</th>\n",
       "      <th>Nome</th>\n",
       "      <th>Pais e Filhos</th>\n",
       "      <th>Classe</th>\n",
       "      <th>Sexo</th>\n",
       "      <th>Irmaos Conjuge</th>\n",
       "      <th>Sobreviveu</th>\n",
       "      <th>Bilhete</th>\n",
       "      <th>Titulo</th>\n",
       "    </tr>\n",
       "    <tr>\n",
       "      <th>PassengerId</th>\n",
       "      <th></th>\n",
       "      <th></th>\n",
       "      <th></th>\n",
       "      <th></th>\n",
       "      <th></th>\n",
       "      <th></th>\n",
       "      <th></th>\n",
       "      <th></th>\n",
       "      <th></th>\n",
       "      <th></th>\n",
       "      <th></th>\n",
       "    </tr>\n",
       "  </thead>\n",
       "  <tbody>\n",
       "    <tr>\n",
       "      <th>1</th>\n",
       "      <td>22.0</td>\n",
       "      <td>S</td>\n",
       "      <td>7.2500</td>\n",
       "      <td>Braund, Mr. Owen Harris</td>\n",
       "      <td>0</td>\n",
       "      <td>3</td>\n",
       "      <td>homem</td>\n",
       "      <td>1</td>\n",
       "      <td>0.0</td>\n",
       "      <td>A/5 21171</td>\n",
       "      <td>Mr</td>\n",
       "    </tr>\n",
       "    <tr>\n",
       "      <th>2</th>\n",
       "      <td>38.0</td>\n",
       "      <td>C</td>\n",
       "      <td>71.2833</td>\n",
       "      <td>Cumings, Mrs. John Bradley (Florence Briggs Th...</td>\n",
       "      <td>0</td>\n",
       "      <td>1</td>\n",
       "      <td>mulher</td>\n",
       "      <td>1</td>\n",
       "      <td>1.0</td>\n",
       "      <td>PC 17599</td>\n",
       "      <td>Mrs</td>\n",
       "    </tr>\n",
       "    <tr>\n",
       "      <th>3</th>\n",
       "      <td>26.0</td>\n",
       "      <td>S</td>\n",
       "      <td>7.9250</td>\n",
       "      <td>Heikkinen, Miss. Laina</td>\n",
       "      <td>0</td>\n",
       "      <td>3</td>\n",
       "      <td>mulher</td>\n",
       "      <td>0</td>\n",
       "      <td>1.0</td>\n",
       "      <td>STON/O2. 3101282</td>\n",
       "      <td>Miss</td>\n",
       "    </tr>\n",
       "    <tr>\n",
       "      <th>4</th>\n",
       "      <td>35.0</td>\n",
       "      <td>S</td>\n",
       "      <td>53.1000</td>\n",
       "      <td>Futrelle, Mrs. Jacques Heath (Lily May Peel)</td>\n",
       "      <td>0</td>\n",
       "      <td>1</td>\n",
       "      <td>mulher</td>\n",
       "      <td>1</td>\n",
       "      <td>1.0</td>\n",
       "      <td>113803</td>\n",
       "      <td>Mrs</td>\n",
       "    </tr>\n",
       "    <tr>\n",
       "      <th>5</th>\n",
       "      <td>35.0</td>\n",
       "      <td>S</td>\n",
       "      <td>8.0500</td>\n",
       "      <td>Allen, Mr. William Henry</td>\n",
       "      <td>0</td>\n",
       "      <td>3</td>\n",
       "      <td>homem</td>\n",
       "      <td>0</td>\n",
       "      <td>0.0</td>\n",
       "      <td>373450</td>\n",
       "      <td>Mr</td>\n",
       "    </tr>\n",
       "  </tbody>\n",
       "</table>\n",
       "</div>"
      ],
      "text/plain": [
       "             Idade Embarque   Tarifa  \\\n",
       "PassengerId                            \n",
       "1             22.0        S   7.2500   \n",
       "2             38.0        C  71.2833   \n",
       "3             26.0        S   7.9250   \n",
       "4             35.0        S  53.1000   \n",
       "5             35.0        S   8.0500   \n",
       "\n",
       "                                                          Nome  Pais e Filhos  \\\n",
       "PassengerId                                                                     \n",
       "1                                      Braund, Mr. Owen Harris              0   \n",
       "2            Cumings, Mrs. John Bradley (Florence Briggs Th...              0   \n",
       "3                                       Heikkinen, Miss. Laina              0   \n",
       "4                 Futrelle, Mrs. Jacques Heath (Lily May Peel)              0   \n",
       "5                                     Allen, Mr. William Henry              0   \n",
       "\n",
       "             Classe    Sexo  Irmaos Conjuge  Sobreviveu           Bilhete  \\\n",
       "PassengerId                                                                 \n",
       "1                 3   homem               1         0.0         A/5 21171   \n",
       "2                 1  mulher               1         1.0          PC 17599   \n",
       "3                 3  mulher               0         1.0  STON/O2. 3101282   \n",
       "4                 1  mulher               1         1.0            113803   \n",
       "5                 3   homem               0         0.0            373450   \n",
       "\n",
       "            Titulo  \n",
       "PassengerId         \n",
       "1               Mr  \n",
       "2              Mrs  \n",
       "3             Miss  \n",
       "4              Mrs  \n",
       "5               Mr  "
      ]
     },
     "execution_count": 140,
     "metadata": {},
     "output_type": "execute_result"
    }
   ],
   "source": [
    "df[\"Titulo\"] = df[\"Nome\"].str.extract(r\",\\s([a-zA-Z]+)\\.\")\n",
    "df[\"Titulo\"] = df[\"Titulo\"].apply(lambda x:x if x in \"Mr Miss Mrs Master\".split() else \"Outros\")\n",
    "df.head()"
   ]
  },
  {
   "cell_type": "markdown",
   "metadata": {
    "id": "yZwyUtir8xVI"
   },
   "source": [
    "***\n",
    "## **Traduzindo titulos**"
   ]
  },
  {
   "cell_type": "code",
   "execution_count": 141,
   "metadata": {
    "id": "UPIoTw-66vt_"
   },
   "outputs": [
    {
     "data": {
      "text/html": [
       "<div>\n",
       "<style scoped>\n",
       "    .dataframe tbody tr th:only-of-type {\n",
       "        vertical-align: middle;\n",
       "    }\n",
       "\n",
       "    .dataframe tbody tr th {\n",
       "        vertical-align: top;\n",
       "    }\n",
       "\n",
       "    .dataframe thead th {\n",
       "        text-align: right;\n",
       "    }\n",
       "</style>\n",
       "<table border=\"1\" class=\"dataframe\">\n",
       "  <thead>\n",
       "    <tr style=\"text-align: right;\">\n",
       "      <th></th>\n",
       "      <th>Idade</th>\n",
       "      <th>Embarque</th>\n",
       "      <th>Tarifa</th>\n",
       "      <th>Nome</th>\n",
       "      <th>Pais e Filhos</th>\n",
       "      <th>Classe</th>\n",
       "      <th>Sexo</th>\n",
       "      <th>Irmaos Conjuge</th>\n",
       "      <th>Sobreviveu</th>\n",
       "      <th>Bilhete</th>\n",
       "      <th>Titulo</th>\n",
       "    </tr>\n",
       "    <tr>\n",
       "      <th>PassengerId</th>\n",
       "      <th></th>\n",
       "      <th></th>\n",
       "      <th></th>\n",
       "      <th></th>\n",
       "      <th></th>\n",
       "      <th></th>\n",
       "      <th></th>\n",
       "      <th></th>\n",
       "      <th></th>\n",
       "      <th></th>\n",
       "      <th></th>\n",
       "    </tr>\n",
       "  </thead>\n",
       "  <tbody>\n",
       "    <tr>\n",
       "      <th>1</th>\n",
       "      <td>22.0</td>\n",
       "      <td>S</td>\n",
       "      <td>7.2500</td>\n",
       "      <td>Braund, Mr. Owen Harris</td>\n",
       "      <td>0</td>\n",
       "      <td>3</td>\n",
       "      <td>homem</td>\n",
       "      <td>1</td>\n",
       "      <td>0.0</td>\n",
       "      <td>A/5 21171</td>\n",
       "      <td>HomemAdulto</td>\n",
       "    </tr>\n",
       "    <tr>\n",
       "      <th>2</th>\n",
       "      <td>38.0</td>\n",
       "      <td>C</td>\n",
       "      <td>71.2833</td>\n",
       "      <td>Cumings, Mrs. John Bradley (Florence Briggs Th...</td>\n",
       "      <td>0</td>\n",
       "      <td>1</td>\n",
       "      <td>mulher</td>\n",
       "      <td>1</td>\n",
       "      <td>1.0</td>\n",
       "      <td>PC 17599</td>\n",
       "      <td>Casada</td>\n",
       "    </tr>\n",
       "    <tr>\n",
       "      <th>3</th>\n",
       "      <td>26.0</td>\n",
       "      <td>S</td>\n",
       "      <td>7.9250</td>\n",
       "      <td>Heikkinen, Miss. Laina</td>\n",
       "      <td>0</td>\n",
       "      <td>3</td>\n",
       "      <td>mulher</td>\n",
       "      <td>0</td>\n",
       "      <td>1.0</td>\n",
       "      <td>STON/O2. 3101282</td>\n",
       "      <td>Solteira</td>\n",
       "    </tr>\n",
       "    <tr>\n",
       "      <th>4</th>\n",
       "      <td>35.0</td>\n",
       "      <td>S</td>\n",
       "      <td>53.1000</td>\n",
       "      <td>Futrelle, Mrs. Jacques Heath (Lily May Peel)</td>\n",
       "      <td>0</td>\n",
       "      <td>1</td>\n",
       "      <td>mulher</td>\n",
       "      <td>1</td>\n",
       "      <td>1.0</td>\n",
       "      <td>113803</td>\n",
       "      <td>Casada</td>\n",
       "    </tr>\n",
       "    <tr>\n",
       "      <th>5</th>\n",
       "      <td>35.0</td>\n",
       "      <td>S</td>\n",
       "      <td>8.0500</td>\n",
       "      <td>Allen, Mr. William Henry</td>\n",
       "      <td>0</td>\n",
       "      <td>3</td>\n",
       "      <td>homem</td>\n",
       "      <td>0</td>\n",
       "      <td>0.0</td>\n",
       "      <td>373450</td>\n",
       "      <td>HomemAdulto</td>\n",
       "    </tr>\n",
       "  </tbody>\n",
       "</table>\n",
       "</div>"
      ],
      "text/plain": [
       "             Idade Embarque   Tarifa  \\\n",
       "PassengerId                            \n",
       "1             22.0        S   7.2500   \n",
       "2             38.0        C  71.2833   \n",
       "3             26.0        S   7.9250   \n",
       "4             35.0        S  53.1000   \n",
       "5             35.0        S   8.0500   \n",
       "\n",
       "                                                          Nome  Pais e Filhos  \\\n",
       "PassengerId                                                                     \n",
       "1                                      Braund, Mr. Owen Harris              0   \n",
       "2            Cumings, Mrs. John Bradley (Florence Briggs Th...              0   \n",
       "3                                       Heikkinen, Miss. Laina              0   \n",
       "4                 Futrelle, Mrs. Jacques Heath (Lily May Peel)              0   \n",
       "5                                     Allen, Mr. William Henry              0   \n",
       "\n",
       "             Classe    Sexo  Irmaos Conjuge  Sobreviveu           Bilhete  \\\n",
       "PassengerId                                                                 \n",
       "1                 3   homem               1         0.0         A/5 21171   \n",
       "2                 1  mulher               1         1.0          PC 17599   \n",
       "3                 3  mulher               0         1.0  STON/O2. 3101282   \n",
       "4                 1  mulher               1         1.0            113803   \n",
       "5                 3   homem               0         0.0            373450   \n",
       "\n",
       "                  Titulo  \n",
       "PassengerId               \n",
       "1            HomemAdulto  \n",
       "2                 Casada  \n",
       "3               Solteira  \n",
       "4                 Casada  \n",
       "5            HomemAdulto  "
      ]
     },
     "execution_count": 141,
     "metadata": {},
     "output_type": "execute_result"
    }
   ],
   "source": [
    "df[\"Titulo\"].replace(\"Mr Miss Mrs Master\".split(), \"HomemAdulto Solteira Casada Menino\".split(), inplace=True)\n",
    "df.head()"
   ]
  },
  {
   "cell_type": "markdown",
   "metadata": {
    "id": "64HObtLB_dxD"
   },
   "source": [
    "***\n",
    "## **Pegando sobrenome dos passageiros para idenetificar possiveis familiares**"
   ]
  },
  {
   "cell_type": "code",
   "execution_count": 142,
   "metadata": {
    "id": "cV424yCz9ks9"
   },
   "outputs": [
    {
     "data": {
      "text/html": [
       "<div>\n",
       "<style scoped>\n",
       "    .dataframe tbody tr th:only-of-type {\n",
       "        vertical-align: middle;\n",
       "    }\n",
       "\n",
       "    .dataframe tbody tr th {\n",
       "        vertical-align: top;\n",
       "    }\n",
       "\n",
       "    .dataframe thead th {\n",
       "        text-align: right;\n",
       "    }\n",
       "</style>\n",
       "<table border=\"1\" class=\"dataframe\">\n",
       "  <thead>\n",
       "    <tr style=\"text-align: right;\">\n",
       "      <th></th>\n",
       "      <th>Idade</th>\n",
       "      <th>Embarque</th>\n",
       "      <th>Tarifa</th>\n",
       "      <th>Nome</th>\n",
       "      <th>Pais e Filhos</th>\n",
       "      <th>Classe</th>\n",
       "      <th>Sexo</th>\n",
       "      <th>Irmaos Conjuge</th>\n",
       "      <th>Sobreviveu</th>\n",
       "      <th>Bilhete</th>\n",
       "      <th>Titulo</th>\n",
       "      <th>Clan</th>\n",
       "    </tr>\n",
       "    <tr>\n",
       "      <th>PassengerId</th>\n",
       "      <th></th>\n",
       "      <th></th>\n",
       "      <th></th>\n",
       "      <th></th>\n",
       "      <th></th>\n",
       "      <th></th>\n",
       "      <th></th>\n",
       "      <th></th>\n",
       "      <th></th>\n",
       "      <th></th>\n",
       "      <th></th>\n",
       "      <th></th>\n",
       "    </tr>\n",
       "  </thead>\n",
       "  <tbody>\n",
       "    <tr>\n",
       "      <th>1</th>\n",
       "      <td>22.0</td>\n",
       "      <td>S</td>\n",
       "      <td>7.2500</td>\n",
       "      <td>Braund, Mr. Owen Harris</td>\n",
       "      <td>0</td>\n",
       "      <td>3</td>\n",
       "      <td>homem</td>\n",
       "      <td>1</td>\n",
       "      <td>0.0</td>\n",
       "      <td>A/5 21171</td>\n",
       "      <td>HomemAdulto</td>\n",
       "      <td>Braund</td>\n",
       "    </tr>\n",
       "    <tr>\n",
       "      <th>2</th>\n",
       "      <td>38.0</td>\n",
       "      <td>C</td>\n",
       "      <td>71.2833</td>\n",
       "      <td>Cumings, Mrs. John Bradley (Florence Briggs Th...</td>\n",
       "      <td>0</td>\n",
       "      <td>1</td>\n",
       "      <td>mulher</td>\n",
       "      <td>1</td>\n",
       "      <td>1.0</td>\n",
       "      <td>PC 17599</td>\n",
       "      <td>Casada</td>\n",
       "      <td>Cumings</td>\n",
       "    </tr>\n",
       "    <tr>\n",
       "      <th>3</th>\n",
       "      <td>26.0</td>\n",
       "      <td>S</td>\n",
       "      <td>7.9250</td>\n",
       "      <td>Heikkinen, Miss. Laina</td>\n",
       "      <td>0</td>\n",
       "      <td>3</td>\n",
       "      <td>mulher</td>\n",
       "      <td>0</td>\n",
       "      <td>1.0</td>\n",
       "      <td>STON/O2. 3101282</td>\n",
       "      <td>Solteira</td>\n",
       "      <td>Heikkinen</td>\n",
       "    </tr>\n",
       "    <tr>\n",
       "      <th>4</th>\n",
       "      <td>35.0</td>\n",
       "      <td>S</td>\n",
       "      <td>53.1000</td>\n",
       "      <td>Futrelle, Mrs. Jacques Heath (Lily May Peel)</td>\n",
       "      <td>0</td>\n",
       "      <td>1</td>\n",
       "      <td>mulher</td>\n",
       "      <td>1</td>\n",
       "      <td>1.0</td>\n",
       "      <td>113803</td>\n",
       "      <td>Casada</td>\n",
       "      <td>Futrelle</td>\n",
       "    </tr>\n",
       "    <tr>\n",
       "      <th>5</th>\n",
       "      <td>35.0</td>\n",
       "      <td>S</td>\n",
       "      <td>8.0500</td>\n",
       "      <td>Allen, Mr. William Henry</td>\n",
       "      <td>0</td>\n",
       "      <td>3</td>\n",
       "      <td>homem</td>\n",
       "      <td>0</td>\n",
       "      <td>0.0</td>\n",
       "      <td>373450</td>\n",
       "      <td>HomemAdulto</td>\n",
       "      <td>Allen</td>\n",
       "    </tr>\n",
       "  </tbody>\n",
       "</table>\n",
       "</div>"
      ],
      "text/plain": [
       "             Idade Embarque   Tarifa  \\\n",
       "PassengerId                            \n",
       "1             22.0        S   7.2500   \n",
       "2             38.0        C  71.2833   \n",
       "3             26.0        S   7.9250   \n",
       "4             35.0        S  53.1000   \n",
       "5             35.0        S   8.0500   \n",
       "\n",
       "                                                          Nome  Pais e Filhos  \\\n",
       "PassengerId                                                                     \n",
       "1                                      Braund, Mr. Owen Harris              0   \n",
       "2            Cumings, Mrs. John Bradley (Florence Briggs Th...              0   \n",
       "3                                       Heikkinen, Miss. Laina              0   \n",
       "4                 Futrelle, Mrs. Jacques Heath (Lily May Peel)              0   \n",
       "5                                     Allen, Mr. William Henry              0   \n",
       "\n",
       "             Classe    Sexo  Irmaos Conjuge  Sobreviveu           Bilhete  \\\n",
       "PassengerId                                                                 \n",
       "1                 3   homem               1         0.0         A/5 21171   \n",
       "2                 1  mulher               1         1.0          PC 17599   \n",
       "3                 3  mulher               0         1.0  STON/O2. 3101282   \n",
       "4                 1  mulher               1         1.0            113803   \n",
       "5                 3   homem               0         0.0            373450   \n",
       "\n",
       "                  Titulo       Clan  \n",
       "PassengerId                          \n",
       "1            HomemAdulto     Braund  \n",
       "2                 Casada    Cumings  \n",
       "3               Solteira  Heikkinen  \n",
       "4                 Casada   Futrelle  \n",
       "5            HomemAdulto      Allen  "
      ]
     },
     "execution_count": 142,
     "metadata": {},
     "output_type": "execute_result"
    }
   ],
   "source": [
    "df[\"Clan\"] = df.Nome.apply(lambda x:x.split(\",\")[0])\n",
    "df.head()"
   ]
  },
  {
   "cell_type": "markdown",
   "metadata": {
    "id": "pQGtdDDfsfKa"
   },
   "source": [
    "## **Possiveis familias**"
   ]
  },
  {
   "cell_type": "code",
   "execution_count": 143,
   "metadata": {
    "colab": {
     "base_uri": "https://localhost:8080/",
     "height": 254
    },
    "id": "oEPLqnDS_5Dc",
    "outputId": "0c3783a0-74d0-4baf-a3aa-ee8768d460cf"
   },
   "outputs": [
    {
     "data": {
      "text/plain": [
       "Clan\n",
       "Sage         11\n",
       "Andersson    11\n",
       "Asplund       8\n",
       "Goodwin       8\n",
       "Davies        7\n",
       "             ..\n",
       "Moutal        1\n",
       "Moussa        1\n",
       "Moss          1\n",
       "Morrow        1\n",
       "Abbing        1\n",
       "Name: Nome, Length: 875, dtype: int64"
      ]
     },
     "execution_count": 143,
     "metadata": {},
     "output_type": "execute_result"
    }
   ],
   "source": [
    "df.groupby([\"Clan\"])[\"Nome\"].count().sort_values(ascending=False)"
   ]
  },
  {
   "cell_type": "markdown",
   "metadata": {
    "id": "b9Qgg_xeEtZw"
   },
   "source": [
    "### **Verificando Parentesco baseado  no sobrenome(Clan) e o bilhete**\n",
    "##### **Verificando as possiveis maiores familias a bordo e sua taxa de sobrevivencia**\n",
    "###### **Começando pela familia andersson**"
   ]
  },
  {
   "cell_type": "code",
   "execution_count": 144,
   "metadata": {
    "colab": {
     "base_uri": "https://localhost:8080/",
     "height": 348
    },
    "id": "ly3QbiiVB4OC",
    "outputId": "60faa26d-b716-4ca9-c820-af79a5eaf8fb"
   },
   "outputs": [
    {
     "data": {
      "text/html": [
       "<div>\n",
       "<style scoped>\n",
       "    .dataframe tbody tr th:only-of-type {\n",
       "        vertical-align: middle;\n",
       "    }\n",
       "\n",
       "    .dataframe tbody tr th {\n",
       "        vertical-align: top;\n",
       "    }\n",
       "\n",
       "    .dataframe thead th {\n",
       "        text-align: right;\n",
       "    }\n",
       "</style>\n",
       "<table border=\"1\" class=\"dataframe\">\n",
       "  <thead>\n",
       "    <tr style=\"text-align: right;\">\n",
       "      <th></th>\n",
       "      <th>Sobreviveu</th>\n",
       "      <th>Classe</th>\n",
       "      <th>Titulo</th>\n",
       "      <th>Nome</th>\n",
       "      <th>Clan</th>\n",
       "      <th>Bilhete</th>\n",
       "      <th>Embarque</th>\n",
       "    </tr>\n",
       "    <tr>\n",
       "      <th>PassengerId</th>\n",
       "      <th></th>\n",
       "      <th></th>\n",
       "      <th></th>\n",
       "      <th></th>\n",
       "      <th></th>\n",
       "      <th></th>\n",
       "      <th></th>\n",
       "    </tr>\n",
       "  </thead>\n",
       "  <tbody>\n",
       "    <tr>\n",
       "      <th>14</th>\n",
       "      <td>0.0</td>\n",
       "      <td>3</td>\n",
       "      <td>HomemAdulto</td>\n",
       "      <td>Andersson, Mr. Anders Johan</td>\n",
       "      <td>Andersson</td>\n",
       "      <td>347082</td>\n",
       "      <td>S</td>\n",
       "    </tr>\n",
       "    <tr>\n",
       "      <th>69</th>\n",
       "      <td>1.0</td>\n",
       "      <td>3</td>\n",
       "      <td>Solteira</td>\n",
       "      <td>Andersson, Miss. Erna Alexandra</td>\n",
       "      <td>Andersson</td>\n",
       "      <td>3101281</td>\n",
       "      <td>S</td>\n",
       "    </tr>\n",
       "    <tr>\n",
       "      <th>120</th>\n",
       "      <td>0.0</td>\n",
       "      <td>3</td>\n",
       "      <td>Solteira</td>\n",
       "      <td>Andersson, Miss. Ellis Anna Maria</td>\n",
       "      <td>Andersson</td>\n",
       "      <td>347082</td>\n",
       "      <td>S</td>\n",
       "    </tr>\n",
       "    <tr>\n",
       "      <th>147</th>\n",
       "      <td>1.0</td>\n",
       "      <td>3</td>\n",
       "      <td>HomemAdulto</td>\n",
       "      <td>Andersson, Mr. August Edvard (\"Wennerstrom\")</td>\n",
       "      <td>Andersson</td>\n",
       "      <td>350043</td>\n",
       "      <td>S</td>\n",
       "    </tr>\n",
       "    <tr>\n",
       "      <th>542</th>\n",
       "      <td>0.0</td>\n",
       "      <td>3</td>\n",
       "      <td>Solteira</td>\n",
       "      <td>Andersson, Miss. Ingeborg Constanzia</td>\n",
       "      <td>Andersson</td>\n",
       "      <td>347082</td>\n",
       "      <td>S</td>\n",
       "    </tr>\n",
       "    <tr>\n",
       "      <th>543</th>\n",
       "      <td>0.0</td>\n",
       "      <td>3</td>\n",
       "      <td>Solteira</td>\n",
       "      <td>Andersson, Miss. Sigrid Elisabeth</td>\n",
       "      <td>Andersson</td>\n",
       "      <td>347082</td>\n",
       "      <td>S</td>\n",
       "    </tr>\n",
       "    <tr>\n",
       "      <th>611</th>\n",
       "      <td>0.0</td>\n",
       "      <td>3</td>\n",
       "      <td>Casada</td>\n",
       "      <td>Andersson, Mrs. Anders Johan (Alfrida Konstant...</td>\n",
       "      <td>Andersson</td>\n",
       "      <td>347082</td>\n",
       "      <td>S</td>\n",
       "    </tr>\n",
       "    <tr>\n",
       "      <th>814</th>\n",
       "      <td>0.0</td>\n",
       "      <td>3</td>\n",
       "      <td>Solteira</td>\n",
       "      <td>Andersson, Miss. Ebba Iris Alfrida</td>\n",
       "      <td>Andersson</td>\n",
       "      <td>347082</td>\n",
       "      <td>S</td>\n",
       "    </tr>\n",
       "    <tr>\n",
       "      <th>851</th>\n",
       "      <td>0.0</td>\n",
       "      <td>3</td>\n",
       "      <td>Menino</td>\n",
       "      <td>Andersson, Master. Sigvard Harald Elias</td>\n",
       "      <td>Andersson</td>\n",
       "      <td>347082</td>\n",
       "      <td>S</td>\n",
       "    </tr>\n",
       "  </tbody>\n",
       "</table>\n",
       "</div>"
      ],
      "text/plain": [
       "             Sobreviveu  Classe       Titulo  \\\n",
       "PassengerId                                    \n",
       "14                  0.0       3  HomemAdulto   \n",
       "69                  1.0       3     Solteira   \n",
       "120                 0.0       3     Solteira   \n",
       "147                 1.0       3  HomemAdulto   \n",
       "542                 0.0       3     Solteira   \n",
       "543                 0.0       3     Solteira   \n",
       "611                 0.0       3       Casada   \n",
       "814                 0.0       3     Solteira   \n",
       "851                 0.0       3       Menino   \n",
       "\n",
       "                                                          Nome       Clan  \\\n",
       "PassengerId                                                                 \n",
       "14                                 Andersson, Mr. Anders Johan  Andersson   \n",
       "69                             Andersson, Miss. Erna Alexandra  Andersson   \n",
       "120                          Andersson, Miss. Ellis Anna Maria  Andersson   \n",
       "147               Andersson, Mr. August Edvard (\"Wennerstrom\")  Andersson   \n",
       "542                       Andersson, Miss. Ingeborg Constanzia  Andersson   \n",
       "543                          Andersson, Miss. Sigrid Elisabeth  Andersson   \n",
       "611          Andersson, Mrs. Anders Johan (Alfrida Konstant...  Andersson   \n",
       "814                         Andersson, Miss. Ebba Iris Alfrida  Andersson   \n",
       "851                    Andersson, Master. Sigvard Harald Elias  Andersson   \n",
       "\n",
       "             Bilhete Embarque  \n",
       "PassengerId                    \n",
       "14            347082        S  \n",
       "69           3101281        S  \n",
       "120           347082        S  \n",
       "147           350043        S  \n",
       "542           347082        S  \n",
       "543           347082        S  \n",
       "611           347082        S  \n",
       "814           347082        S  \n",
       "851           347082        S  "
      ]
     },
     "execution_count": 144,
     "metadata": {},
     "output_type": "execute_result"
    }
   ],
   "source": [
    "clanAndersson = df[[\"Sobreviveu\",\"Classe\",\"Titulo\",\"Nome\",\"Clan\",\"Bilhete\",\"Embarque\"]].loc[(df['Clan'] == \"Andersson\")].dropna()\n",
    "clanAndersson"
   ]
  },
  {
   "cell_type": "markdown",
   "metadata": {
    "id": "lKkfHxdCMwff"
   },
   "source": [
    "# **Visualizando sobreviventes do clã Andersson por bilhetes**"
   ]
  },
  {
   "cell_type": "code",
   "execution_count": 145,
   "metadata": {
    "colab": {
     "base_uri": "https://localhost:8080/",
     "height": 382
    },
    "id": "9R_sV0m-IhQc",
    "outputId": "bda29a46-5e1b-4f12-8677-ec6999b1bebb"
   },
   "outputs": [
    {
     "data": {
      "image/png": "[encoded data removed]",
      "text/plain": [
       "<Figure size 600x400 with 1 Axes>"
      ]
     },
     "metadata": {},
     "output_type": "display_data"
    }
   ],
   "source": [
    "plt.figure(dpi=100)\n",
    "sns.set_style(\"whitegrid\")\n",
    "sns.countplot(\"Bilhete\",data=clanAndersson,hue=\"Sobreviveu\", palette=\"magma\")\n",
    "plt.ylabel(\"Pessoas\")\n",
    "plt.show()"
   ]
  },
  {
   "cell_type": "markdown",
   "metadata": {
    "id": "E597RsRoHXi4"
   },
   "source": [
    "##### **Obs: Verificamos que haviam 7 pessoas da familia Andersson com o mesmo bilhete, e todos nao sobreviveram**\n",
    "##### **Obs 2: Tambem foi verificado que todos do clan Andersson entraram pelo portão S e sao da terceira classe**\n",
    "# **Clã Sage**"
   ]
  },
  {
   "cell_type": "code",
   "execution_count": 146,
   "metadata": {
    "colab": {
     "base_uri": "https://localhost:8080/",
     "height": 288
    },
    "id": "dKJuQQnDC-NU",
    "outputId": "2be23bb1-f52d-4b0d-9c38-abfef4b91523"
   },
   "outputs": [
    {
     "data": {
      "text/html": [
       "<div>\n",
       "<style scoped>\n",
       "    .dataframe tbody tr th:only-of-type {\n",
       "        vertical-align: middle;\n",
       "    }\n",
       "\n",
       "    .dataframe tbody tr th {\n",
       "        vertical-align: top;\n",
       "    }\n",
       "\n",
       "    .dataframe thead th {\n",
       "        text-align: right;\n",
       "    }\n",
       "</style>\n",
       "<table border=\"1\" class=\"dataframe\">\n",
       "  <thead>\n",
       "    <tr style=\"text-align: right;\">\n",
       "      <th></th>\n",
       "      <th>Sobreviveu</th>\n",
       "      <th>Classe</th>\n",
       "      <th>Titulo</th>\n",
       "      <th>Nome</th>\n",
       "      <th>Clan</th>\n",
       "      <th>Bilhete</th>\n",
       "      <th>Embarque</th>\n",
       "    </tr>\n",
       "    <tr>\n",
       "      <th>PassengerId</th>\n",
       "      <th></th>\n",
       "      <th></th>\n",
       "      <th></th>\n",
       "      <th></th>\n",
       "      <th></th>\n",
       "      <th></th>\n",
       "      <th></th>\n",
       "    </tr>\n",
       "  </thead>\n",
       "  <tbody>\n",
       "    <tr>\n",
       "      <th>160</th>\n",
       "      <td>0.0</td>\n",
       "      <td>3</td>\n",
       "      <td>Menino</td>\n",
       "      <td>Sage, Master. Thomas Henry</td>\n",
       "      <td>Sage</td>\n",
       "      <td>CA. 2343</td>\n",
       "      <td>S</td>\n",
       "    </tr>\n",
       "    <tr>\n",
       "      <th>181</th>\n",
       "      <td>0.0</td>\n",
       "      <td>3</td>\n",
       "      <td>Solteira</td>\n",
       "      <td>Sage, Miss. Constance Gladys</td>\n",
       "      <td>Sage</td>\n",
       "      <td>CA. 2343</td>\n",
       "      <td>S</td>\n",
       "    </tr>\n",
       "    <tr>\n",
       "      <th>202</th>\n",
       "      <td>0.0</td>\n",
       "      <td>3</td>\n",
       "      <td>HomemAdulto</td>\n",
       "      <td>Sage, Mr. Frederick</td>\n",
       "      <td>Sage</td>\n",
       "      <td>CA. 2343</td>\n",
       "      <td>S</td>\n",
       "    </tr>\n",
       "    <tr>\n",
       "      <th>325</th>\n",
       "      <td>0.0</td>\n",
       "      <td>3</td>\n",
       "      <td>HomemAdulto</td>\n",
       "      <td>Sage, Mr. George John Jr</td>\n",
       "      <td>Sage</td>\n",
       "      <td>CA. 2343</td>\n",
       "      <td>S</td>\n",
       "    </tr>\n",
       "    <tr>\n",
       "      <th>793</th>\n",
       "      <td>0.0</td>\n",
       "      <td>3</td>\n",
       "      <td>Solteira</td>\n",
       "      <td>Sage, Miss. Stella Anna</td>\n",
       "      <td>Sage</td>\n",
       "      <td>CA. 2343</td>\n",
       "      <td>S</td>\n",
       "    </tr>\n",
       "    <tr>\n",
       "      <th>847</th>\n",
       "      <td>0.0</td>\n",
       "      <td>3</td>\n",
       "      <td>HomemAdulto</td>\n",
       "      <td>Sage, Mr. Douglas Bullen</td>\n",
       "      <td>Sage</td>\n",
       "      <td>CA. 2343</td>\n",
       "      <td>S</td>\n",
       "    </tr>\n",
       "    <tr>\n",
       "      <th>864</th>\n",
       "      <td>0.0</td>\n",
       "      <td>3</td>\n",
       "      <td>Solteira</td>\n",
       "      <td>Sage, Miss. Dorothy Edith \"Dolly\"</td>\n",
       "      <td>Sage</td>\n",
       "      <td>CA. 2343</td>\n",
       "      <td>S</td>\n",
       "    </tr>\n",
       "  </tbody>\n",
       "</table>\n",
       "</div>"
      ],
      "text/plain": [
       "             Sobreviveu  Classe       Titulo  \\\n",
       "PassengerId                                    \n",
       "160                 0.0       3       Menino   \n",
       "181                 0.0       3     Solteira   \n",
       "202                 0.0       3  HomemAdulto   \n",
       "325                 0.0       3  HomemAdulto   \n",
       "793                 0.0       3     Solteira   \n",
       "847                 0.0       3  HomemAdulto   \n",
       "864                 0.0       3     Solteira   \n",
       "\n",
       "                                          Nome  Clan   Bilhete Embarque  \n",
       "PassengerId                                                              \n",
       "160                 Sage, Master. Thomas Henry  Sage  CA. 2343        S  \n",
       "181               Sage, Miss. Constance Gladys  Sage  CA. 2343        S  \n",
       "202                        Sage, Mr. Frederick  Sage  CA. 2343        S  \n",
       "325                   Sage, Mr. George John Jr  Sage  CA. 2343        S  \n",
       "793                    Sage, Miss. Stella Anna  Sage  CA. 2343        S  \n",
       "847                   Sage, Mr. Douglas Bullen  Sage  CA. 2343        S  \n",
       "864          Sage, Miss. Dorothy Edith \"Dolly\"  Sage  CA. 2343        S  "
      ]
     },
     "execution_count": 146,
     "metadata": {},
     "output_type": "execute_result"
    }
   ],
   "source": [
    "clanSage = df[[\"Sobreviveu\",\"Classe\",\"Titulo\",\"Nome\",\"Clan\",\"Bilhete\",\"Embarque\"]].loc[(df['Clan'] == \"Sage\")].dropna()\n",
    "clanSage"
   ]
  },
  {
   "cell_type": "markdown",
   "metadata": {
    "id": "PljwUtEvOGyR"
   },
   "source": [
    "##### **Obs: Verificamos que todos da familia Sage possuiam o mesmo bilhete, e todos nao sobreviveram**\n",
    "##### **Obs 2: Tambem foi verificado que todos do clan Sage entraram pelo portão S e sao da terceira classe**"
   ]
  },
  {
   "cell_type": "markdown",
   "metadata": {
    "id": "eHfWIXTK1rd_"
   },
   "source": [
    "  ***\n",
    "  # **Iniciando primeiro modelo preditivo para preenchimento das idades faltantes**\n",
    "  ### Verificando dados categóricos para converter pra dummy values, e eliminando colunas desnecessarias para o modelo"
   ]
  },
  {
   "cell_type": "code",
   "execution_count": 147,
   "metadata": {
    "colab": {
     "base_uri": "https://localhost:8080/",
     "height": 190
    },
    "id": "akUf5dt81sHY",
    "outputId": "c285d65b-44bb-48b1-953f-e4874afb1e7e"
   },
   "outputs": [
    {
     "data": {
      "text/html": [
       "<div>\n",
       "<style scoped>\n",
       "    .dataframe tbody tr th:only-of-type {\n",
       "        vertical-align: middle;\n",
       "    }\n",
       "\n",
       "    .dataframe tbody tr th {\n",
       "        vertical-align: top;\n",
       "    }\n",
       "\n",
       "    .dataframe thead th {\n",
       "        text-align: right;\n",
       "    }\n",
       "</style>\n",
       "<table border=\"1\" class=\"dataframe\">\n",
       "  <thead>\n",
       "    <tr style=\"text-align: right;\">\n",
       "      <th></th>\n",
       "      <th>Idade</th>\n",
       "      <th>Embarque</th>\n",
       "      <th>Tarifa</th>\n",
       "      <th>Nome</th>\n",
       "      <th>Pais e Filhos</th>\n",
       "      <th>Classe</th>\n",
       "      <th>Sexo</th>\n",
       "      <th>Irmaos Conjuge</th>\n",
       "      <th>Sobreviveu</th>\n",
       "      <th>Bilhete</th>\n",
       "      <th>Titulo</th>\n",
       "      <th>Clan</th>\n",
       "    </tr>\n",
       "    <tr>\n",
       "      <th>PassengerId</th>\n",
       "      <th></th>\n",
       "      <th></th>\n",
       "      <th></th>\n",
       "      <th></th>\n",
       "      <th></th>\n",
       "      <th></th>\n",
       "      <th></th>\n",
       "      <th></th>\n",
       "      <th></th>\n",
       "      <th></th>\n",
       "      <th></th>\n",
       "      <th></th>\n",
       "    </tr>\n",
       "  </thead>\n",
       "  <tbody>\n",
       "    <tr>\n",
       "      <th>1</th>\n",
       "      <td>22.0</td>\n",
       "      <td>S</td>\n",
       "      <td>7.2500</td>\n",
       "      <td>Braund, Mr. Owen Harris</td>\n",
       "      <td>0</td>\n",
       "      <td>3</td>\n",
       "      <td>homem</td>\n",
       "      <td>1</td>\n",
       "      <td>0.0</td>\n",
       "      <td>A/5 21171</td>\n",
       "      <td>HomemAdulto</td>\n",
       "      <td>Braund</td>\n",
       "    </tr>\n",
       "    <tr>\n",
       "      <th>2</th>\n",
       "      <td>38.0</td>\n",
       "      <td>C</td>\n",
       "      <td>71.2833</td>\n",
       "      <td>Cumings, Mrs. John Bradley (Florence Briggs Th...</td>\n",
       "      <td>0</td>\n",
       "      <td>1</td>\n",
       "      <td>mulher</td>\n",
       "      <td>1</td>\n",
       "      <td>1.0</td>\n",
       "      <td>PC 17599</td>\n",
       "      <td>Casada</td>\n",
       "      <td>Cumings</td>\n",
       "    </tr>\n",
       "  </tbody>\n",
       "</table>\n",
       "</div>"
      ],
      "text/plain": [
       "             Idade Embarque   Tarifa  \\\n",
       "PassengerId                            \n",
       "1             22.0        S   7.2500   \n",
       "2             38.0        C  71.2833   \n",
       "\n",
       "                                                          Nome  Pais e Filhos  \\\n",
       "PassengerId                                                                     \n",
       "1                                      Braund, Mr. Owen Harris              0   \n",
       "2            Cumings, Mrs. John Bradley (Florence Briggs Th...              0   \n",
       "\n",
       "             Classe    Sexo  Irmaos Conjuge  Sobreviveu    Bilhete  \\\n",
       "PassengerId                                                          \n",
       "1                 3   homem               1         0.0  A/5 21171   \n",
       "2                 1  mulher               1         1.0   PC 17599   \n",
       "\n",
       "                  Titulo     Clan  \n",
       "PassengerId                        \n",
       "1            HomemAdulto   Braund  \n",
       "2                 Casada  Cumings  "
      ]
     },
     "execution_count": 147,
     "metadata": {},
     "output_type": "execute_result"
    }
   ],
   "source": [
    "df.head(2)"
   ]
  },
  {
   "cell_type": "markdown",
   "metadata": {
    "id": "qTWB48G44z7C"
   },
   "source": [
    "***\n",
    "## **Convertendo para Dummy**\n",
    "\n"
   ]
  },
  {
   "cell_type": "code",
   "execution_count": 148,
   "metadata": {
    "id": "jLpGLqmq5Bz4"
   },
   "outputs": [],
   "source": [
    "dfDummy = pd.get_dummies(df, columns=[\"Embarque\",\"Classe\",\"Titulo\"], drop_first=True)\n",
    "dfDummy[\"Sexo\"].replace(\"homem mulher\".split(),[0,1], inplace=True)"
   ]
  },
  {
   "cell_type": "code",
   "execution_count": 149,
   "metadata": {
    "colab": {
     "base_uri": "https://localhost:8080/",
     "height": 185
    },
    "id": "GxAm4SS9BCO4",
    "outputId": "4a55cac1-6677-4b85-c92d-36deeb6c678c"
   },
   "outputs": [
    {
     "data": {
      "text/html": [
       "<div>\n",
       "<style scoped>\n",
       "    .dataframe tbody tr th:only-of-type {\n",
       "        vertical-align: middle;\n",
       "    }\n",
       "\n",
       "    .dataframe tbody tr th {\n",
       "        vertical-align: top;\n",
       "    }\n",
       "\n",
       "    .dataframe thead th {\n",
       "        text-align: right;\n",
       "    }\n",
       "</style>\n",
       "<table border=\"1\" class=\"dataframe\">\n",
       "  <thead>\n",
       "    <tr style=\"text-align: right;\">\n",
       "      <th></th>\n",
       "      <th>Idade</th>\n",
       "      <th>Tarifa</th>\n",
       "      <th>Pais e Filhos</th>\n",
       "      <th>Sexo</th>\n",
       "      <th>Irmaos Conjuge</th>\n",
       "      <th>Embarque_Q</th>\n",
       "      <th>Embarque_S</th>\n",
       "      <th>Classe_2</th>\n",
       "      <th>Classe_3</th>\n",
       "      <th>Titulo_HomemAdulto</th>\n",
       "      <th>Titulo_Menino</th>\n",
       "      <th>Titulo_Outros</th>\n",
       "      <th>Titulo_Solteira</th>\n",
       "    </tr>\n",
       "    <tr>\n",
       "      <th>PassengerId</th>\n",
       "      <th></th>\n",
       "      <th></th>\n",
       "      <th></th>\n",
       "      <th></th>\n",
       "      <th></th>\n",
       "      <th></th>\n",
       "      <th></th>\n",
       "      <th></th>\n",
       "      <th></th>\n",
       "      <th></th>\n",
       "      <th></th>\n",
       "      <th></th>\n",
       "      <th></th>\n",
       "    </tr>\n",
       "  </thead>\n",
       "  <tbody>\n",
       "    <tr>\n",
       "      <th>1</th>\n",
       "      <td>22.0</td>\n",
       "      <td>7.2500</td>\n",
       "      <td>0</td>\n",
       "      <td>0</td>\n",
       "      <td>1</td>\n",
       "      <td>0</td>\n",
       "      <td>1</td>\n",
       "      <td>0</td>\n",
       "      <td>1</td>\n",
       "      <td>1</td>\n",
       "      <td>0</td>\n",
       "      <td>0</td>\n",
       "      <td>0</td>\n",
       "    </tr>\n",
       "    <tr>\n",
       "      <th>2</th>\n",
       "      <td>38.0</td>\n",
       "      <td>71.2833</td>\n",
       "      <td>0</td>\n",
       "      <td>1</td>\n",
       "      <td>1</td>\n",
       "      <td>0</td>\n",
       "      <td>0</td>\n",
       "      <td>0</td>\n",
       "      <td>0</td>\n",
       "      <td>0</td>\n",
       "      <td>0</td>\n",
       "      <td>0</td>\n",
       "      <td>0</td>\n",
       "    </tr>\n",
       "    <tr>\n",
       "      <th>3</th>\n",
       "      <td>26.0</td>\n",
       "      <td>7.9250</td>\n",
       "      <td>0</td>\n",
       "      <td>1</td>\n",
       "      <td>0</td>\n",
       "      <td>0</td>\n",
       "      <td>1</td>\n",
       "      <td>0</td>\n",
       "      <td>1</td>\n",
       "      <td>0</td>\n",
       "      <td>0</td>\n",
       "      <td>0</td>\n",
       "      <td>1</td>\n",
       "    </tr>\n",
       "  </tbody>\n",
       "</table>\n",
       "</div>"
      ],
      "text/plain": [
       "             Idade   Tarifa  Pais e Filhos  Sexo  Irmaos Conjuge  Embarque_Q  \\\n",
       "PassengerId                                                                    \n",
       "1             22.0   7.2500              0     0               1           0   \n",
       "2             38.0  71.2833              0     1               1           0   \n",
       "3             26.0   7.9250              0     1               0           0   \n",
       "\n",
       "             Embarque_S  Classe_2  Classe_3  Titulo_HomemAdulto  \\\n",
       "PassengerId                                                       \n",
       "1                     1         0         1                   1   \n",
       "2                     0         0         0                   0   \n",
       "3                     1         0         1                   0   \n",
       "\n",
       "             Titulo_Menino  Titulo_Outros  Titulo_Solteira  \n",
       "PassengerId                                                 \n",
       "1                        0              0                0  \n",
       "2                        0              0                0  \n",
       "3                        0              0                1  "
      ]
     },
     "execution_count": 149,
     "metadata": {},
     "output_type": "execute_result"
    }
   ],
   "source": [
    "dfDummy.drop([\"Nome\",\"Bilhete\",\"Clan\",\"Sobreviveu\",],axis=1,inplace=True)\n",
    "dfDummy.head(3)\n"
   ]
  },
  {
   "cell_type": "markdown",
   "metadata": {
    "id": "ldXAr13vDEJS"
   },
   "source": [
    "# **Separando train e test para idade**\n",
    "#### *Treinar com dados nao nulos\n",
    "#### *Aplicar modelo em dados nulos\n"
   ]
  },
  {
   "cell_type": "code",
   "execution_count": 150,
   "metadata": {
    "colab": {
     "base_uri": "https://localhost:8080/",
     "height": 272
    },
    "id": "XGWIhfEIDEe1",
    "outputId": "aab96a99-2a1e-4101-89c9-b7f42d2db69b"
   },
   "outputs": [
    {
     "data": {
      "text/plain": [
       "Idade                 263\n",
       "Tarifa                  0\n",
       "Pais e Filhos           0\n",
       "Sexo                    0\n",
       "Irmaos Conjuge          0\n",
       "Embarque_Q              0\n",
       "Embarque_S              0\n",
       "Classe_2                0\n",
       "Classe_3                0\n",
       "Titulo_HomemAdulto      0\n",
       "Titulo_Menino           0\n",
       "Titulo_Outros           0\n",
       "Titulo_Solteira         0\n",
       "dtype: int64"
      ]
     },
     "execution_count": 150,
     "metadata": {},
     "output_type": "execute_result"
    }
   ],
   "source": [
    "dfDummy.isnull().sum()"
   ]
  },
  {
   "cell_type": "code",
   "execution_count": 151,
   "metadata": {
    "id": "v9bn42hiGtLg"
   },
   "outputs": [],
   "source": [
    "train_idade = dfDummy.dropna()\n",
    "test_idade = dfDummy[dfDummy['Idade'].isnull()].drop(\"Idade\",axis=1)"
   ]
  },
  {
   "cell_type": "markdown",
   "metadata": {
    "id": "KKgNzOxMINop"
   },
   "source": [
    "# **Definindo X e y para treinar modelo**"
   ]
  },
  {
   "cell_type": "code",
   "execution_count": 152,
   "metadata": {
    "id": "SkkbnNXuIp2i"
   },
   "outputs": [],
   "source": [
    "X = train_idade.drop(\"Idade\",axis=1)\n",
    "y = train_idade[\"Idade\"]"
   ]
  },
  {
   "cell_type": "code",
   "execution_count": 153,
   "metadata": {
    "colab": {
     "base_uri": "https://localhost:8080/",
     "height": 35
    },
    "id": "iN6MIkDuJ7Wb",
    "outputId": "95a0631e-dcdd-41a3-de64-49a1b9a2f1ee"
   },
   "outputs": [
    {
     "data": {
      "text/plain": [
       "((1046, 12), (1046,))"
      ]
     },
     "execution_count": 153,
     "metadata": {},
     "output_type": "execute_result"
    }
   ],
   "source": [
    "X.shape, y.shape"
   ]
  },
  {
   "cell_type": "markdown",
   "metadata": {
    "id": "rAJR-UHfMD5r"
   },
   "source": [
    "## **Importar e instanciar modelo regressivo**"
   ]
  },
  {
   "cell_type": "code",
   "execution_count": 154,
   "metadata": {
    "id": "ukqFSYAfMBfu"
   },
   "outputs": [],
   "source": [
    "from sklearn import linear_model\n",
    "lm = linear_model.LinearRegression()"
   ]
  },
  {
   "cell_type": "markdown",
   "metadata": {
    "id": "Qwhgh76vMklW"
   },
   "source": [
    "## **Efetuando treino**\n",
    "#### Distribuindo 70% para treino e 30% para test"
   ]
  },
  {
   "cell_type": "code",
   "execution_count": 155,
   "metadata": {
    "id": "-z05NottMwaA"
   },
   "outputs": [],
   "source": [
    "from sklearn.model_selection import train_test_split\n",
    "Xtrain, Xtest, ytrain, ytest = train_test_split(X, y, test_size=0.30, random_state=123)"
   ]
  },
  {
   "cell_type": "code",
   "execution_count": 156,
   "metadata": {
    "colab": {
     "base_uri": "https://localhost:8080/",
     "height": 35
    },
    "id": "K57nvO15A97V",
    "outputId": "1b8a9d0a-25aa-4608-acf4-8b71121de3ae"
   },
   "outputs": [
    {
     "data": {
      "text/plain": [
       "LinearRegression()"
      ]
     },
     "execution_count": 156,
     "metadata": {},
     "output_type": "execute_result"
    }
   ],
   "source": [
    "lm.fit(Xtrain, ytrain)"
   ]
  },
  {
   "cell_type": "markdown",
   "metadata": {
    "id": "0A_LMTSbPA_F"
   },
   "source": [
    "# **Predição**"
   ]
  },
  {
   "cell_type": "code",
   "execution_count": 157,
   "metadata": {
    "id": "B8qhfGHtPIps"
   },
   "outputs": [],
   "source": [
    "pred = lm.predict(Xtest)"
   ]
  },
  {
   "cell_type": "markdown",
   "metadata": {
    "id": "PaF86dI0Pypv"
   },
   "source": [
    "# **Averiguando Score**"
   ]
  },
  {
   "cell_type": "code",
   "execution_count": 158,
   "metadata": {
    "colab": {
     "base_uri": "https://localhost:8080/",
     "height": 35
    },
    "id": "8dR-6Tw6PdMO",
    "outputId": "4c26d4c0-1ba6-4273-d83d-bb466b2e789c"
   },
   "outputs": [
    {
     "data": {
      "text/plain": [
       "0.4223411308159649"
      ]
     },
     "execution_count": 158,
     "metadata": {},
     "output_type": "execute_result"
    }
   ],
   "source": [
    "lm.score(Xtest, ytest)"
   ]
  },
  {
   "cell_type": "markdown",
   "metadata": {
    "id": "wfjT5MDWQTUT"
   },
   "source": [
    "# **Averiguando a margem de desvio padrão**"
   ]
  },
  {
   "cell_type": "code",
   "execution_count": 159,
   "metadata": {
    "colab": {
     "base_uri": "https://localhost:8080/",
     "height": 35
    },
    "id": "WtL41o-hQSCZ",
    "outputId": "6b9c25a1-d181-4f77-d1d5-9e21d6e9c013"
   },
   "outputs": [
    {
     "data": {
      "text/plain": [
       "10.929054593804523"
      ]
     },
     "execution_count": 159,
     "metadata": {},
     "output_type": "execute_result"
    }
   ],
   "source": [
    "from sklearn.metrics import mean_squared_error\n",
    "mse = mean_squared_error(ytest, pred)\n",
    "rmse = np.sqrt(mse)\n",
    "rmse"
   ]
  },
  {
   "cell_type": "markdown",
   "metadata": {
    "id": "k6n5iDwPQ4C8"
   },
   "source": [
    "#### Obs: a margem de erro da idade é de 11 pra cima ou para baixo"
   ]
  },
  {
   "cell_type": "markdown",
   "metadata": {
    "id": "LBS5WXUnRUqL"
   },
   "source": [
    "# **Visualizando Residuos**"
   ]
  },
  {
   "cell_type": "code",
   "execution_count": 160,
   "metadata": {
    "colab": {
     "base_uri": "https://localhost:8080/",
     "height": 362
    },
    "id": "rK3eMxkqRaXr",
    "outputId": "f0990c21-331d-4b01-9504-2a43ccc5be1f"
   },
   "outputs": [
    {
     "data": {
      "image/png": "[encoded data removed]",
      "text/plain": [
       "<Figure size 600x400 with 1 Axes>"
      ]
     },
     "metadata": {},
     "output_type": "display_data"
    }
   ],
   "source": [
    "plt.figure(dpi=100)\n",
    "plt.xlabel(\"Dados do teste\")\n",
    "plt.ylabel(\"Dados da predição\")\n",
    "plt.scatter(ytest, pred)\n",
    "plt.show()"
   ]
  },
  {
   "cell_type": "markdown",
   "metadata": {},
   "source": [
    "#### OBS: observamos que o modelo nao teve uma acuráciaa muito precisa, mas será o suficiente para preencher o restante da idade para aprimorar a predição de sobreviventes"
   ]
  },
  {
   "cell_type": "markdown",
   "metadata": {
    "id": "PiFiAgrHgi_X"
   },
   "source": [
    "# **Aplicando Modelo nos dados nulos**"
   ]
  },
  {
   "cell_type": "code",
   "execution_count": 161,
   "metadata": {
    "id": "JJJlapSdgjJd"
   },
   "outputs": [],
   "source": [
    "pred_idade = lm.predict(test_idade)\n",
    "test_idade[\"Idade\"] = pred_idade"
   ]
  },
  {
   "cell_type": "markdown",
   "metadata": {
    "id": "pGB5BgbviDTV"
   },
   "source": [
    "## **Verificando se há dados nulos depois da aplicação do modelo**"
   ]
  },
  {
   "cell_type": "code",
   "execution_count": 162,
   "metadata": {
    "colab": {
     "base_uri": "https://localhost:8080/",
     "height": 272
    },
    "id": "AFQkHYTeg7Db",
    "outputId": "a1c30122-5a39-441a-a018-8a622362213b"
   },
   "outputs": [
    {
     "data": {
      "text/plain": [
       "Tarifa                0\n",
       "Pais e Filhos         0\n",
       "Sexo                  0\n",
       "Irmaos Conjuge        0\n",
       "Embarque_Q            0\n",
       "Embarque_S            0\n",
       "Classe_2              0\n",
       "Classe_3              0\n",
       "Titulo_HomemAdulto    0\n",
       "Titulo_Menino         0\n",
       "Titulo_Outros         0\n",
       "Titulo_Solteira       0\n",
       "Idade                 0\n",
       "dtype: int64"
      ]
     },
     "execution_count": 162,
     "metadata": {},
     "output_type": "execute_result"
    }
   ],
   "source": [
    "test_idade.isnull().sum()"
   ]
  },
  {
   "cell_type": "markdown",
   "metadata": {
    "id": "Sv1uMxx2iNlE"
   },
   "source": [
    "***\n",
    "# **Concatenando os dataframes novamente ja com as idades faltantes preenchidas pelo modelo**"
   ]
  },
  {
   "cell_type": "code",
   "execution_count": 163,
   "metadata": {
    "id": "mh5uQa1iiNx2"
   },
   "outputs": [
    {
     "data": {
      "text/html": [
       "<div>\n",
       "<style scoped>\n",
       "    .dataframe tbody tr th:only-of-type {\n",
       "        vertical-align: middle;\n",
       "    }\n",
       "\n",
       "    .dataframe tbody tr th {\n",
       "        vertical-align: top;\n",
       "    }\n",
       "\n",
       "    .dataframe thead th {\n",
       "        text-align: right;\n",
       "    }\n",
       "</style>\n",
       "<table border=\"1\" class=\"dataframe\">\n",
       "  <thead>\n",
       "    <tr style=\"text-align: right;\">\n",
       "      <th></th>\n",
       "      <th>Tarifa</th>\n",
       "      <th>Pais e Filhos</th>\n",
       "      <th>Sexo</th>\n",
       "      <th>Irmaos Conjuge</th>\n",
       "      <th>Embarque_Q</th>\n",
       "      <th>Embarque_S</th>\n",
       "      <th>Classe_2</th>\n",
       "      <th>Classe_3</th>\n",
       "      <th>Titulo_HomemAdulto</th>\n",
       "      <th>Titulo_Menino</th>\n",
       "      <th>Titulo_Outros</th>\n",
       "      <th>Titulo_Solteira</th>\n",
       "      <th>Idade</th>\n",
       "    </tr>\n",
       "    <tr>\n",
       "      <th>PassengerId</th>\n",
       "      <th></th>\n",
       "      <th></th>\n",
       "      <th></th>\n",
       "      <th></th>\n",
       "      <th></th>\n",
       "      <th></th>\n",
       "      <th></th>\n",
       "      <th></th>\n",
       "      <th></th>\n",
       "      <th></th>\n",
       "      <th></th>\n",
       "      <th></th>\n",
       "      <th></th>\n",
       "    </tr>\n",
       "  </thead>\n",
       "  <tbody>\n",
       "    <tr>\n",
       "      <th>6</th>\n",
       "      <td>8.4583</td>\n",
       "      <td>0</td>\n",
       "      <td>0</td>\n",
       "      <td>0</td>\n",
       "      <td>1</td>\n",
       "      <td>0</td>\n",
       "      <td>0</td>\n",
       "      <td>1</td>\n",
       "      <td>1</td>\n",
       "      <td>0</td>\n",
       "      <td>0</td>\n",
       "      <td>0</td>\n",
       "      <td>34.499919</td>\n",
       "    </tr>\n",
       "    <tr>\n",
       "      <th>18</th>\n",
       "      <td>13.0000</td>\n",
       "      <td>0</td>\n",
       "      <td>0</td>\n",
       "      <td>0</td>\n",
       "      <td>0</td>\n",
       "      <td>1</td>\n",
       "      <td>1</td>\n",
       "      <td>0</td>\n",
       "      <td>1</td>\n",
       "      <td>0</td>\n",
       "      <td>0</td>\n",
       "      <td>0</td>\n",
       "      <td>32.864665</td>\n",
       "    </tr>\n",
       "    <tr>\n",
       "      <th>20</th>\n",
       "      <td>7.2250</td>\n",
       "      <td>0</td>\n",
       "      <td>1</td>\n",
       "      <td>0</td>\n",
       "      <td>0</td>\n",
       "      <td>0</td>\n",
       "      <td>0</td>\n",
       "      <td>1</td>\n",
       "      <td>0</td>\n",
       "      <td>0</td>\n",
       "      <td>0</td>\n",
       "      <td>0</td>\n",
       "      <td>28.991280</td>\n",
       "    </tr>\n",
       "    <tr>\n",
       "      <th>27</th>\n",
       "      <td>7.2250</td>\n",
       "      <td>0</td>\n",
       "      <td>0</td>\n",
       "      <td>0</td>\n",
       "      <td>0</td>\n",
       "      <td>0</td>\n",
       "      <td>0</td>\n",
       "      <td>1</td>\n",
       "      <td>1</td>\n",
       "      <td>0</td>\n",
       "      <td>0</td>\n",
       "      <td>0</td>\n",
       "      <td>26.437712</td>\n",
       "    </tr>\n",
       "    <tr>\n",
       "      <th>29</th>\n",
       "      <td>7.8792</td>\n",
       "      <td>0</td>\n",
       "      <td>1</td>\n",
       "      <td>0</td>\n",
       "      <td>1</td>\n",
       "      <td>0</td>\n",
       "      <td>0</td>\n",
       "      <td>1</td>\n",
       "      <td>0</td>\n",
       "      <td>0</td>\n",
       "      <td>0</td>\n",
       "      <td>1</td>\n",
       "      <td>23.164838</td>\n",
       "    </tr>\n",
       "  </tbody>\n",
       "</table>\n",
       "</div>"
      ],
      "text/plain": [
       "              Tarifa  Pais e Filhos  Sexo  Irmaos Conjuge  Embarque_Q  \\\n",
       "PassengerId                                                             \n",
       "6             8.4583              0     0               0           1   \n",
       "18           13.0000              0     0               0           0   \n",
       "20            7.2250              0     1               0           0   \n",
       "27            7.2250              0     0               0           0   \n",
       "29            7.8792              0     1               0           1   \n",
       "\n",
       "             Embarque_S  Classe_2  Classe_3  Titulo_HomemAdulto  \\\n",
       "PassengerId                                                       \n",
       "6                     0         0         1                   1   \n",
       "18                    1         1         0                   1   \n",
       "20                    0         0         1                   0   \n",
       "27                    0         0         1                   1   \n",
       "29                    0         0         1                   0   \n",
       "\n",
       "             Titulo_Menino  Titulo_Outros  Titulo_Solteira      Idade  \n",
       "PassengerId                                                            \n",
       "6                        0              0                0  34.499919  \n",
       "18                       0              0                0  32.864665  \n",
       "20                       0              0                0  28.991280  \n",
       "27                       0              0                0  26.437712  \n",
       "29                       0              0                1  23.164838  "
      ]
     },
     "execution_count": 163,
     "metadata": {},
     "output_type": "execute_result"
    }
   ],
   "source": [
    "dfMinerado = pd.concat([test_idade,train_idade], sort=False)\n",
    "dfMinerado.head()"
   ]
  },
  {
   "cell_type": "markdown",
   "metadata": {
    "id": "6u1L8ez1lT9D"
   },
   "source": [
    "***\n",
    "# **Finalizado primeiro modelo que preveu a idade faltante, iniciando o segundo modelo para predizer os campos faltantes da coluna Sobreviveu**\n",
    "\n",
    "### Criando uma faixa etária baseado na idade como forma de deixar a idade categórica para conversão em dummy, com o intuito de potencializar o modelo preditivo com mais dados\n",
    "\n",
    ".\n"
   ]
  },
  {
   "cell_type": "code",
   "execution_count": 164,
   "metadata": {
    "id": "Q0medUX60NH9"
   },
   "outputs": [],
   "source": [
    "dfMinerado[\"Idade\"] = dfMinerado[\"Idade\"].astype(int)\n",
    "dfMinerado[\"Faixa Etaria\"] = pd.cut(dfMinerado[\"Idade\"],bins=5)"
   ]
  },
  {
   "cell_type": "code",
   "execution_count": 165,
   "metadata": {
    "colab": {
     "base_uri": "https://localhost:8080/",
     "height": 283
    },
    "id": "qjwnjQR70OLa",
    "outputId": "556397d3-bd7d-45b7-f246-f8828a883e38"
   },
   "outputs": [
    {
     "data": {
      "text/html": [
       "<div>\n",
       "<style scoped>\n",
       "    .dataframe tbody tr th:only-of-type {\n",
       "        vertical-align: middle;\n",
       "    }\n",
       "\n",
       "    .dataframe tbody tr th {\n",
       "        vertical-align: top;\n",
       "    }\n",
       "\n",
       "    .dataframe thead th {\n",
       "        text-align: right;\n",
       "    }\n",
       "</style>\n",
       "<table border=\"1\" class=\"dataframe\">\n",
       "  <thead>\n",
       "    <tr style=\"text-align: right;\">\n",
       "      <th></th>\n",
       "      <th>Tarifa</th>\n",
       "      <th>Pais e Filhos</th>\n",
       "      <th>Sexo</th>\n",
       "      <th>Irmaos Conjuge</th>\n",
       "      <th>Embarque_Q</th>\n",
       "      <th>Embarque_S</th>\n",
       "      <th>Classe_2</th>\n",
       "      <th>Classe_3</th>\n",
       "      <th>Titulo_HomemAdulto</th>\n",
       "      <th>Titulo_Menino</th>\n",
       "      <th>Titulo_Outros</th>\n",
       "      <th>Titulo_Solteira</th>\n",
       "      <th>Idade</th>\n",
       "      <th>Faixa Etaria_(10.4, 27.8]</th>\n",
       "      <th>Faixa Etaria_(27.8, 45.2]</th>\n",
       "      <th>Faixa Etaria_(45.2, 62.6]</th>\n",
       "      <th>Faixa Etaria_(62.6, 80.0]</th>\n",
       "    </tr>\n",
       "    <tr>\n",
       "      <th>PassengerId</th>\n",
       "      <th></th>\n",
       "      <th></th>\n",
       "      <th></th>\n",
       "      <th></th>\n",
       "      <th></th>\n",
       "      <th></th>\n",
       "      <th></th>\n",
       "      <th></th>\n",
       "      <th></th>\n",
       "      <th></th>\n",
       "      <th></th>\n",
       "      <th></th>\n",
       "      <th></th>\n",
       "      <th></th>\n",
       "      <th></th>\n",
       "      <th></th>\n",
       "      <th></th>\n",
       "    </tr>\n",
       "  </thead>\n",
       "  <tbody>\n",
       "    <tr>\n",
       "      <th>6</th>\n",
       "      <td>8.4583</td>\n",
       "      <td>0</td>\n",
       "      <td>0</td>\n",
       "      <td>0</td>\n",
       "      <td>1</td>\n",
       "      <td>0</td>\n",
       "      <td>0</td>\n",
       "      <td>1</td>\n",
       "      <td>1</td>\n",
       "      <td>0</td>\n",
       "      <td>0</td>\n",
       "      <td>0</td>\n",
       "      <td>34</td>\n",
       "      <td>0</td>\n",
       "      <td>1</td>\n",
       "      <td>0</td>\n",
       "      <td>0</td>\n",
       "    </tr>\n",
       "    <tr>\n",
       "      <th>18</th>\n",
       "      <td>13.0000</td>\n",
       "      <td>0</td>\n",
       "      <td>0</td>\n",
       "      <td>0</td>\n",
       "      <td>0</td>\n",
       "      <td>1</td>\n",
       "      <td>1</td>\n",
       "      <td>0</td>\n",
       "      <td>1</td>\n",
       "      <td>0</td>\n",
       "      <td>0</td>\n",
       "      <td>0</td>\n",
       "      <td>32</td>\n",
       "      <td>0</td>\n",
       "      <td>1</td>\n",
       "      <td>0</td>\n",
       "      <td>0</td>\n",
       "    </tr>\n",
       "    <tr>\n",
       "      <th>20</th>\n",
       "      <td>7.2250</td>\n",
       "      <td>0</td>\n",
       "      <td>1</td>\n",
       "      <td>0</td>\n",
       "      <td>0</td>\n",
       "      <td>0</td>\n",
       "      <td>0</td>\n",
       "      <td>1</td>\n",
       "      <td>0</td>\n",
       "      <td>0</td>\n",
       "      <td>0</td>\n",
       "      <td>0</td>\n",
       "      <td>28</td>\n",
       "      <td>0</td>\n",
       "      <td>1</td>\n",
       "      <td>0</td>\n",
       "      <td>0</td>\n",
       "    </tr>\n",
       "    <tr>\n",
       "      <th>27</th>\n",
       "      <td>7.2250</td>\n",
       "      <td>0</td>\n",
       "      <td>0</td>\n",
       "      <td>0</td>\n",
       "      <td>0</td>\n",
       "      <td>0</td>\n",
       "      <td>0</td>\n",
       "      <td>1</td>\n",
       "      <td>1</td>\n",
       "      <td>0</td>\n",
       "      <td>0</td>\n",
       "      <td>0</td>\n",
       "      <td>26</td>\n",
       "      <td>1</td>\n",
       "      <td>0</td>\n",
       "      <td>0</td>\n",
       "      <td>0</td>\n",
       "    </tr>\n",
       "    <tr>\n",
       "      <th>29</th>\n",
       "      <td>7.8792</td>\n",
       "      <td>0</td>\n",
       "      <td>1</td>\n",
       "      <td>0</td>\n",
       "      <td>1</td>\n",
       "      <td>0</td>\n",
       "      <td>0</td>\n",
       "      <td>1</td>\n",
       "      <td>0</td>\n",
       "      <td>0</td>\n",
       "      <td>0</td>\n",
       "      <td>1</td>\n",
       "      <td>23</td>\n",
       "      <td>1</td>\n",
       "      <td>0</td>\n",
       "      <td>0</td>\n",
       "      <td>0</td>\n",
       "    </tr>\n",
       "  </tbody>\n",
       "</table>\n",
       "</div>"
      ],
      "text/plain": [
       "              Tarifa  Pais e Filhos  Sexo  Irmaos Conjuge  Embarque_Q  \\\n",
       "PassengerId                                                             \n",
       "6             8.4583              0     0               0           1   \n",
       "18           13.0000              0     0               0           0   \n",
       "20            7.2250              0     1               0           0   \n",
       "27            7.2250              0     0               0           0   \n",
       "29            7.8792              0     1               0           1   \n",
       "\n",
       "             Embarque_S  Classe_2  Classe_3  Titulo_HomemAdulto  \\\n",
       "PassengerId                                                       \n",
       "6                     0         0         1                   1   \n",
       "18                    1         1         0                   1   \n",
       "20                    0         0         1                   0   \n",
       "27                    0         0         1                   1   \n",
       "29                    0         0         1                   0   \n",
       "\n",
       "             Titulo_Menino  Titulo_Outros  Titulo_Solteira  Idade  \\\n",
       "PassengerId                                                         \n",
       "6                        0              0                0     34   \n",
       "18                       0              0                0     32   \n",
       "20                       0              0                0     28   \n",
       "27                       0              0                0     26   \n",
       "29                       0              0                1     23   \n",
       "\n",
       "             Faixa Etaria_(10.4, 27.8]  Faixa Etaria_(27.8, 45.2]  \\\n",
       "PassengerId                                                         \n",
       "6                                    0                          1   \n",
       "18                                   0                          1   \n",
       "20                                   0                          1   \n",
       "27                                   1                          0   \n",
       "29                                   1                          0   \n",
       "\n",
       "             Faixa Etaria_(45.2, 62.6]  Faixa Etaria_(62.6, 80.0]  \n",
       "PassengerId                                                        \n",
       "6                                    0                          0  \n",
       "18                                   0                          0  \n",
       "20                                   0                          0  \n",
       "27                                   0                          0  \n",
       "29                                   0                          0  "
      ]
     },
     "execution_count": 165,
     "metadata": {},
     "output_type": "execute_result"
    }
   ],
   "source": [
    "dfMinerado = pd.get_dummies(dfMinerado, columns=[\"Faixa Etaria\"], drop_first=True)\n",
    "dfMinerado.head()"
   ]
  },
  {
   "cell_type": "markdown",
   "metadata": {
    "id": "TLeIoXsSqbXX"
   },
   "source": [
    "## **Engenharia de recursos(Familiares)**\n",
    "### Baseado nas colunas \"irmaos Conjuge\" e \"Pais e Filhos\""
   ]
  },
  {
   "cell_type": "code",
   "execution_count": 166,
   "metadata": {
    "id": "XVq9CYcToNAQ"
   },
   "outputs": [],
   "source": [
    "dfMinerado[\"Familiares\"] = dfMinerado[\"Irmaos Conjuge\"] + dfMinerado[\"Pais e Filhos\"]"
   ]
  },
  {
   "cell_type": "markdown",
   "metadata": {
    "id": "e__lgYdpreao"
   },
   "source": [
    "## **Visualizando correlação entre \"Familiares\", \"Irmaos Conjuge\" e \"Pais e Filhos\"**"
   ]
  },
  {
   "cell_type": "code",
   "execution_count": 167,
   "metadata": {
    "colab": {
     "base_uri": "https://localhost:8080/",
     "height": 368
    },
    "id": "LofhPCGtrLcN",
    "outputId": "34b030c7-dbcc-402f-f4fc-fcb3c108641f"
   },
   "outputs": [
    {
     "data": {
      "image/png": "[encoded data removed]",
      "text/plain": [
       "<Figure size 600x400 with 2 Axes>"
      ]
     },
     "metadata": {},
     "output_type": "display_data"
    }
   ],
   "source": [
    "plt.figure(dpi=100)\n",
    "sns.heatmap(dfMinerado[[\"Familiares\",\"Irmaos Conjuge\",\"Pais e Filhos\"]].corr(),annot=True,cmap=\"Blues\")\n",
    "plt.show()"
   ]
  },
  {
   "cell_type": "markdown",
   "metadata": {
    "id": "y_lTocP_sls2"
   },
   "source": [
    "#### Obs: Podemos observar que há 86% de correlação entre a coluna \"Familiares\" e \"Irmaos Conjuge\", e 79% de correlação entre \"Pais e Filhos\" e \"Familiares\""
   ]
  },
  {
   "cell_type": "markdown",
   "metadata": {
    "id": "xh0ZilO-wdFy"
   },
   "source": [
    "# **Agora iremos preparar o dataframe para predizer os sobreviventes, para isso, iremos reinserir a coluna sobreviveu no dataframe ja minerado**"
   ]
  },
  {
   "cell_type": "code",
   "execution_count": 168,
   "metadata": {
    "id": "k0Eb8NndwggT"
   },
   "outputs": [],
   "source": [
    "dfMinerado[\"Sobreviveu\"] = df[\"Sobreviveu\"]"
   ]
  },
  {
   "cell_type": "markdown",
   "metadata": {
    "id": "eICdYT6XuI_T"
   },
   "source": [
    "# **Atualizando o train e test**"
   ]
  },
  {
   "cell_type": "code",
   "execution_count": 169,
   "metadata": {
    "id": "xJ8p4km0rOwV"
   },
   "outputs": [],
   "source": [
    "train = dfMinerado.loc[train.index]\n",
    "test = dfMinerado.loc[test.index]\n",
    "test.drop(\"Sobreviveu\", axis=1, inplace=True)"
   ]
  },
  {
   "cell_type": "markdown",
   "metadata": {
    "id": "q6a8Ok9G689x"
   },
   "source": [
    "# **Treinando o modelo**\n",
    "#### X receberá o dataframe inteiro menos a coluna  sobreviveu que iremos predizer, e y receberá apenas a coluna sobreviveu para realizar o treinamento"
   ]
  },
  {
   "cell_type": "code",
   "execution_count": 170,
   "metadata": {
    "id": "3bJBF1zC6yhm"
   },
   "outputs": [],
   "source": [
    "X = train.drop(\"Sobreviveu\", axis=1)\n",
    "y = train[\"Sobreviveu\"]"
   ]
  },
  {
   "cell_type": "code",
   "execution_count": 171,
   "metadata": {
    "colab": {
     "base_uri": "https://localhost:8080/",
     "height": 35
    },
    "id": "kHMTnYs27XUy",
    "outputId": "9a61abb7-36e4-4b7e-9568-36e969a69324"
   },
   "outputs": [
    {
     "data": {
      "text/plain": [
       "((891, 18), (891,))"
      ]
     },
     "execution_count": 171,
     "metadata": {},
     "output_type": "execute_result"
    }
   ],
   "source": [
    "X.shape, y.shape"
   ]
  },
  {
   "cell_type": "markdown",
   "metadata": {
    "id": "fsqS9xsX78_d"
   },
   "source": [
    "#### **Escolhendo colunas ideais para o modelo**"
   ]
  },
  {
   "cell_type": "code",
   "execution_count": 172,
   "metadata": {
    "colab": {
     "base_uri": "https://localhost:8080/",
     "height": 283
    },
    "id": "gDqsafC17Y9S",
    "outputId": "f0f45d9c-2a1f-4888-8dc2-43e2871cb49f"
   },
   "outputs": [
    {
     "data": {
      "text/html": [
       "<div>\n",
       "<style scoped>\n",
       "    .dataframe tbody tr th:only-of-type {\n",
       "        vertical-align: middle;\n",
       "    }\n",
       "\n",
       "    .dataframe tbody tr th {\n",
       "        vertical-align: top;\n",
       "    }\n",
       "\n",
       "    .dataframe thead th {\n",
       "        text-align: right;\n",
       "    }\n",
       "</style>\n",
       "<table border=\"1\" class=\"dataframe\">\n",
       "  <thead>\n",
       "    <tr style=\"text-align: right;\">\n",
       "      <th></th>\n",
       "      <th>Tarifa</th>\n",
       "      <th>Pais e Filhos</th>\n",
       "      <th>Sexo</th>\n",
       "      <th>Irmaos Conjuge</th>\n",
       "      <th>Embarque_Q</th>\n",
       "      <th>Embarque_S</th>\n",
       "      <th>Classe_2</th>\n",
       "      <th>Classe_3</th>\n",
       "      <th>Titulo_HomemAdulto</th>\n",
       "      <th>Titulo_Menino</th>\n",
       "      <th>Titulo_Outros</th>\n",
       "      <th>Titulo_Solteira</th>\n",
       "      <th>Idade</th>\n",
       "      <th>Faixa Etaria_(10.4, 27.8]</th>\n",
       "      <th>Faixa Etaria_(27.8, 45.2]</th>\n",
       "      <th>Faixa Etaria_(45.2, 62.6]</th>\n",
       "      <th>Faixa Etaria_(62.6, 80.0]</th>\n",
       "      <th>Familiares</th>\n",
       "    </tr>\n",
       "    <tr>\n",
       "      <th>PassengerId</th>\n",
       "      <th></th>\n",
       "      <th></th>\n",
       "      <th></th>\n",
       "      <th></th>\n",
       "      <th></th>\n",
       "      <th></th>\n",
       "      <th></th>\n",
       "      <th></th>\n",
       "      <th></th>\n",
       "      <th></th>\n",
       "      <th></th>\n",
       "      <th></th>\n",
       "      <th></th>\n",
       "      <th></th>\n",
       "      <th></th>\n",
       "      <th></th>\n",
       "      <th></th>\n",
       "      <th></th>\n",
       "    </tr>\n",
       "  </thead>\n",
       "  <tbody>\n",
       "    <tr>\n",
       "      <th>1</th>\n",
       "      <td>7.2500</td>\n",
       "      <td>0</td>\n",
       "      <td>0</td>\n",
       "      <td>1</td>\n",
       "      <td>0</td>\n",
       "      <td>1</td>\n",
       "      <td>0</td>\n",
       "      <td>1</td>\n",
       "      <td>1</td>\n",
       "      <td>0</td>\n",
       "      <td>0</td>\n",
       "      <td>0</td>\n",
       "      <td>22</td>\n",
       "      <td>1</td>\n",
       "      <td>0</td>\n",
       "      <td>0</td>\n",
       "      <td>0</td>\n",
       "      <td>1</td>\n",
       "    </tr>\n",
       "    <tr>\n",
       "      <th>2</th>\n",
       "      <td>71.2833</td>\n",
       "      <td>0</td>\n",
       "      <td>1</td>\n",
       "      <td>1</td>\n",
       "      <td>0</td>\n",
       "      <td>0</td>\n",
       "      <td>0</td>\n",
       "      <td>0</td>\n",
       "      <td>0</td>\n",
       "      <td>0</td>\n",
       "      <td>0</td>\n",
       "      <td>0</td>\n",
       "      <td>38</td>\n",
       "      <td>0</td>\n",
       "      <td>1</td>\n",
       "      <td>0</td>\n",
       "      <td>0</td>\n",
       "      <td>1</td>\n",
       "    </tr>\n",
       "    <tr>\n",
       "      <th>3</th>\n",
       "      <td>7.9250</td>\n",
       "      <td>0</td>\n",
       "      <td>1</td>\n",
       "      <td>0</td>\n",
       "      <td>0</td>\n",
       "      <td>1</td>\n",
       "      <td>0</td>\n",
       "      <td>1</td>\n",
       "      <td>0</td>\n",
       "      <td>0</td>\n",
       "      <td>0</td>\n",
       "      <td>1</td>\n",
       "      <td>26</td>\n",
       "      <td>1</td>\n",
       "      <td>0</td>\n",
       "      <td>0</td>\n",
       "      <td>0</td>\n",
       "      <td>0</td>\n",
       "    </tr>\n",
       "    <tr>\n",
       "      <th>4</th>\n",
       "      <td>53.1000</td>\n",
       "      <td>0</td>\n",
       "      <td>1</td>\n",
       "      <td>1</td>\n",
       "      <td>0</td>\n",
       "      <td>1</td>\n",
       "      <td>0</td>\n",
       "      <td>0</td>\n",
       "      <td>0</td>\n",
       "      <td>0</td>\n",
       "      <td>0</td>\n",
       "      <td>0</td>\n",
       "      <td>35</td>\n",
       "      <td>0</td>\n",
       "      <td>1</td>\n",
       "      <td>0</td>\n",
       "      <td>0</td>\n",
       "      <td>1</td>\n",
       "    </tr>\n",
       "    <tr>\n",
       "      <th>5</th>\n",
       "      <td>8.0500</td>\n",
       "      <td>0</td>\n",
       "      <td>0</td>\n",
       "      <td>0</td>\n",
       "      <td>0</td>\n",
       "      <td>1</td>\n",
       "      <td>0</td>\n",
       "      <td>1</td>\n",
       "      <td>1</td>\n",
       "      <td>0</td>\n",
       "      <td>0</td>\n",
       "      <td>0</td>\n",
       "      <td>35</td>\n",
       "      <td>0</td>\n",
       "      <td>1</td>\n",
       "      <td>0</td>\n",
       "      <td>0</td>\n",
       "      <td>0</td>\n",
       "    </tr>\n",
       "  </tbody>\n",
       "</table>\n",
       "</div>"
      ],
      "text/plain": [
       "              Tarifa  Pais e Filhos  Sexo  Irmaos Conjuge  Embarque_Q  \\\n",
       "PassengerId                                                             \n",
       "1             7.2500              0     0               1           0   \n",
       "2            71.2833              0     1               1           0   \n",
       "3             7.9250              0     1               0           0   \n",
       "4            53.1000              0     1               1           0   \n",
       "5             8.0500              0     0               0           0   \n",
       "\n",
       "             Embarque_S  Classe_2  Classe_3  Titulo_HomemAdulto  \\\n",
       "PassengerId                                                       \n",
       "1                     1         0         1                   1   \n",
       "2                     0         0         0                   0   \n",
       "3                     1         0         1                   0   \n",
       "4                     1         0         0                   0   \n",
       "5                     1         0         1                   1   \n",
       "\n",
       "             Titulo_Menino  Titulo_Outros  Titulo_Solteira  Idade  \\\n",
       "PassengerId                                                         \n",
       "1                        0              0                0     22   \n",
       "2                        0              0                0     38   \n",
       "3                        0              0                1     26   \n",
       "4                        0              0                0     35   \n",
       "5                        0              0                0     35   \n",
       "\n",
       "             Faixa Etaria_(10.4, 27.8]  Faixa Etaria_(27.8, 45.2]  \\\n",
       "PassengerId                                                         \n",
       "1                                    1                          0   \n",
       "2                                    0                          1   \n",
       "3                                    1                          0   \n",
       "4                                    0                          1   \n",
       "5                                    0                          1   \n",
       "\n",
       "             Faixa Etaria_(45.2, 62.6]  Faixa Etaria_(62.6, 80.0]  Familiares  \n",
       "PassengerId                                                                    \n",
       "1                                    0                          0           1  \n",
       "2                                    0                          0           1  \n",
       "3                                    0                          0           0  \n",
       "4                                    0                          0           1  \n",
       "5                                    0                          0           0  "
      ]
     },
     "execution_count": 172,
     "metadata": {},
     "output_type": "execute_result"
    }
   ],
   "source": [
    "\n",
    "colunas = ['Tarifa', 'Pais e Filhos', 'Sexo', 'Irmaos Conjuge', 'Embarque_Q',\n",
    "       'Embarque_S', 'Classe_2', 'Classe_3', 'Titulo_HomemAdulto',\n",
    "       'Titulo_Menino', 'Titulo_Outros', 'Titulo_Solteira', 'Idade',\n",
    "       'Faixa Etaria_(10.4, 27.8]', 'Faixa Etaria_(27.8, 45.2]',\n",
    "       'Faixa Etaria_(45.2, 62.6]', 'Faixa Etaria_(62.6, 80.0]', 'Familiares']\n",
    "\n",
    "X = X[colunas]\n",
    "X.head()"
   ]
  },
  {
   "cell_type": "markdown",
   "metadata": {
    "id": "chmu0kuN98Uw"
   },
   "source": [
    "#### **Dividindo em 70% treino e 30% test**"
   ]
  },
  {
   "cell_type": "code",
   "execution_count": 173,
   "metadata": {
    "id": "Eai2Q6Ac8IqY"
   },
   "outputs": [],
   "source": [
    "Xtrain, Xtest, ytrain, ytest = train_test_split(X, y, test_size=0.3, random_state=123)"
   ]
  },
  {
   "cell_type": "markdown",
   "metadata": {
    "id": "VzPnYDS8FODk"
   },
   "source": [
    "# **Machine Learning**\n",
    "### **Importando modelos**"
   ]
  },
  {
   "cell_type": "code",
   "execution_count": 174,
   "metadata": {
    "id": "ZU8L4W1XFb3o"
   },
   "outputs": [],
   "source": [
    "from sklearn.ensemble import (AdaBoostClassifier, \n",
    "                              GradientBoostingClassifier, \n",
    "                              ExtraTreesClassifier,\n",
    "                              RandomForestClassifier)\n",
    "from sklearn.linear_model import LogisticRegression, LinearRegression\n",
    "from sklearn.svm import SVC, LinearSVC\n",
    "from sklearn.neighbors import KNeighborsClassifier\n",
    "from sklearn.naive_bayes import GaussianNB\n",
    "from sklearn.linear_model import Perceptron\n",
    "from sklearn.linear_model import SGDClassifier\n",
    "from sklearn.tree import DecisionTreeClassifier"
   ]
  },
  {
   "cell_type": "markdown",
   "metadata": {
    "id": "wDgkvNGXFlYf"
   },
   "source": [
    "## **Criação de classe para auxiliar a execução dos modelos importados**\n",
    "##### será uma classe para evitar repetições de códigos desnecessária"
   ]
  },
  {
   "cell_type": "code",
   "execution_count": 175,
   "metadata": {
    "id": "0NLW3rj1FheJ"
   },
   "outputs": [],
   "source": [
    "class ModeloAuxiliar(object):\n",
    "    def __init__(self, clf, seed=123, params=None):\n",
    "        if params:\n",
    "            params['random_state'] = seed\n",
    "            self.clf = clf(**params)\n",
    "        else:\n",
    "            self.clf = clf()\n",
    "    def predict(self, x):\n",
    "        return self.clf.predict(x)\n",
    "    \n",
    "    def fit(self,x,y):\n",
    "        return self.clf.fit(x,y)\n",
    "    \n",
    "    def feature_importances(self,x,y):\n",
    "        return self.clf.fit(x,y).feature_importances_\n",
    "    \n",
    "    def score(self,x,y):\n",
    "        return self.clf.score(x,y)"
   ]
  },
  {
   "cell_type": "markdown",
   "metadata": {
    "id": "kiDxqoGVGIJO"
   },
   "source": [
    "## **Dicionario de Modelos Preditivos**"
   ]
  },
  {
   "cell_type": "code",
   "execution_count": 176,
   "metadata": {
    "id": "aA4rz3enGEhs"
   },
   "outputs": [],
   "source": [
    "modelos = [{'nome': 'Logistic Regression',\n",
    "            'modelo': LogisticRegression},\n",
    "           {'nome':'Linear Regression',\n",
    "            'modelo':LinearRegression},\n",
    "           {'nome': 'etree',\n",
    "            'modelo': ExtraTreesClassifier},\n",
    "           {'nome': 'gradboost',\n",
    "             'modelo': GradientBoostingClassifier}, \n",
    "           {'nome': 'adaboost',\n",
    "             'modelo': AdaBoostClassifier},\n",
    "           {'nome': 'SVC',\n",
    "            'modelo': SVC},\n",
    "           {'nome': 'KNN',\n",
    "            'modelo': KNeighborsClassifier},\n",
    "           {'nome': 'GaussianNB',\n",
    "            'modelo': GaussianNB},\n",
    "           {'nome': 'Perceptron',\n",
    "            'modelo': Perceptron},\n",
    "           {'nome': 'LinearSVC',\n",
    "            'modelo': LinearSVC},\n",
    "           {'nome': 'SGD',\n",
    "            'modelo': SGDClassifier},\n",
    "           {'nome': 'Dtree',\n",
    "            'modelo': DecisionTreeClassifier},\n",
    "           {'nome': 'RForest',\n",
    "            'modelo': RandomForestClassifier}\n",
    "          ]"
   ]
  },
  {
   "cell_type": "markdown",
   "metadata": {
    "id": "4_JhdWNLGYuy"
   },
   "source": [
    "## **Executando varios modelos preditivos de uma vez através da classe criada**"
   ]
  },
  {
   "cell_type": "code",
   "execution_count": 177,
   "metadata": {
    "id": "DWj5nngeGMye"
   },
   "outputs": [],
   "source": [
    "resultados = []\n",
    "for model in modelos:\n",
    "    x = ModeloAuxiliar(clf=model['modelo'])\n",
    "    # treinar o modelo\n",
    "    x.fit(Xtrain, ytrain)\n",
    "    \n",
    "    # gerar predicao\n",
    "    x_pred = x.predict(Xtest)\n",
    "    \n",
    "    # gerar score\n",
    "    acuracidade = round(x.score(Xtest,ytest)*100,2)\n",
    "    \n",
    "    resultados.append({'nome': model['nome'],\n",
    "                       'score': acuracidade,\n",
    "                       'pred': x_pred })"
   ]
  },
  {
   "cell_type": "markdown",
   "metadata": {
    "id": "F5X_5Kr9Gyua"
   },
   "source": [
    "# **Ranking de Modelos Por Score**\n",
    "###### [Voltar para início](#topo)\n"
   ]
  },
  {
   "cell_type": "code",
   "execution_count": 178,
   "metadata": {
    "colab": {
     "base_uri": "https://localhost:8080/",
     "height": 438
    },
    "id": "YQNvUIopGdta",
    "outputId": "976984e2-b5ad-4472-df17-a4a94ede3751"
   },
   "outputs": [
    {
     "data": {
      "text/html": [
       "<div>\n",
       "<style scoped>\n",
       "    .dataframe tbody tr th:only-of-type {\n",
       "        vertical-align: middle;\n",
       "    }\n",
       "\n",
       "    .dataframe tbody tr th {\n",
       "        vertical-align: top;\n",
       "    }\n",
       "\n",
       "    .dataframe thead th {\n",
       "        text-align: right;\n",
       "    }\n",
       "</style>\n",
       "<table border=\"1\" class=\"dataframe\">\n",
       "  <thead>\n",
       "    <tr style=\"text-align: right;\">\n",
       "      <th></th>\n",
       "      <th>nome</th>\n",
       "      <th>score</th>\n",
       "    </tr>\n",
       "  </thead>\n",
       "  <tbody>\n",
       "    <tr>\n",
       "      <th>3</th>\n",
       "      <td>gradboost</td>\n",
       "      <td>85.45</td>\n",
       "    </tr>\n",
       "    <tr>\n",
       "      <th>4</th>\n",
       "      <td>adaboost</td>\n",
       "      <td>83.96</td>\n",
       "    </tr>\n",
       "    <tr>\n",
       "      <th>0</th>\n",
       "      <td>Logistic Regression</td>\n",
       "      <td>83.21</td>\n",
       "    </tr>\n",
       "    <tr>\n",
       "      <th>12</th>\n",
       "      <td>RForest</td>\n",
       "      <td>81.72</td>\n",
       "    </tr>\n",
       "    <tr>\n",
       "      <th>10</th>\n",
       "      <td>SGD</td>\n",
       "      <td>80.60</td>\n",
       "    </tr>\n",
       "    <tr>\n",
       "      <th>7</th>\n",
       "      <td>GaussianNB</td>\n",
       "      <td>79.48</td>\n",
       "    </tr>\n",
       "    <tr>\n",
       "      <th>2</th>\n",
       "      <td>etree</td>\n",
       "      <td>79.10</td>\n",
       "    </tr>\n",
       "    <tr>\n",
       "      <th>9</th>\n",
       "      <td>LinearSVC</td>\n",
       "      <td>78.73</td>\n",
       "    </tr>\n",
       "    <tr>\n",
       "      <th>11</th>\n",
       "      <td>Dtree</td>\n",
       "      <td>77.61</td>\n",
       "    </tr>\n",
       "    <tr>\n",
       "      <th>5</th>\n",
       "      <td>SVC</td>\n",
       "      <td>72.76</td>\n",
       "    </tr>\n",
       "    <tr>\n",
       "      <th>6</th>\n",
       "      <td>KNN</td>\n",
       "      <td>72.76</td>\n",
       "    </tr>\n",
       "    <tr>\n",
       "      <th>8</th>\n",
       "      <td>Perceptron</td>\n",
       "      <td>45.90</td>\n",
       "    </tr>\n",
       "    <tr>\n",
       "      <th>1</th>\n",
       "      <td>Linear Regression</td>\n",
       "      <td>45.49</td>\n",
       "    </tr>\n",
       "  </tbody>\n",
       "</table>\n",
       "</div>"
      ],
      "text/plain": [
       "                   nome  score\n",
       "3             gradboost  85.45\n",
       "4              adaboost  83.96\n",
       "0   Logistic Regression  83.21\n",
       "12              RForest  81.72\n",
       "10                  SGD  80.60\n",
       "7            GaussianNB  79.48\n",
       "2                 etree  79.10\n",
       "9             LinearSVC  78.73\n",
       "11                Dtree  77.61\n",
       "5                   SVC  72.76\n",
       "6                   KNN  72.76\n",
       "8            Perceptron  45.90\n",
       "1     Linear Regression  45.49"
      ]
     },
     "execution_count": 178,
     "metadata": {},
     "output_type": "execute_result"
    }
   ],
   "source": [
    "\n",
    "models = pd.DataFrame(resultados)\n",
    "modelos = models[['nome','score']].sort_values(by='score', ascending=False)\n",
    "modelos"
   ]
  }
 ],
 "metadata": {
  "colab": {
   "collapsed_sections": [],
   "name": "AnaliseExploratoria_Titanic.ipynb",
   "provenance": []
  },
  "kernelspec": {
   "display_name": "Python 3",
   "language": "python",
   "name": "python3"
  },
  "language_info": {
   "codemirror_mode": {
    "name": "ipython",
    "version": 3
   },
   "file_extension": ".py",
   "mimetype": "text/x-python",
   "name": "python",
   "nbconvert_exporter": "python",
   "pygments_lexer": "ipython3",
   "version": "3.8.3"
  }
 },
 "nbformat": 4,
 "nbformat_minor": 1
}
